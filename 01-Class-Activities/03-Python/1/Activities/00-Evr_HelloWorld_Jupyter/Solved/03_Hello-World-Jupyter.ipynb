{
 "cells": [
  {
   "cell_type": "markdown",
   "metadata": {},
   "source": [
    "## Create an initial set of variables\n",
    "\n",
    "- Declare and assign values to the `string` varibles, `name` and `country`\n",
    "- Declare and assign values to the `int` varibles, `age` and `hourly_wage` "
   ]
  },
  {
   "cell_type": "code",
   "execution_count": 1,
   "metadata": {},
   "outputs": [],
   "source": [
    "# Create a variable called 'name' that holds a string\n",
    "name = \"Dartanion Kwame\"\n",
    "\n",
    "# Create a variable called 'country' that holds a string\n",
    "country = \"United States\"\n",
    "\n",
    "# Create a variable called 'age' that holds an integer\n",
    "age = 37\n",
    "\n",
    "# Create a variable called 'hourly_wage' that holds an integer\n",
    "hourly_wage = 1250"
   ]
  },
  {
   "cell_type": "markdown",
   "metadata": {},
   "source": [
    "## Compute the daily wage\n",
    "\n",
    "- Multiply `daily_wage` by `8` to get the `hourly_wage`\n",
    "- Indicate how satisfied the user is with their rate"
   ]
  },
  {
   "cell_type": "code",
   "execution_count": 2,
   "metadata": {},
   "outputs": [],
   "source": [
    "# Calculate the daily wage for the user\n",
    "daily_wage = hourly_wage * 8\n",
    "\n",
    "# Create a variable called 'satisfied' that holds a boolean\n",
    "satisfied = True"
   ]
  },
  {
   "cell_type": "markdown",
   "metadata": {},
   "source": [
    "## Print out to the console\n",
    "\n",
    "- Print `Hello World!`\n",
    "- Print out the `name`, `country`, and `age` for the user"
   ]
  },
  {
   "cell_type": "code",
   "execution_count": 3,
   "metadata": {},
   "outputs": [
    {
     "name": "stdout",
     "output_type": "stream",
     "text": [
      "Hello World!\n",
      "And hello Dartanion Kwame!\n",
      "You live in United States\n",
      "You are 37 years old\n"
     ]
    }
   ],
   "source": [
    "# Print out \"Hello World!\"\n",
    "print(\"Hello World!\")\n",
    "\n",
    "# Print out \"Hello <name>!\"\n",
    "print(\"And hello \" + name + \"!\")\n",
    "\n",
    "# Print out what country the user entered\n",
    "print(\"You live in \" + country)\n",
    "\n",
    "# Print out the user's age\n",
    "print(\"You are \" + str(age) + \" years old\")"
   ]
  },
  {
   "cell_type": "markdown",
   "metadata": {},
   "source": [
    "## Print out to the console using an `f-string` \n",
    "\n",
    "- Print the `daily_wage`\n",
    "- Print out how satisfied is the user with their current wage"
   ]
  },
  {
   "cell_type": "code",
   "execution_count": 4,
   "metadata": {},
   "outputs": [
    {
     "name": "stdout",
     "output_type": "stream",
     "text": [
      "You make 10000 per day\n",
      "Are you satisfied with your current wage? True\n"
     ]
    }
   ],
   "source": [
    "# With an f-string, print out the daily wage that was calculated\n",
    "print(f\"You make {daily_wage} per day\")\n",
    "\n",
    "# With an f-string, print out whether the users were satisfied\n",
    "print(f\"Are you satisfied with your current wage? {satisfied}\")"
   ]
  },
  {
   "cell_type": "markdown",
   "metadata": {},
   "source": [
    "## Install Python libraries\n",
    "\n",
    "- Testing the `pip` install process\n",
    "\n",
    "- `pandas` is a library used for data manipulation and analysis\n",
    "- `matplotlib` is a library that allows for data visualization within Python"
   ]
  },
  {
   "cell_type": "code",
   "execution_count": 5,
   "metadata": {},
   "outputs": [],
   "source": [
    "#!pip install pandas\n",
    "#!pip install matplotlib"
   ]
  },
  {
   "cell_type": "markdown",
   "metadata": {},
   "source": [
    "## Import dependencies\n",
    "\n",
    "Importing dependencies allows for them to be used in your program\n",
    "\n",
    "- `pandas` is a library used for data manipulation and analysis\n",
    "- `matplotlib` is a library that allows for data visualization within Python"
   ]
  },
  {
   "cell_type": "code",
   "execution_count": 6,
   "metadata": {},
   "outputs": [],
   "source": [
    "import pandas as pd\n",
    "import matplotlib \n",
    "import matplotlib.pyplot as plt"
   ]
  },
  {
   "cell_type": "markdown",
   "metadata": {},
   "source": [
    "## Read from a `csv` file\n",
    "\n",
    "- Use the `read_csv` function from Pandas\n",
    "- Return only a subset of the `DataFrame`, the `Locality Name` and `Population` columns\n",
    "- Eliminate duplicates\n",
    "- Filter out the locality `Commonwealth of Virginia`\n",
    "- Preview the `DataFrame`"
   ]
  },
  {
   "cell_type": "code",
   "execution_count": 7,
   "metadata": {},
   "outputs": [
    {
     "data": {
      "text/html": [
       "<div>\n",
       "<style scoped>\n",
       "    .dataframe tbody tr th:only-of-type {\n",
       "        vertical-align: middle;\n",
       "    }\n",
       "\n",
       "    .dataframe tbody tr th {\n",
       "        vertical-align: top;\n",
       "    }\n",
       "\n",
       "    .dataframe thead th {\n",
       "        text-align: right;\n",
       "    }\n",
       "</style>\n",
       "<table border=\"1\" class=\"dataframe\">\n",
       "  <thead>\n",
       "    <tr style=\"text-align: right;\">\n",
       "      <th></th>\n",
       "      <th>Locality Type</th>\n",
       "      <th>Locality Name</th>\n",
       "      <th>Population</th>\n",
       "      <th>Service Category</th>\n",
       "      <th>Service</th>\n",
       "      <th>Locality Decision</th>\n",
       "      <th>Source</th>\n",
       "    </tr>\n",
       "  </thead>\n",
       "  <tbody>\n",
       "    <tr>\n",
       "      <td>0</td>\n",
       "      <td>County</td>\n",
       "      <td>Albemarle County</td>\n",
       "      <td>109,722</td>\n",
       "      <td>Budget &amp; Finance</td>\n",
       "      <td>Change to Property Tax</td>\n",
       "      <td>Business Tangible Personal Property/Machinery/...</td>\n",
       "      <td>http://www.albemarle.org/navpages.asp?info=bus...</td>\n",
       "    </tr>\n",
       "    <tr>\n",
       "      <td>1</td>\n",
       "      <td>County</td>\n",
       "      <td>Albemarle County</td>\n",
       "      <td>109,722</td>\n",
       "      <td>Budget &amp; Finance</td>\n",
       "      <td>Change to Real Estate Tax</td>\n",
       "      <td>Deadline to apply to renew Real Estate Tax Rel...</td>\n",
       "      <td>https://www.albemarle.org/navpages.asp?info=re...</td>\n",
       "    </tr>\n",
       "    <tr>\n",
       "      <td>2</td>\n",
       "      <td>County</td>\n",
       "      <td>Albemarle County</td>\n",
       "      <td>109,722</td>\n",
       "      <td>Governance</td>\n",
       "      <td>Council/Board of Supervisors</td>\n",
       "      <td>Yes: Virtual</td>\n",
       "      <td>https://www.albemarle.org/navpages.asp?info=re...</td>\n",
       "    </tr>\n",
       "    <tr>\n",
       "      <td>3</td>\n",
       "      <td>County</td>\n",
       "      <td>Albemarle County</td>\n",
       "      <td>109,722</td>\n",
       "      <td>Governance</td>\n",
       "      <td>Other Boards/Commissions</td>\n",
       "      <td>Cancelled</td>\n",
       "      <td>https://www.albemarle.org/navpages.asp?info=re...</td>\n",
       "    </tr>\n",
       "    <tr>\n",
       "      <td>4</td>\n",
       "      <td>County</td>\n",
       "      <td>Albemarle County</td>\n",
       "      <td>109,722</td>\n",
       "      <td>Human Resources</td>\n",
       "      <td>Tele-working Policy for C-19</td>\n",
       "      <td>Yes</td>\n",
       "      <td>https://www.albemarle.org/navpages.asp?info=re...</td>\n",
       "    </tr>\n",
       "  </tbody>\n",
       "</table>\n",
       "</div>"
      ],
      "text/plain": [
       "  Locality Type     Locality Name Population  Service Category  \\\n",
       "0        County  Albemarle County    109,722  Budget & Finance   \n",
       "1        County  Albemarle County    109,722  Budget & Finance   \n",
       "2        County  Albemarle County    109,722        Governance   \n",
       "3        County  Albemarle County    109,722        Governance   \n",
       "4        County  Albemarle County    109,722  Human Resources    \n",
       "\n",
       "                        Service  \\\n",
       "0        Change to Property Tax   \n",
       "1     Change to Real Estate Tax   \n",
       "2  Council/Board of Supervisors   \n",
       "3      Other Boards/Commissions   \n",
       "4  Tele-working Policy for C-19   \n",
       "\n",
       "                                   Locality Decision  \\\n",
       "0  Business Tangible Personal Property/Machinery/...   \n",
       "1  Deadline to apply to renew Real Estate Tax Rel...   \n",
       "2                                       Yes: Virtual   \n",
       "3                                          Cancelled   \n",
       "4                                                Yes   \n",
       "\n",
       "                                              Source  \n",
       "0  http://www.albemarle.org/navpages.asp?info=bus...  \n",
       "1  https://www.albemarle.org/navpages.asp?info=re...  \n",
       "2  https://www.albemarle.org/navpages.asp?info=re...  \n",
       "3  https://www.albemarle.org/navpages.asp?info=re...  \n",
       "4  https://www.albemarle.org/navpages.asp?info=re...  "
      ]
     },
     "execution_count": 7,
     "metadata": {},
     "output_type": "execute_result"
    }
   ],
   "source": [
    "# Read in a `csv` file into a `DataFrame`\n",
    "covid_df = pd.read_csv('covid-response-va.csv')\n",
    "covid_df.head()"
   ]
  },
  {
   "cell_type": "code",
   "execution_count": 8,
   "metadata": {},
   "outputs": [
    {
     "data": {
      "text/html": [
       "<div>\n",
       "<style scoped>\n",
       "    .dataframe tbody tr th:only-of-type {\n",
       "        vertical-align: middle;\n",
       "    }\n",
       "\n",
       "    .dataframe tbody tr th {\n",
       "        vertical-align: top;\n",
       "    }\n",
       "\n",
       "    .dataframe thead th {\n",
       "        text-align: right;\n",
       "    }\n",
       "</style>\n",
       "<table border=\"1\" class=\"dataframe\">\n",
       "  <thead>\n",
       "    <tr style=\"text-align: right;\">\n",
       "      <th></th>\n",
       "      <th>Locality Name</th>\n",
       "      <th>Population</th>\n",
       "    </tr>\n",
       "  </thead>\n",
       "  <tbody>\n",
       "    <tr>\n",
       "      <td>0</td>\n",
       "      <td>Albemarle County</td>\n",
       "      <td>109722</td>\n",
       "    </tr>\n",
       "    <tr>\n",
       "      <td>14</td>\n",
       "      <td>Alexandria</td>\n",
       "      <td>159152</td>\n",
       "    </tr>\n",
       "    <tr>\n",
       "      <td>32</td>\n",
       "      <td>Arlington County</td>\n",
       "      <td>242152</td>\n",
       "    </tr>\n",
       "    <tr>\n",
       "      <td>49</td>\n",
       "      <td>Blacksburg</td>\n",
       "      <td>44563</td>\n",
       "    </tr>\n",
       "    <tr>\n",
       "      <td>61</td>\n",
       "      <td>Charlottesville</td>\n",
       "      <td>49181</td>\n",
       "    </tr>\n",
       "    <tr>\n",
       "      <td>75</td>\n",
       "      <td>Chesterfield County</td>\n",
       "      <td>350760</td>\n",
       "    </tr>\n",
       "    <tr>\n",
       "      <td>98</td>\n",
       "      <td>Fairfax County</td>\n",
       "      <td>1143528</td>\n",
       "    </tr>\n",
       "    <tr>\n",
       "      <td>113</td>\n",
       "      <td>Hampton</td>\n",
       "      <td>135753</td>\n",
       "    </tr>\n",
       "    <tr>\n",
       "      <td>126</td>\n",
       "      <td>Harrisonburg</td>\n",
       "      <td>53997</td>\n",
       "    </tr>\n",
       "    <tr>\n",
       "      <td>139</td>\n",
       "      <td>Henrico County</td>\n",
       "      <td>328999</td>\n",
       "    </tr>\n",
       "    <tr>\n",
       "      <td>156</td>\n",
       "      <td>Leesburg</td>\n",
       "      <td>54215</td>\n",
       "    </tr>\n",
       "    <tr>\n",
       "      <td>170</td>\n",
       "      <td>Loudoun County</td>\n",
       "      <td>413546</td>\n",
       "    </tr>\n",
       "    <tr>\n",
       "      <td>184</td>\n",
       "      <td>Luray</td>\n",
       "      <td>4817</td>\n",
       "    </tr>\n",
       "    <tr>\n",
       "      <td>188</td>\n",
       "      <td>Lynchburg</td>\n",
       "      <td>82126</td>\n",
       "    </tr>\n",
       "    <tr>\n",
       "      <td>205</td>\n",
       "      <td>Norfolk</td>\n",
       "      <td>245054</td>\n",
       "    </tr>\n",
       "    <tr>\n",
       "      <td>224</td>\n",
       "      <td>Prince William County</td>\n",
       "      <td>465498</td>\n",
       "    </tr>\n",
       "    <tr>\n",
       "      <td>238</td>\n",
       "      <td>Richmond</td>\n",
       "      <td>226841</td>\n",
       "    </tr>\n",
       "    <tr>\n",
       "      <td>250</td>\n",
       "      <td>Roanoke</td>\n",
       "      <td>99348</td>\n",
       "    </tr>\n",
       "    <tr>\n",
       "      <td>263</td>\n",
       "      <td>Stafford County</td>\n",
       "      <td>151689</td>\n",
       "    </tr>\n",
       "    <tr>\n",
       "      <td>276</td>\n",
       "      <td>Staunton</td>\n",
       "      <td>24971</td>\n",
       "    </tr>\n",
       "  </tbody>\n",
       "</table>\n",
       "</div>"
      ],
      "text/plain": [
       "             Locality Name  Population\n",
       "0         Albemarle County      109722\n",
       "14              Alexandria      159152\n",
       "32        Arlington County      242152\n",
       "49              Blacksburg       44563\n",
       "61         Charlottesville       49181\n",
       "75     Chesterfield County      350760\n",
       "98          Fairfax County     1143528\n",
       "113                Hampton      135753\n",
       "126           Harrisonburg       53997\n",
       "139         Henrico County      328999\n",
       "156               Leesburg       54215\n",
       "170         Loudoun County      413546\n",
       "184                  Luray        4817\n",
       "188              Lynchburg       82126\n",
       "205                Norfolk      245054\n",
       "224  Prince William County      465498\n",
       "238               Richmond      226841\n",
       "250                Roanoke       99348\n",
       "263        Stafford County      151689\n",
       "276               Staunton       24971"
      ]
     },
     "execution_count": 8,
     "metadata": {},
     "output_type": "execute_result"
    }
   ],
   "source": [
    "# Drop all columns except `Locality Name` and `Population`\n",
    "covid_df = covid_df[['Locality Name','Population']]\n",
    "\n",
    "# Deduplicate the DataFrame\n",
    "covid_df = covid_df.drop_duplicates()\n",
    "\n",
    "# Filter out the `Commonwealth of Virginia`\n",
    "covid_df = covid_df[covid_df['Locality Name'] != 'Commonwealth of Virginia']\n",
    "\n",
    "# Strip the columns from the Population column\n",
    "covid_df['Population'] = covid_df['Population'].str.replace(',', '')\n",
    "\n",
    "# Convert the population column to numeric so that it can be ploted\n",
    "covid_df['Population'] = pd.to_numeric(covid_df['Population'])\n",
    "\n",
    "# Display top 20 rows from this `DataFrame`\n",
    "covid_df.head(20)"
   ]
  },
  {
   "cell_type": "markdown",
   "metadata": {},
   "source": [
    "# Plot the data\n",
    "\n",
    "Plot a horizontal bar chart for `Locality and Population`"
   ]
  },
  {
   "cell_type": "code",
   "execution_count": 9,
   "metadata": {},
   "outputs": [
    {
     "data": {
      "text/plain": [
       "<matplotlib.axes._subplots.AxesSubplot at 0x2b21b0133c8>"
      ]
     },
     "execution_count": 9,
     "metadata": {},
     "output_type": "execute_result"
    },
    {
     "data": {
      "image/png": "[encoded data removed]",
      "text/plain": [
       "<Figure size 432x288 with 1 Axes>"
      ]
     },
     "metadata": {
      "needs_background": "light"
     },
     "output_type": "display_data"
    }
   ],
   "source": [
    "# Plot a horizontal bar chart for `Locality and Population`\n",
    "covid_df.plot('Locality Name','Population', kind=\"barh\")\n",
    "#plt.show()"
   ]
  },
  {
   "cell_type": "code",
   "execution_count": null,
   "metadata": {},
   "outputs": [],
   "source": []
  }
 ],
 "metadata": {
  "kernelspec": {
   "display_name": "Python 3",
   "language": "python",
   "name": "python3"
  },
  "language_info": {
   "codemirror_mode": {
    "name": "ipython",
    "version": 3
   },
   "file_extension": ".py",
   "mimetype": "text/x-python",
   "name": "python",
   "nbconvert_exporter": "python",
   "pygments_lexer": "ipython3",
   "version": "3.7.4"
  }
 },
 "nbformat": 4,
 "nbformat_minor": 2
}
