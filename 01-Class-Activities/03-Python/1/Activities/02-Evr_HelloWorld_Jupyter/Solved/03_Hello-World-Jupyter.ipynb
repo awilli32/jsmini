{
 "cells": [
  {
   "cell_type": "markdown",
   "metadata": {},
   "source": [
    "## Create an initial set of variables\n",
    "\n",
    "- Declare and assign values to the `string` varibles, `name` and `country`\n",
    "- Declare and assign values to the `int` varibles, `age` and `hourly_wage` "
   ]
  },
  {
   "cell_type": "code",
   "execution_count": null,
   "metadata": {},
   "outputs": [],
   "source": [
    "# Create a variable called 'name' that holds a string\n",
    "name = \"Dartanion Kwame\"\n",
    "\n",
    "# Create a variable called 'country' that holds a string\n",
    "country = \"United States\"\n",
    "\n",
    "# Create a variable called 'age' that holds an integer\n",
    "age = 37\n",
    "\n",
    "# Create a variable called 'hourly_wage' that holds an integer\n",
    "hourly_wage = 1250"
   ]
  },
  {
   "cell_type": "markdown",
   "metadata": {},
   "source": [
    "## Compute the daily wage\n",
    "\n",
    "- Multiply `daily_wage` by `8` to get the `hourly_wage`\n",
    "- Indicate how satisfied the user is with their rate"
   ]
  },
  {
   "cell_type": "code",
   "execution_count": null,
   "metadata": {},
   "outputs": [],
   "source": [
    "# Calculate the daily wage for the user\n",
    "daily_wage = hourly_wage * 8\n",
    "\n",
    "# Create a variable called 'satisfied' that holds a boolean\n",
    "satisfied = True"
   ]
  },
  {
   "cell_type": "markdown",
   "metadata": {},
   "source": [
    "## Print out to the console\n",
    "\n",
    "- Print `Hello World!`\n",
    "- Print out the `name`, `country`, and `age` for the user"
   ]
  },
  {
   "cell_type": "code",
   "execution_count": null,
   "metadata": {},
   "outputs": [],
   "source": [
    "# Print out \"Hello World!\"\n",
    "print(\"Hello World!\")\n",
    "\n",
    "# Print out \"Hello <name>!\"\n",
    "print(\"And hello \" + name + \"!\")\n",
    "\n",
    "# Print out what country the user entered\n",
    "print(\"You live in \" + country)\n",
    "\n",
    "# Print out the user's age\n",
    "print(\"You are \" + str(age) + \" years old\")"
   ]
  },
  {
   "cell_type": "markdown",
   "metadata": {},
   "source": [
    "## Print out to the console using an `f-string` \n",
    "\n",
    "- Print the `daily_wage`\n",
    "- Print out how satisfied is the user with their current wage"
   ]
  },
  {
   "cell_type": "code",
   "execution_count": null,
   "metadata": {},
   "outputs": [],
   "source": [
    "# With an f-string, print out the daily wage that was calculated\n",
    "print(f\"You make {daily_wage} per day\")\n",
    "\n",
    "# With an f-string, print out whether the users were satisfied\n",
    "print(f\"Are you satisfied with your current wage? {satisfied}\")"
   ]
  },
  {
   "cell_type": "markdown",
   "metadata": {},
   "source": [
    "## Install Python libraries\n",
    "\n",
    "- Testing the `pip` install process\n",
    "\n",
    "- `pandas` is a library used for data manipulation and analysis\n",
    "- `matplotlib` is a library that allows for data visualization within Python"
   ]
  },
  {
   "cell_type": "code",
   "execution_count": null,
   "metadata": {},
   "outputs": [],
   "source": [
    "#!pip install pandas\n",
    "#!pip install matplotlib"
   ]
  },
  {
   "cell_type": "markdown",
   "metadata": {},
   "source": [
    "## Import dependencies\n",
    "\n",
    "Importing dependencies allows for them to be used in your program\n",
    "\n",
    "- `pandas` is a library used for data manipulation and analysis\n",
    "- `matplotlib` is a library that allows for data visualization within Python"
   ]
  },
  {
   "cell_type": "code",
   "execution_count": null,
   "metadata": {},
   "outputs": [],
   "source": [
    "import pandas as pd\n",
    "import matplotlib \n",
    "import matplotlib.pyplot as plt"
   ]
  },
  {
   "cell_type": "markdown",
   "metadata": {},
   "source": [
    "## Read from a `csv` file\n",
    "\n",
    "- Use the `read_csv` function from Pandas\n",
    "- Return only a subset of the `DataFrame`, the `Locality Name` and `Population` columns\n",
    "- Eliminate duplicates\n",
    "- Filter out the locality `Commonwealth of Virginia`\n",
    "- Preview the `DataFrame`"
   ]
  },
  {
   "cell_type": "code",
   "execution_count": null,
   "metadata": {},
   "outputs": [],
   "source": [
    "# Read in a `csv` file into a `DataFrame`\n",
    "covid_df = pd.read_csv('covid-response-va.csv')\n",
    "covid_df.head()"
   ]
  },
  {
   "cell_type": "code",
   "execution_count": null,
   "metadata": {},
   "outputs": [],
   "source": [
    "# Drop all columns except `Locality Name` and `Population`\n",
    "covid_df = covid_df[['Locality Name','Population']]\n",
    "\n",
    "# Deduplicate the DataFrame\n",
    "covid_df = covid_df.drop_duplicates()\n",
    "\n",
    "# Filter out the `Commonwealth of Virginia`\n",
    "covid_df = covid_df[covid_df['Locality Name'] != 'Commonwealth of Virginia']\n",
    "\n",
    "# Strip the columns from the Population column\n",
    "covid_df['Population'] = covid_df['Population'].str.replace(',', '')\n",
    "\n",
    "# Convert the population column to numeric so that it can be ploted\n",
    "covid_df['Population'] = pd.to_numeric(covid_df['Population'])\n",
    "\n",
    "# Display top 20 rows from this `DataFrame`\n",
    "covid_df.head(20)"
   ]
  },
  {
   "cell_type": "markdown",
   "metadata": {},
   "source": [
    "# Plot the data\n",
    "\n",
    "Plot a horizontal bar chart for `Locality and Population`"
   ]
  },
  {
   "cell_type": "code",
   "execution_count": null,
   "metadata": {},
   "outputs": [],
   "source": [
    "# Plot a horizontal bar chart for `Locality and Population`\n",
    "covid_df.plot('Locality Name','Population', kind=\"barh\")\n",
    "#plt.show()"
   ]
  },
  {
   "cell_type": "code",
   "execution_count": null,
   "metadata": {},
   "outputs": [],
   "source": []
  }
 ],
 "metadata": {
  "kernelspec": {
   "display_name": "Python 3",
   "language": "python",
   "name": "python3"
  },
  "language_info": {
   "codemirror_mode": {
    "name": "ipython",
    "version": 3
   },
   "file_extension": ".py",
   "mimetype": "text/x-python",
   "name": "python",
   "nbconvert_exporter": "python",
   "pygments_lexer": "ipython3",
   "version": "3.7.4"
  }
 },
 "nbformat": 4,
 "nbformat_minor": 2
}
