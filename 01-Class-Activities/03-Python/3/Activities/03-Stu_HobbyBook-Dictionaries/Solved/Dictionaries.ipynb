{
 "cells": [
  {
   "cell_type": "code",
   "execution_count": 5,
   "metadata": {},
   "outputs": [],
   "source": [
    "# %% Dictionary full of info\n",
    "my_info = {\n",
    "            \"name\": \"Jackson\",\n",
    "            \"occupation\": \"Shiba Inu\",\n",
    "            \"age\": 5,\n",
    "            \"hobbies\": [\"barking\", \"eating\", \"sleeping\", \"loving my owner\"],\n",
    "            \"wake-up\": {\"Mon\": 5, \"Friday\": 5, \"Saturday\": 10, \"Sunday\": 9}\n",
    "        }"
   ]
  },
  {
   "cell_type": "code",
   "execution_count": 10,
   "metadata": {},
   "outputs": [
    {
     "name": "stdout",
     "output_type": "stream",
     "text": [
      "Hello I am Jackson and I am a Shiba Inu\n",
      "I have 4 hobbies!\n",
      "On the weekend I get up at 10\n"
     ]
    }
   ],
   "source": [
    "# %% Print out results are stored in the dictionary\n",
    "print(f'Hello I am {my_info[\"name\"]} and I am a {my_info[\"occupation\"]}')\n",
    "print(f\"I have {len(my_info['hobbies'])} hobbies!\")\n",
    "print(f'On the weekend I get up at {my_info[\"wake-up\"][\"Saturday\"]}')"
   ]
  },
  {
   "cell_type": "code",
   "execution_count": 17,
   "metadata": {},
   "outputs": [
    {
     "name": "stdout",
     "output_type": "stream",
     "text": [
      "Mon: 5\n",
      "Friday: 5\n",
      "Saturday: 10\n",
      "Sunday: 9\n"
     ]
    }
   ],
   "source": [
    "for k, v in my_info['wake-up'].items():\n",
    "    print(f'{k}: {v}')"
   ]
  }
 ],
 "metadata": {
  "kernelspec": {
   "display_name": "Python 3",
   "language": "python",
   "name": "python3"
  },
  "language_info": {
   "codemirror_mode": {
    "name": "ipython",
    "version": 3
   },
   "file_extension": ".py",
   "mimetype": "text/x-python",
   "name": "python",
   "nbconvert_exporter": "python",
   "pygments_lexer": "ipython3",
   "version": "3.7.4"
  }
 },
 "nbformat": 4,
 "nbformat_minor": 2
}
