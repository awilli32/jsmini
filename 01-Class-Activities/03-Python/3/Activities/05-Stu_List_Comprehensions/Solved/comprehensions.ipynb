{
 "cells": [
  {
   "cell_type": "code",
   "execution_count": 6,
   "metadata": {},
   "outputs": [
    {
     "name": "stdout",
     "output_type": "stream",
     "text": [
      "Please enter the name of someone you know. RIGBY\n",
      "Please enter the name of someone you know. THOMAS\n",
      "Please enter the name of someone you know. ANgelA\n",
      "Please enter the name of someone you know. ToLU\n",
      "Please enter the name of someone you know. DesirEE\n"
     ]
    }
   ],
   "source": [
    "names = []\n",
    "\n",
    "for _ in range(5):\n",
    "    name = input(\"Please enter the name of someone you know. \")\n",
    "    names.append(name)"
   ]
  },
  {
   "cell_type": "code",
   "execution_count": 8,
   "metadata": {},
   "outputs": [
    {
     "data": {
      "text/plain": [
       "['RIGBY', 'THOMAS', 'ANgelA', 'ToLU', 'DesirEE']"
      ]
     },
     "execution_count": 8,
     "metadata": {},
     "output_type": "execute_result"
    }
   ],
   "source": [
    "names"
   ]
  },
  {
   "cell_type": "code",
   "execution_count": 9,
   "metadata": {},
   "outputs": [
    {
     "data": {
      "text/plain": [
       "['Rigby', 'Thomas', 'Angela', 'Tolu', 'Desiree']"
      ]
     },
     "execution_count": 9,
     "metadata": {},
     "output_type": "execute_result"
    }
   ],
   "source": [
    "# lowercased = [name.lower() for name in names]\n",
    "titlecased = [name.title() for name in names]\n",
    "titlecased"
   ]
  },
  {
   "cell_type": "code",
   "execution_count": 10,
   "metadata": {},
   "outputs": [],
   "source": [
    "invitations = [\n",
    "    f\"Dear {name}, please come to the wedding this Saturday!\" for name in titlecased]"
   ]
  },
  {
   "cell_type": "code",
   "execution_count": 11,
   "metadata": {},
   "outputs": [
    {
     "name": "stdout",
     "output_type": "stream",
     "text": [
      "Dear Rigby, please come to the wedding this Saturday!\n",
      "Dear Thomas, please come to the wedding this Saturday!\n",
      "Dear Angela, please come to the wedding this Saturday!\n",
      "Dear Tolu, please come to the wedding this Saturday!\n",
      "Dear Desiree, please come to the wedding this Saturday!\n"
     ]
    }
   ],
   "source": [
    "for invitation in invitations:\n",
    "    print(invitation)"
   ]
  }
 ],
 "metadata": {
  "kernelspec": {
   "display_name": "Python 3",
   "language": "python",
   "name": "python3"
  },
  "language_info": {
   "codemirror_mode": {
    "name": "ipython",
    "version": 3
   },
   "file_extension": ".py",
   "mimetype": "text/x-python",
   "name": "python",
   "nbconvert_exporter": "python",
   "pygments_lexer": "ipython3",
   "version": "3.7.4"
  }
 },
 "nbformat": 4,
 "nbformat_minor": 2
}
