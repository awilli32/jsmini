{
 "cells": [
  {
   "cell_type": "code",
   "execution_count": null,
   "metadata": {},
   "outputs": [],
   "source": [
    "names = []\n",
    "for _ in range(5):\n",
    "    name = input(\"Please enter the name of someone you know. \")\n",
    "    names.append(name)"
   ]
  },
  {
   "cell_type": "code",
   "execution_count": null,
   "metadata": {},
   "outputs": [],
   "source": [
    "# @TODO: Use a list comprehension to create a list of lowercased names\n",
    "lowercased = [\"YOUR CODE HERE!\"]"
   ]
  },
  {
   "cell_type": "code",
   "execution_count": null,
   "metadata": {},
   "outputs": [],
   "source": [
    "# @TODO: Use a list comprehension to create a list of titlecased names\n",
    "# https://www.tutorialspoint.com/python/string_title.htm\n",
    "titlecased = [\"YOUR CODE HERE!\"]"
   ]
  },
  {
   "cell_type": "code",
   "execution_count": null,
   "metadata": {},
   "outputs": [],
   "source": [
    "invitations = [\n",
    "    f\"Dear {name}, please come to the wedding this Saturday!\" for name in titlecased]\n",
    "\n",
    "for invitation in invitations:\n",
    "    print(invitation)"
   ]
  }
 ],
 "metadata": {
  "kernelspec": {
   "display_name": "Python 3",
   "language": "python",
   "name": "python3"
  },
  "language_info": {
   "codemirror_mode": {
    "name": "ipython",
    "version": 3
   },
   "file_extension": ".py",
   "mimetype": "text/x-python",
   "name": "python",
   "nbconvert_exporter": "python",
   "pygments_lexer": "ipython3",
   "version": "3.7.4"
  }
 },
 "nbformat": 4,
 "nbformat_minor": 2
}
