{
 "cells": [
  {
   "cell_type": "code",
   "execution_count": 8,
   "metadata": {},
   "outputs": [],
   "source": [
    "# %% Write a function that returns the arithmetic average for a list of numbers\n",
    "def average(numbers):\n",
    "    length = len(numbers)\n",
    "    total = sum(numbers)\n",
    "    return total / length"
   ]
  },
  {
   "cell_type": "code",
   "execution_count": 17,
   "metadata": {},
   "outputs": [
    {
     "name": "stdout",
     "output_type": "stream",
     "text": [
      "5.0\n",
      "2.0\n",
      "9.75\n",
      "98.0\n"
     ]
    }
   ],
   "source": [
    "# %% Test your function with the following:\n",
    "print(average([1, 5, 9]))\n",
    "print(average(range(5)))\n",
    "print(average([2, 3, 23, 11]))\n",
    "\n",
    "sveena = average([99,100,98,95])\n",
    "print(sveena)"
   ]
  }
 ],
 "metadata": {
  "kernelspec": {
   "display_name": "Python 3",
   "language": "python",
   "name": "python3"
  },
  "language_info": {
   "codemirror_mode": {
    "name": "ipython",
    "version": 3
   },
   "file_extension": ".py",
   "mimetype": "text/x-python",
   "name": "python",
   "nbconvert_exporter": "python",
   "pygments_lexer": "ipython3",
   "version": "3.7.4"
  }
 },
 "nbformat": 4,
 "nbformat_minor": 2
}
