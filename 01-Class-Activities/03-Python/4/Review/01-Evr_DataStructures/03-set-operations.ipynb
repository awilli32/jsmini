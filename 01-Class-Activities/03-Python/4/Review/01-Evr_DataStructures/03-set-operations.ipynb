{
 "cells": [
  {
   "cell_type": "code",
   "execution_count": null,
   "metadata": {},
   "outputs": [],
   "source": [
    "# -*- coding: UTF-8 -*-\n",
    "\"\"\"Set Operations.\"\"\"\n",
    "\n",
    "#%%"
   ]
  },
  {
   "cell_type": "code",
   "execution_count": null,
   "metadata": {},
   "outputs": [],
   "source": [
    "# Declare two `set` objects called `hero1` and `hero2`\n",
    "\n",
    "print('\\n\\n************\\n   Declare two `set` objects called `hero1` and `hero2`\\n************')\n",
    "hero1 = {\"smart\", \"rich\", \"armored\", \"martial_artist\", \"strong\"}\n",
    "hero2 = {\"smart\", \"fast\", \"strong\", \"invulnerable\", \"antigravity\"}"
   ]
  },
  {
   "cell_type": "code",
   "execution_count": null,
   "metadata": {},
   "outputs": [],
   "source": [
    "#%%\n",
    "\n",
    "# Show the data type for the two new sets\n",
    "print('\\n\\n************\\n   Show the data type for the two new sets\\n************')\n",
    "hero1_type = type(hero1)\n",
    "hero2_type = type(hero2)\n",
    "\n",
    "print(f'hero1 is of type: {hero1_type}')\n",
    "print(f'hero2 is of type: {hero2_type}')"
   ]
  },
  {
   "cell_type": "code",
   "execution_count": null,
   "metadata": {},
   "outputs": [],
   "source": [
    "#%%\n",
    "\n",
    "# Attributes for both heros (union)\n",
    "print('\\n\\n************\\n   Attributes for both sets\\n************')\n",
    "hero1 | hero2\n",
    "hero1.union(hero2)\n",
    "\n",
    "#%%\n",
    "\n",
    "# Attributes common to both heros (intersection)\n",
    "print('\\n\\n************\\n   Attributes common to both sets (intersection)\\n************')\n",
    "hero1 & hero2\n",
    "hero1.intersection(hero2)"
   ]
  },
  {
   "cell_type": "code",
   "execution_count": null,
   "metadata": {},
   "outputs": [],
   "source": [
    "#%%\n",
    "\n",
    "# Attributes in hero1 that are not in hero2 (difference)\n",
    "print('\\n\\n************\\n   Attributes in hero1 that are not in hero2 (difference)\\n************')\n",
    "hero1 - hero2\n",
    "hero1.difference(hero2)"
   ]
  },
  {
   "cell_type": "code",
   "execution_count": null,
   "metadata": {},
   "outputs": [],
   "source": [
    "#%%\n",
    "\n",
    "# Attributes in hero2 that are not in hero1 (difference)\n",
    "print('\\n\\n************\\n   Attributes in hero2 that are not in hero1 (difference)\\n************')\n",
    "\n",
    "hero2 - hero1\n",
    "hero2.difference(hero1)"
   ]
  },
  {
   "cell_type": "code",
   "execution_count": null,
   "metadata": {},
   "outputs": [],
   "source": [
    "#%%\n",
    "\n",
    "# Attributes for hero1 or hero2 but not both (symmetric difference)\n",
    "print('\\n\\n************\\n   Attributes for hero1 or hero2 but not both (symmetric difference)\\n************')\n",
    "hero1 ^ hero2\n",
    "hero1.symmetric_difference(hero2)"
   ]
  }
 ],
 "metadata": {
  "kernelspec": {
   "display_name": "Python 3",
   "language": "python",
   "name": "python3"
  },
  "language_info": {
   "codemirror_mode": {
    "name": "ipython",
    "version": 3
   },
   "file_extension": ".py",
   "mimetype": "text/x-python",
   "name": "python",
   "nbconvert_exporter": "python",
   "pygments_lexer": "ipython3",
   "version": "3.7.4"
  }
 },
 "nbformat": 4,
 "nbformat_minor": 2
}
