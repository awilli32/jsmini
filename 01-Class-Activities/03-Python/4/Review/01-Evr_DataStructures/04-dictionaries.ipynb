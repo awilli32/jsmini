{
 "cells": [
  {
   "cell_type": "code",
   "execution_count": null,
   "metadata": {},
   "outputs": [],
   "source": [
    "#%%\n",
    "# import json to use json.dumps()\n",
    "import json"
   ]
  },
  {
   "cell_type": "code",
   "execution_count": null,
   "metadata": {},
   "outputs": [],
   "source": [
    "#%%\n",
    "# ---------------------------------------------------------------\n",
    "# Unlike lists, dictionaries store information in pairs\n",
    "\n",
    "# A list of actors\n",
    "actors = [\"Tom Cruise\",\n",
    "          \"Angelina Jolie\",\n",
    "          \"Kristen Stewart\",\n",
    "          \"Denzel Washington\"]\n",
    "\n",
    "# A dictionary of an actor-\n",
    "actor = {\"name\": \"Tom Cruise\"}\n",
    "\n",
    "#print(actor)\n",
    "print(json.dumps(actor, indent=4))\n",
    "#%%\n",
    "# ---------------------------------------------------------------"
   ]
  },
  {
   "cell_type": "code",
   "execution_count": null,
   "metadata": {},
   "outputs": [],
   "source": [
    "# A dictionary can contain multiple pairs of information\n",
    "actress = {\n",
    "    \"name\": \"Angelina Jolie\",\n",
    "    \"genre\": \"Action\",\n",
    "    \"nationality\": \"United States\"\n",
    "}"
   ]
  },
  {
   "cell_type": "code",
   "execution_count": null,
   "metadata": {},
   "outputs": [],
   "source": [
    "#print(actress)\n",
    "print(json.dumps(actress, indent=4))\n",
    "#%%\n",
    "# ---------------------------------------------------------------\n",
    "\n",
    "# A dictionary can contain multiple types of information\n",
    "another_actor = {\n",
    "    \"name\": \"Sylvester Stallone\",\n",
    "    \"age\": 62,\n",
    "    \"married\": True,\n",
    "    \"best movies\": [\n",
    "        \"Rocky\",\n",
    "        \"Rocky 2\",\n",
    "        \"Rocky 3\"]}\n",
    "\n",
    "print(f'{another_actor[\"name\"]} was in {another_actor[\"best movies\"][2]}')\n",
    "\n",
    "#print(another_actor)\n",
    "#print(json.dumps(another_actor, indent=4))\n",
    "# ---------------------------------------------------------------"
   ]
  },
  {
   "cell_type": "code",
   "execution_count": null,
   "metadata": {},
   "outputs": [],
   "source": [
    "#%%\n",
    "# A dictionary can even contain another dictionary\n",
    "film = {\n",
    "    \"title\": \"Interstellar\",\n",
    "    \"revenues\": {\n",
    "        \"United States\": 360,\n",
    "        \"China\": 250,\n",
    "        \"United Kingdom\": 73\n",
    "    }\n",
    "}\n",
    "\n",
    "print(f'{film[\"title\"]} made {film[\"revenues\"][\"United States\"]}'\" in the US.\")"
   ]
  },
  {
   "cell_type": "code",
   "execution_count": null,
   "metadata": {},
   "outputs": [],
   "source": [
    "#print(film)\n",
    "print(json.dumps(film, indent=4))"
   ]
  },
  {
   "cell_type": "code",
   "execution_count": null,
   "metadata": {},
   "outputs": [],
   "source": [
    "#%%\n",
    "# ---------------------------------------------------------------\n",
    "for k, v in another_actor.items():\n",
    "    \n",
    "    if(k == 'name'):\n",
    "        name = v\n",
    "    \n",
    "    if(k == 'best movies'):\n",
    "        for val in v:\n",
    "            print(f'{name} was in {val}')"
   ]
  }
 ],
 "metadata": {
  "kernelspec": {
   "display_name": "Python 3",
   "language": "python",
   "name": "python3"
  },
  "language_info": {
   "codemirror_mode": {
    "name": "ipython",
    "version": 3
   },
   "file_extension": ".py",
   "mimetype": "text/x-python",
   "name": "python",
   "nbconvert_exporter": "python",
   "pygments_lexer": "ipython3",
   "version": "3.7.4"
  }
 },
 "nbformat": 4,
 "nbformat_minor": 2
}
