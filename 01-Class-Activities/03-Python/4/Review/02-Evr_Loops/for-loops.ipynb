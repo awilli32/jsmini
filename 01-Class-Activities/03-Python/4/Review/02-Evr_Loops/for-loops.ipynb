{
 "cells": [
  {
   "cell_type": "code",
   "execution_count": null,
   "metadata": {},
   "outputs": [],
   "source": [
    "#%%\n",
    "\n",
    "#Loop through a range of numbers (0 through 4)\n",
    "for x in range(5):\n",
    "    print(x)\n",
    "\n",
    "print(\"-----------------------------------------\")"
   ]
  },
  {
   "cell_type": "code",
   "execution_count": null,
   "metadata": {},
   "outputs": [],
   "source": [
    "#%%\n",
    "# A For loop moves through a given range of numbers\n",
    "# If only one number is provided it will loop from 0 to that number\n",
    "for x in range(10):\n",
    "    print(x)"
   ]
  },
  {
   "cell_type": "code",
   "execution_count": null,
   "metadata": {},
   "outputs": [],
   "source": [
    "#%%\n",
    "# If two numbers are provided then a For loop will loop from the first number up until it reaches the second number\n",
    "for x in range(20, 30, 2):\n",
    "    print(x)"
   ]
  },
  {
   "cell_type": "code",
   "execution_count": null,
   "metadata": {},
   "outputs": [],
   "source": [
    "#%%\n",
    "# Loop through a range of numbers (2 through 6 - yes 6! Up to, but not including, 7)\n",
    "for x in range(2, 7):\n",
    "    print(x)"
   ]
  },
  {
   "cell_type": "code",
   "execution_count": null,
   "metadata": {},
   "outputs": [],
   "source": [
    "print(\"----------------------------------------\")\n",
    "\n",
    "#%%\n",
    "# Iterate through letters in a string\n",
    "word = \"Peace\"\n",
    "\n",
    "for l in range(len(word)):\n",
    "    # print(l)\n",
    "    \n",
    "    print(f\"{word[l]} is character {l + 1} in the word {word}\")\n",
    "    \n",
    "    #P is character 1 in the word Peace\n",
    "    #e is character 2 in the word Peace"
   ]
  },
  {
   "cell_type": "code",
   "execution_count": null,
   "metadata": {},
   "outputs": [],
   "source": [
    "print(\"----------------------------------------\")\n",
    "\n",
    "#%%\n",
    "# Iterate through a list\n",
    "zoo = [\"cow\", \"dog\", \"bee\", \"zebra\"]\n",
    "for animal in zoo:\n",
    "    print(animal)"
   ]
  },
  {
   "cell_type": "code",
   "execution_count": null,
   "metadata": {},
   "outputs": [],
   "source": [
    "print(\"----------------------------------------\")\n",
    "#%%\n",
    "# If a list is provided, then the For loop will loop through each element within the list\n",
    "words = [\"Peanut\", \"Butter\", \"Jelly\", \"Time\", \"Is\", \"Now\"]\n",
    "for word in words:\n",
    "    print(word)"
   ]
  }
 ],
 "metadata": {
  "kernelspec": {
   "display_name": "Python 3",
   "language": "python",
   "name": "python3"
  },
  "language_info": {
   "codemirror_mode": {
    "name": "ipython",
    "version": 3
   },
   "file_extension": ".py",
   "mimetype": "text/x-python",
   "name": "python",
   "nbconvert_exporter": "python",
   "pygments_lexer": "ipython3",
   "version": "3.7.4"
  }
 },
 "nbformat": 4,
 "nbformat_minor": 2
}
