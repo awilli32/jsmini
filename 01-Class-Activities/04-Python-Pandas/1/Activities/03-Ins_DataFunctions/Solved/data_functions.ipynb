{
 "cells": [
  {
   "cell_type": "code",
   "execution_count": 43,
   "metadata": {},
   "outputs": [],
   "source": [
    "# Dependencies\n",
    "import pandas as pd"
   ]
  },
  {
   "cell_type": "code",
   "execution_count": 2,
   "metadata": {},
   "outputs": [],
   "source": [
    "# Save path to data set in a variable\n",
    "data_file = \"Resources/dataSet.csv\""
   ]
  },
  {
   "cell_type": "code",
   "execution_count": 18,
   "metadata": {},
   "outputs": [
    {
     "data": {
      "text/html": [
       "<div>\n",
       "<style scoped>\n",
       "    .dataframe tbody tr th:only-of-type {\n",
       "        vertical-align: middle;\n",
       "    }\n",
       "\n",
       "    .dataframe tbody tr th {\n",
       "        vertical-align: top;\n",
       "    }\n",
       "\n",
       "    .dataframe thead th {\n",
       "        text-align: right;\n",
       "    }\n",
       "</style>\n",
       "<table border=\"1\" class=\"dataframe\">\n",
       "  <thead>\n",
       "    <tr style=\"text-align: right;\">\n",
       "      <th></th>\n",
       "      <th>id</th>\n",
       "      <th>First Name</th>\n",
       "      <th>Last Name</th>\n",
       "      <th>Gender</th>\n",
       "      <th>Amount</th>\n",
       "    </tr>\n",
       "  </thead>\n",
       "  <tbody>\n",
       "    <tr>\n",
       "      <td>0</td>\n",
       "      <td>1</td>\n",
       "      <td>Todd</td>\n",
       "      <td>Lopez</td>\n",
       "      <td>M</td>\n",
       "      <td>8067.7</td>\n",
       "    </tr>\n",
       "    <tr>\n",
       "      <td>1</td>\n",
       "      <td>2</td>\n",
       "      <td>Joshua</td>\n",
       "      <td>White</td>\n",
       "      <td>M</td>\n",
       "      <td>7330.1</td>\n",
       "    </tr>\n",
       "    <tr>\n",
       "      <td>2</td>\n",
       "      <td>3</td>\n",
       "      <td>Mary</td>\n",
       "      <td>Lewis</td>\n",
       "      <td>F</td>\n",
       "      <td>16335.0</td>\n",
       "    </tr>\n",
       "    <tr>\n",
       "      <td>3</td>\n",
       "      <td>4</td>\n",
       "      <td>Emily</td>\n",
       "      <td>Burns</td>\n",
       "      <td>F</td>\n",
       "      <td>12460.8</td>\n",
       "    </tr>\n",
       "    <tr>\n",
       "      <td>4</td>\n",
       "      <td>5</td>\n",
       "      <td>Christina</td>\n",
       "      <td>Romero</td>\n",
       "      <td>F</td>\n",
       "      <td>15271.9</td>\n",
       "    </tr>\n",
       "    <tr>\n",
       "      <td>5</td>\n",
       "      <td>6</td>\n",
       "      <td>Raymond</td>\n",
       "      <td>Andrews</td>\n",
       "      <td>M</td>\n",
       "      <td>7036.9</td>\n",
       "    </tr>\n",
       "    <tr>\n",
       "      <td>6</td>\n",
       "      <td>7</td>\n",
       "      <td>Sandra</td>\n",
       "      <td>Baker</td>\n",
       "      <td>F</td>\n",
       "      <td>14002.2</td>\n",
       "    </tr>\n",
       "    <tr>\n",
       "      <td>7</td>\n",
       "      <td>8</td>\n",
       "      <td>Todd</td>\n",
       "      <td>Diaz</td>\n",
       "      <td>M</td>\n",
       "      <td>10911.0</td>\n",
       "    </tr>\n",
       "    <tr>\n",
       "      <td>8</td>\n",
       "      <td>9</td>\n",
       "      <td>Alice</td>\n",
       "      <td>Burke</td>\n",
       "      <td>F</td>\n",
       "      <td>14198.8</td>\n",
       "    </tr>\n",
       "    <tr>\n",
       "      <td>9</td>\n",
       "      <td>10</td>\n",
       "      <td>Wayne</td>\n",
       "      <td>Richards</td>\n",
       "      <td>M</td>\n",
       "      <td>16410.5</td>\n",
       "    </tr>\n",
       "    <tr>\n",
       "      <td>10</td>\n",
       "      <td>11</td>\n",
       "      <td>Brian</td>\n",
       "      <td>Hansen</td>\n",
       "      <td>M</td>\n",
       "      <td>15029.4</td>\n",
       "    </tr>\n",
       "    <tr>\n",
       "      <td>11</td>\n",
       "      <td>12</td>\n",
       "      <td>Johnny</td>\n",
       "      <td>Tucker</td>\n",
       "      <td>M</td>\n",
       "      <td>16205.6</td>\n",
       "    </tr>\n",
       "    <tr>\n",
       "      <td>12</td>\n",
       "      <td>13</td>\n",
       "      <td>Ronald</td>\n",
       "      <td>Wheeler</td>\n",
       "      <td>M</td>\n",
       "      <td>57.9</td>\n",
       "    </tr>\n",
       "    <tr>\n",
       "      <td>13</td>\n",
       "      <td>14</td>\n",
       "      <td>John</td>\n",
       "      <td>Turner</td>\n",
       "      <td>M</td>\n",
       "      <td>19909.3</td>\n",
       "    </tr>\n",
       "    <tr>\n",
       "      <td>14</td>\n",
       "      <td>15</td>\n",
       "      <td>Steven</td>\n",
       "      <td>Reynolds</td>\n",
       "      <td>M</td>\n",
       "      <td>11316.5</td>\n",
       "    </tr>\n",
       "    <tr>\n",
       "      <td>15</td>\n",
       "      <td>16</td>\n",
       "      <td>Pamela</td>\n",
       "      <td>Carpenter</td>\n",
       "      <td>F</td>\n",
       "      <td>5170.4</td>\n",
       "    </tr>\n",
       "    <tr>\n",
       "      <td>16</td>\n",
       "      <td>17</td>\n",
       "      <td>Stephen</td>\n",
       "      <td>Scott</td>\n",
       "      <td>M</td>\n",
       "      <td>16331.1</td>\n",
       "    </tr>\n",
       "    <tr>\n",
       "      <td>17</td>\n",
       "      <td>18</td>\n",
       "      <td>Larry</td>\n",
       "      <td>Ryan</td>\n",
       "      <td>M</td>\n",
       "      <td>18337.8</td>\n",
       "    </tr>\n",
       "    <tr>\n",
       "      <td>18</td>\n",
       "      <td>19</td>\n",
       "      <td>Jeffrey</td>\n",
       "      <td>Marshall</td>\n",
       "      <td>M</td>\n",
       "      <td>19482.5</td>\n",
       "    </tr>\n",
       "    <tr>\n",
       "      <td>19</td>\n",
       "      <td>20</td>\n",
       "      <td>Betty</td>\n",
       "      <td>Fernandez</td>\n",
       "      <td>F</td>\n",
       "      <td>16394.4</td>\n",
       "    </tr>\n",
       "  </tbody>\n",
       "</table>\n",
       "</div>"
      ],
      "text/plain": [
       "    id First Name  Last Name Gender   Amount\n",
       "0    1       Todd      Lopez      M   8067.7\n",
       "1    2     Joshua      White      M   7330.1\n",
       "2    3       Mary      Lewis      F  16335.0\n",
       "3    4      Emily      Burns      F  12460.8\n",
       "4    5  Christina     Romero      F  15271.9\n",
       "5    6    Raymond    Andrews      M   7036.9\n",
       "6    7     Sandra      Baker      F  14002.2\n",
       "7    8       Todd       Diaz      M  10911.0\n",
       "8    9      Alice      Burke      F  14198.8\n",
       "9   10      Wayne   Richards      M  16410.5\n",
       "10  11      Brian     Hansen      M  15029.4\n",
       "11  12     Johnny     Tucker      M  16205.6\n",
       "12  13     Ronald    Wheeler      M     57.9\n",
       "13  14       John     Turner      M  19909.3\n",
       "14  15     Steven   Reynolds      M  11316.5\n",
       "15  16     Pamela  Carpenter      F   5170.4\n",
       "16  17    Stephen      Scott      M  16331.1\n",
       "17  18      Larry       Ryan      M  18337.8\n",
       "18  19    Jeffrey   Marshall      M  19482.5\n",
       "19  20      Betty  Fernandez      F  16394.4"
      ]
     },
     "execution_count": 18,
     "metadata": {},
     "output_type": "execute_result"
    }
   ],
   "source": [
    "# Use Pandas to read data\n",
    "data_file_df = pd.read_csv(data_file)\n",
    "data_file_df.head(20)"
   ]
  },
  {
   "cell_type": "code",
   "execution_count": 4,
   "metadata": {
    "inputHidden": false,
    "outputHidden": false
   },
   "outputs": [
    {
     "data": {
      "text/html": [
       "<div>\n",
       "<style scoped>\n",
       "    .dataframe tbody tr th:only-of-type {\n",
       "        vertical-align: middle;\n",
       "    }\n",
       "\n",
       "    .dataframe tbody tr th {\n",
       "        vertical-align: top;\n",
       "    }\n",
       "\n",
       "    .dataframe thead th {\n",
       "        text-align: right;\n",
       "    }\n",
       "</style>\n",
       "<table border=\"1\" class=\"dataframe\">\n",
       "  <thead>\n",
       "    <tr style=\"text-align: right;\">\n",
       "      <th></th>\n",
       "      <th>id</th>\n",
       "      <th>Amount</th>\n",
       "    </tr>\n",
       "  </thead>\n",
       "  <tbody>\n",
       "    <tr>\n",
       "      <th>count</th>\n",
       "      <td>1000.000000</td>\n",
       "      <td>1000.000000</td>\n",
       "    </tr>\n",
       "    <tr>\n",
       "      <th>mean</th>\n",
       "      <td>500.500000</td>\n",
       "      <td>10051.323600</td>\n",
       "    </tr>\n",
       "    <tr>\n",
       "      <th>std</th>\n",
       "      <td>288.819436</td>\n",
       "      <td>5831.230806</td>\n",
       "    </tr>\n",
       "    <tr>\n",
       "      <th>min</th>\n",
       "      <td>1.000000</td>\n",
       "      <td>3.400000</td>\n",
       "    </tr>\n",
       "    <tr>\n",
       "      <th>25%</th>\n",
       "      <td>250.750000</td>\n",
       "      <td>4854.875000</td>\n",
       "    </tr>\n",
       "    <tr>\n",
       "      <th>50%</th>\n",
       "      <td>500.500000</td>\n",
       "      <td>10318.050000</td>\n",
       "    </tr>\n",
       "    <tr>\n",
       "      <th>75%</th>\n",
       "      <td>750.250000</td>\n",
       "      <td>15117.425000</td>\n",
       "    </tr>\n",
       "    <tr>\n",
       "      <th>max</th>\n",
       "      <td>1000.000000</td>\n",
       "      <td>19987.400000</td>\n",
       "    </tr>\n",
       "  </tbody>\n",
       "</table>\n",
       "</div>"
      ],
      "text/plain": [
       "                id        Amount\n",
       "count  1000.000000   1000.000000\n",
       "mean    500.500000  10051.323600\n",
       "std     288.819436   5831.230806\n",
       "min       1.000000      3.400000\n",
       "25%     250.750000   4854.875000\n",
       "50%     500.500000  10318.050000\n",
       "75%     750.250000  15117.425000\n",
       "max    1000.000000  19987.400000"
      ]
     },
     "execution_count": 4,
     "metadata": {},
     "output_type": "execute_result"
    }
   ],
   "source": [
    "# Display a statistical overview of the DataFrame\n",
    "data_file_df.describe()"
   ]
  },
  {
   "cell_type": "code",
   "execution_count": 31,
   "metadata": {},
   "outputs": [
    {
     "data": {
      "text/plain": [
       "0         Todd\n",
       "1       Joshua\n",
       "2         Mary\n",
       "3        Emily\n",
       "4    Christina\n",
       "Name: First Name, dtype: object"
      ]
     },
     "execution_count": 31,
     "metadata": {},
     "output_type": "execute_result"
    }
   ],
   "source": [
    "# Reference a single column within a DataFrame\n",
    "data_file_df['First Name'].head()"
   ]
  },
  {
   "cell_type": "code",
   "execution_count": 30,
   "metadata": {},
   "outputs": [
    {
     "data": {
      "text/html": [
       "<div>\n",
       "<style scoped>\n",
       "    .dataframe tbody tr th:only-of-type {\n",
       "        vertical-align: middle;\n",
       "    }\n",
       "\n",
       "    .dataframe tbody tr th {\n",
       "        vertical-align: top;\n",
       "    }\n",
       "\n",
       "    .dataframe thead th {\n",
       "        text-align: right;\n",
       "    }\n",
       "</style>\n",
       "<table border=\"1\" class=\"dataframe\">\n",
       "  <thead>\n",
       "    <tr style=\"text-align: right;\">\n",
       "      <th></th>\n",
       "      <th>First Name</th>\n",
       "      <th>Last Name</th>\n",
       "      <th>Amount</th>\n",
       "    </tr>\n",
       "  </thead>\n",
       "  <tbody>\n",
       "    <tr>\n",
       "      <td>0</td>\n",
       "      <td>Todd</td>\n",
       "      <td>Lopez</td>\n",
       "      <td>8067.7</td>\n",
       "    </tr>\n",
       "    <tr>\n",
       "      <td>1</td>\n",
       "      <td>Joshua</td>\n",
       "      <td>White</td>\n",
       "      <td>7330.1</td>\n",
       "    </tr>\n",
       "    <tr>\n",
       "      <td>2</td>\n",
       "      <td>Mary</td>\n",
       "      <td>Lewis</td>\n",
       "      <td>16335.0</td>\n",
       "    </tr>\n",
       "    <tr>\n",
       "      <td>3</td>\n",
       "      <td>Emily</td>\n",
       "      <td>Burns</td>\n",
       "      <td>12460.8</td>\n",
       "    </tr>\n",
       "    <tr>\n",
       "      <td>4</td>\n",
       "      <td>Christina</td>\n",
       "      <td>Romero</td>\n",
       "      <td>15271.9</td>\n",
       "    </tr>\n",
       "  </tbody>\n",
       "</table>\n",
       "</div>"
      ],
      "text/plain": [
       "  First Name Last Name   Amount\n",
       "0       Todd     Lopez   8067.7\n",
       "1     Joshua     White   7330.1\n",
       "2       Mary     Lewis  16335.0\n",
       "3      Emily     Burns  12460.8\n",
       "4  Christina    Romero  15271.9"
      ]
     },
     "execution_count": 30,
     "metadata": {},
     "output_type": "execute_result"
    }
   ],
   "source": [
    "# Reference multiple columns within a DataFrame\n",
    "\n",
    "\n",
    "data_file_df[[\"First Name\", \"Last Name\", \"Amount\"]].head()"
   ]
  },
  {
   "cell_type": "code",
   "execution_count": 33,
   "metadata": {},
   "outputs": [
    {
     "data": {
      "text/plain": [
       "10051.323600000002"
      ]
     },
     "execution_count": 33,
     "metadata": {},
     "output_type": "execute_result"
    }
   ],
   "source": [
    "# The mean method averages the series\n",
    "average = data_file_df[\"Amount\"].mean()\n",
    "average"
   ]
  },
  {
   "cell_type": "code",
   "execution_count": 35,
   "metadata": {},
   "outputs": [
    {
     "data": {
      "text/plain": [
       "10051323.600000001"
      ]
     },
     "execution_count": 35,
     "metadata": {},
     "output_type": "execute_result"
    }
   ],
   "source": [
    "# The sum method adds every entry in the series\n",
    "total = data_file_df[\"Amount\"].sum()\n",
    "total"
   ]
  },
  {
   "cell_type": "code",
   "execution_count": 37,
   "metadata": {
    "scrolled": false
   },
   "outputs": [
    {
     "data": {
      "text/plain": [
       "242"
      ]
     },
     "execution_count": 37,
     "metadata": {},
     "output_type": "execute_result"
    }
   ],
   "source": [
    "# The unique method shows every element of the series that appears only once\n",
    "unique = data_file_df[\"Last Name\"].unique()\n",
    "unique"
   ]
  },
  {
   "cell_type": "code",
   "execution_count": 40,
   "metadata": {},
   "outputs": [
    {
     "data": {
      "text/plain": [
       "M    515\n",
       "F    485\n",
       "Name: Gender, dtype: int64"
      ]
     },
     "execution_count": 40,
     "metadata": {},
     "output_type": "execute_result"
    }
   ],
   "source": [
    "# The value_counts method counts unique values in a column\n",
    "count = data_file_df[\"Gender\"].value_counts()\n",
    "count"
   ]
  },
  {
   "cell_type": "code",
   "execution_count": 42,
   "metadata": {},
   "outputs": [
    {
     "data": {
      "text/html": [
       "<div>\n",
       "<style scoped>\n",
       "    .dataframe tbody tr th:only-of-type {\n",
       "        vertical-align: middle;\n",
       "    }\n",
       "\n",
       "    .dataframe tbody tr th {\n",
       "        vertical-align: top;\n",
       "    }\n",
       "\n",
       "    .dataframe thead th {\n",
       "        text-align: right;\n",
       "    }\n",
       "</style>\n",
       "<table border=\"1\" class=\"dataframe\">\n",
       "  <thead>\n",
       "    <tr style=\"text-align: right;\">\n",
       "      <th></th>\n",
       "      <th>id</th>\n",
       "      <th>First Name</th>\n",
       "      <th>Last Name</th>\n",
       "      <th>Gender</th>\n",
       "      <th>Amount</th>\n",
       "      <th>Thousands of Dollars</th>\n",
       "    </tr>\n",
       "  </thead>\n",
       "  <tbody>\n",
       "    <tr>\n",
       "      <td>0</td>\n",
       "      <td>1</td>\n",
       "      <td>Todd</td>\n",
       "      <td>Lopez</td>\n",
       "      <td>M</td>\n",
       "      <td>8067.7</td>\n",
       "      <td>8.0677</td>\n",
       "    </tr>\n",
       "    <tr>\n",
       "      <td>1</td>\n",
       "      <td>2</td>\n",
       "      <td>Joshua</td>\n",
       "      <td>White</td>\n",
       "      <td>M</td>\n",
       "      <td>7330.1</td>\n",
       "      <td>7.3301</td>\n",
       "    </tr>\n",
       "    <tr>\n",
       "      <td>2</td>\n",
       "      <td>3</td>\n",
       "      <td>Mary</td>\n",
       "      <td>Lewis</td>\n",
       "      <td>F</td>\n",
       "      <td>16335.0</td>\n",
       "      <td>16.3350</td>\n",
       "    </tr>\n",
       "    <tr>\n",
       "      <td>3</td>\n",
       "      <td>4</td>\n",
       "      <td>Emily</td>\n",
       "      <td>Burns</td>\n",
       "      <td>F</td>\n",
       "      <td>12460.8</td>\n",
       "      <td>12.4608</td>\n",
       "    </tr>\n",
       "    <tr>\n",
       "      <td>4</td>\n",
       "      <td>5</td>\n",
       "      <td>Christina</td>\n",
       "      <td>Romero</td>\n",
       "      <td>F</td>\n",
       "      <td>15271.9</td>\n",
       "      <td>15.2719</td>\n",
       "    </tr>\n",
       "  </tbody>\n",
       "</table>\n",
       "</div>"
      ],
      "text/plain": [
       "   id First Name Last Name Gender   Amount  Thousands of Dollars\n",
       "0   1       Todd     Lopez      M   8067.7                8.0677\n",
       "1   2     Joshua     White      M   7330.1                7.3301\n",
       "2   3       Mary     Lewis      F  16335.0               16.3350\n",
       "3   4      Emily     Burns      F  12460.8               12.4608\n",
       "4   5  Christina    Romero      F  15271.9               15.2719"
      ]
     },
     "execution_count": 42,
     "metadata": {},
     "output_type": "execute_result"
    }
   ],
   "source": [
    "# Calculations can also be performed on Series and added into DataFrames as new columns\n",
    "thousands_of_dollars = data_file_df[\"Amount\"]/1000\n",
    "data_file_df[\"Thousands of Dollars\"] = thousands_of_dollars\n",
    "\n",
    "data_file_df.head()"
   ]
  }
 ],
 "metadata": {
  "anaconda-cloud": {},
  "kernel_info": {
   "name": "python3"
  },
  "kernelspec": {
   "display_name": "Python 3",
   "language": "python",
   "name": "python3"
  },
  "language_info": {
   "codemirror_mode": {
    "name": "ipython",
    "version": 3
   },
   "file_extension": ".py",
   "mimetype": "text/x-python",
   "name": "python",
   "nbconvert_exporter": "python",
   "pygments_lexer": "ipython3",
   "version": "3.7.4"
  },
  "nteract": {
   "version": "0.2.0"
  }
 },
 "nbformat": 4,
 "nbformat_minor": 2
}
