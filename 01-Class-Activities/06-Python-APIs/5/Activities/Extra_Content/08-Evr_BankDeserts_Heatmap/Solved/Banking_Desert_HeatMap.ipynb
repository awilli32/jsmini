{
 "cells": [
  {
   "cell_type": "markdown",
   "metadata": {},
   "source": [
    "# Banking and Poverty\n",
    "---\n",
    "The below script explores the relationship between states with high poverty rates and bank counts per state.\n",
    "\n",
    "In this script, we retrieved and plotted data from the 2013 US Census and Google Places API to show the relationship between various socioeconomic parameters and bank count across 700 randomly selected zip codes. We used Pandas, Numpy, Matplotlib, Requests, Census API, and Google API to accomplish our task."
   ]
  },
  {
   "cell_type": "code",
   "execution_count": 1,
   "metadata": {},
   "outputs": [],
   "source": [
    "#!pip install us"
   ]
  },
  {
   "cell_type": "code",
   "execution_count": 2,
   "metadata": {},
   "outputs": [],
   "source": [
    "# Dependencies\n",
    "from census import Census\n",
    "from config import (census_key, gkey)\n",
    "import gmaps\n",
    "import numpy as np\n",
    "import pandas as pd\n",
    "import requests\n",
    "import time\n",
    "from us import states\n",
    "from scipy.stats import linregress\n",
    "from matplotlib import pyplot as plt\n",
    "\n",
    "\n",
    "# Census API Key\n",
    "c = Census(census_key, year=2013)"
   ]
  },
  {
   "cell_type": "markdown",
   "metadata": {},
   "source": [
    "## Data Retrieval"
   ]
  },
  {
   "cell_type": "code",
   "execution_count": 3,
   "metadata": {},
   "outputs": [
    {
     "name": "stdout",
     "output_type": "stream",
     "text": [
      "33120\n"
     ]
    },
    {
     "data": {
      "text/html": [
       "<div>\n",
       "<style scoped>\n",
       "    .dataframe tbody tr th:only-of-type {\n",
       "        vertical-align: middle;\n",
       "    }\n",
       "\n",
       "    .dataframe tbody tr th {\n",
       "        vertical-align: top;\n",
       "    }\n",
       "\n",
       "    .dataframe thead th {\n",
       "        text-align: right;\n",
       "    }\n",
       "</style>\n",
       "<table border=\"1\" class=\"dataframe\">\n",
       "  <thead>\n",
       "    <tr style=\"text-align: right;\">\n",
       "      <th></th>\n",
       "      <th>Zipcode</th>\n",
       "      <th>Population</th>\n",
       "      <th>Poverty Rate</th>\n",
       "    </tr>\n",
       "  </thead>\n",
       "  <tbody>\n",
       "    <tr>\n",
       "      <td>0</td>\n",
       "      <td>01832</td>\n",
       "      <td>22121.0</td>\n",
       "      <td>10.903666</td>\n",
       "    </tr>\n",
       "    <tr>\n",
       "      <td>1</td>\n",
       "      <td>01833</td>\n",
       "      <td>8295.0</td>\n",
       "      <td>2.302592</td>\n",
       "    </tr>\n",
       "    <tr>\n",
       "      <td>2</td>\n",
       "      <td>01834</td>\n",
       "      <td>6675.0</td>\n",
       "      <td>2.187266</td>\n",
       "    </tr>\n",
       "    <tr>\n",
       "      <td>3</td>\n",
       "      <td>01835</td>\n",
       "      <td>13527.0</td>\n",
       "      <td>8.523693</td>\n",
       "    </tr>\n",
       "    <tr>\n",
       "      <td>4</td>\n",
       "      <td>01840</td>\n",
       "      <td>4547.0</td>\n",
       "      <td>39.542556</td>\n",
       "    </tr>\n",
       "  </tbody>\n",
       "</table>\n",
       "</div>"
      ],
      "text/plain": [
       "  Zipcode  Population  Poverty Rate\n",
       "0   01832     22121.0     10.903666\n",
       "1   01833      8295.0      2.302592\n",
       "2   01834      6675.0      2.187266\n",
       "3   01835     13527.0      8.523693\n",
       "4   01840      4547.0     39.542556"
      ]
     },
     "execution_count": 3,
     "metadata": {},
     "output_type": "execute_result"
    }
   ],
   "source": [
    "# Run Census Search to retrieve data on all zip codes (2013 ACS5 Census)\n",
    "# See: https://github.com/CommerceDataService/census-wrapper for library documentation\n",
    "# See: https://gist.github.com/afhaque/60558290d6efd892351c4b64e5c01e9b for labels\n",
    "census_data = c.acs5.get((\"B01003_001E\", \"B17001_002E\"), {'for': 'zip code tabulation area:*'})\n",
    "\n",
    "# Convert to DataFrame\n",
    "census_pd = pd.DataFrame(census_data)\n",
    "\n",
    "# Column Reordering\n",
    "census_pd = census_pd.rename(columns={\"B01003_001E\": \"Population\",\n",
    "                                      \"B17001_002E\": \"Poverty Count\",\n",
    "                                      \"zip code tabulation area\": \"Zipcode\"})\n",
    "\n",
    "# Add in Poverty Rate (Poverty Count / Population)\n",
    "census_pd[\"Poverty Rate\"] = 100 * \\\n",
    "    census_pd[\"Poverty Count\"].astype(\n",
    "        int) / census_pd[\"Population\"].astype(int)\n",
    "\n",
    "# Final DataFrame\n",
    "census_pd = census_pd[[\"Zipcode\", \"Population\", \"Poverty Rate\"]]\n",
    "\n",
    "# Visualize\n",
    "print(len(census_pd))\n",
    "census_pd.head()"
   ]
  },
  {
   "cell_type": "markdown",
   "metadata": {},
   "source": [
    "## Combine Data"
   ]
  },
  {
   "cell_type": "code",
   "execution_count": 4,
   "metadata": {},
   "outputs": [
    {
     "data": {
      "text/html": [
       "<div>\n",
       "<style scoped>\n",
       "    .dataframe tbody tr th:only-of-type {\n",
       "        vertical-align: middle;\n",
       "    }\n",
       "\n",
       "    .dataframe tbody tr th {\n",
       "        vertical-align: top;\n",
       "    }\n",
       "\n",
       "    .dataframe thead th {\n",
       "        text-align: right;\n",
       "    }\n",
       "</style>\n",
       "<table border=\"1\" class=\"dataframe\">\n",
       "  <thead>\n",
       "    <tr style=\"text-align: right;\">\n",
       "      <th></th>\n",
       "      <th>Zipcode</th>\n",
       "      <th>Address</th>\n",
       "      <th>Median Age</th>\n",
       "      <th>Household Income</th>\n",
       "      <th>Per Capita Income</th>\n",
       "      <th>Lat</th>\n",
       "      <th>Lng</th>\n",
       "      <th>Bank Count</th>\n",
       "    </tr>\n",
       "  </thead>\n",
       "  <tbody>\n",
       "    <tr>\n",
       "      <td>0</td>\n",
       "      <td>27358</td>\n",
       "      <td>Summerfield, NC 27358, USA</td>\n",
       "      <td>43.0</td>\n",
       "      <td>88382.0</td>\n",
       "      <td>40210</td>\n",
       "      <td>36.2345022</td>\n",
       "      <td>-79.8856824</td>\n",
       "      <td>4</td>\n",
       "    </tr>\n",
       "    <tr>\n",
       "      <td>1</td>\n",
       "      <td>14113</td>\n",
       "      <td>North Java, NY 14113, USA</td>\n",
       "      <td>45.6</td>\n",
       "      <td>47500.0</td>\n",
       "      <td>33149</td>\n",
       "      <td>42.6839855</td>\n",
       "      <td>-78.3273245</td>\n",
       "      <td>0</td>\n",
       "    </tr>\n",
       "    <tr>\n",
       "      <td>2</td>\n",
       "      <td>71825</td>\n",
       "      <td>Blevins, AR 71825, USA</td>\n",
       "      <td>32.6</td>\n",
       "      <td>35625.0</td>\n",
       "      <td>13098</td>\n",
       "      <td>33.8682784</td>\n",
       "      <td>-93.5509074</td>\n",
       "      <td>2</td>\n",
       "    </tr>\n",
       "    <tr>\n",
       "      <td>3</td>\n",
       "      <td>32535</td>\n",
       "      <td>Century, FL 32535, USA</td>\n",
       "      <td>37.8</td>\n",
       "      <td>34107.0</td>\n",
       "      <td>13066</td>\n",
       "      <td>30.9724762</td>\n",
       "      <td>-87.3711477</td>\n",
       "      <td>0</td>\n",
       "    </tr>\n",
       "    <tr>\n",
       "      <td>4</td>\n",
       "      <td>5483</td>\n",
       "      <td>Sheldon, VT 05483, USA</td>\n",
       "      <td>35.9</td>\n",
       "      <td>65039.0</td>\n",
       "      <td>24743</td>\n",
       "      <td>46.7386596</td>\n",
       "      <td>-92.2825137</td>\n",
       "      <td>2</td>\n",
       "    </tr>\n",
       "  </tbody>\n",
       "</table>\n",
       "</div>"
      ],
      "text/plain": [
       "  Zipcode                     Address Median Age Household Income  \\\n",
       "0   27358  Summerfield, NC 27358, USA       43.0          88382.0   \n",
       "1   14113   North Java, NY 14113, USA       45.6          47500.0   \n",
       "2   71825      Blevins, AR 71825, USA       32.6          35625.0   \n",
       "3   32535      Century, FL 32535, USA       37.8          34107.0   \n",
       "4    5483      Sheldon, VT 05483, USA       35.9          65039.0   \n",
       "\n",
       "  Per Capita Income         Lat          Lng Bank Count  \n",
       "0             40210  36.2345022  -79.8856824          4  \n",
       "1             33149  42.6839855  -78.3273245          0  \n",
       "2             13098  33.8682784  -93.5509074          2  \n",
       "3             13066  30.9724762  -87.3711477          0  \n",
       "4             24743  46.7386596  -92.2825137          2  "
      ]
     },
     "execution_count": 4,
     "metadata": {},
     "output_type": "execute_result"
    }
   ],
   "source": [
    "# Import the zip bank data. Use dtype=\"object\" to ensure all data is read in accurately.\n",
    "census_data_original = pd.read_csv(\n",
    "    \"../Resources/zip_bank_data.csv\", dtype=\"object\", encoding=\"utf-8\")\n",
    "\n",
    "# Visualize\n",
    "census_data_original.head()"
   ]
  },
  {
   "cell_type": "code",
   "execution_count": 5,
   "metadata": {},
   "outputs": [
    {
     "data": {
      "text/html": [
       "<div>\n",
       "<style scoped>\n",
       "    .dataframe tbody tr th:only-of-type {\n",
       "        vertical-align: middle;\n",
       "    }\n",
       "\n",
       "    .dataframe tbody tr th {\n",
       "        vertical-align: top;\n",
       "    }\n",
       "\n",
       "    .dataframe thead th {\n",
       "        text-align: right;\n",
       "    }\n",
       "</style>\n",
       "<table border=\"1\" class=\"dataframe\">\n",
       "  <thead>\n",
       "    <tr style=\"text-align: right;\">\n",
       "      <th></th>\n",
       "      <th>Zipcode</th>\n",
       "      <th>Address</th>\n",
       "      <th>Median Age</th>\n",
       "      <th>Household Income</th>\n",
       "      <th>Per Capita Income</th>\n",
       "      <th>Lat</th>\n",
       "      <th>Lng</th>\n",
       "      <th>Bank Count</th>\n",
       "      <th>Population</th>\n",
       "      <th>Poverty Rate</th>\n",
       "    </tr>\n",
       "  </thead>\n",
       "  <tbody>\n",
       "    <tr>\n",
       "      <td>0</td>\n",
       "      <td>27358</td>\n",
       "      <td>Summerfield, NC 27358, USA</td>\n",
       "      <td>43.0</td>\n",
       "      <td>88382.0</td>\n",
       "      <td>40210</td>\n",
       "      <td>36.2345022</td>\n",
       "      <td>-79.8856824</td>\n",
       "      <td>4</td>\n",
       "      <td>14998.0</td>\n",
       "      <td>4.320576</td>\n",
       "    </tr>\n",
       "    <tr>\n",
       "      <td>1</td>\n",
       "      <td>14113</td>\n",
       "      <td>North Java, NY 14113, USA</td>\n",
       "      <td>45.6</td>\n",
       "      <td>47500.0</td>\n",
       "      <td>33149</td>\n",
       "      <td>42.6839855</td>\n",
       "      <td>-78.3273245</td>\n",
       "      <td>0</td>\n",
       "      <td>630.0</td>\n",
       "      <td>10.317460</td>\n",
       "    </tr>\n",
       "    <tr>\n",
       "      <td>2</td>\n",
       "      <td>71825</td>\n",
       "      <td>Blevins, AR 71825, USA</td>\n",
       "      <td>32.6</td>\n",
       "      <td>35625.0</td>\n",
       "      <td>13098</td>\n",
       "      <td>33.8682784</td>\n",
       "      <td>-93.5509074</td>\n",
       "      <td>2</td>\n",
       "      <td>686.0</td>\n",
       "      <td>36.151603</td>\n",
       "    </tr>\n",
       "    <tr>\n",
       "      <td>3</td>\n",
       "      <td>32535</td>\n",
       "      <td>Century, FL 32535, USA</td>\n",
       "      <td>37.8</td>\n",
       "      <td>34107.0</td>\n",
       "      <td>13066</td>\n",
       "      <td>30.9724762</td>\n",
       "      <td>-87.3711477</td>\n",
       "      <td>0</td>\n",
       "      <td>6015.0</td>\n",
       "      <td>14.280964</td>\n",
       "    </tr>\n",
       "    <tr>\n",
       "      <td>5</td>\n",
       "      <td>59820</td>\n",
       "      <td>Alberton, MT 59820, USA</td>\n",
       "      <td>47.2</td>\n",
       "      <td>45956.0</td>\n",
       "      <td>26394</td>\n",
       "      <td>46.9478744</td>\n",
       "      <td>-114.5809081</td>\n",
       "      <td>0</td>\n",
       "      <td>1241.0</td>\n",
       "      <td>12.167607</td>\n",
       "    </tr>\n",
       "  </tbody>\n",
       "</table>\n",
       "</div>"
      ],
      "text/plain": [
       "  Zipcode                     Address Median Age Household Income  \\\n",
       "0   27358  Summerfield, NC 27358, USA       43.0          88382.0   \n",
       "1   14113   North Java, NY 14113, USA       45.6          47500.0   \n",
       "2   71825      Blevins, AR 71825, USA       32.6          35625.0   \n",
       "3   32535      Century, FL 32535, USA       37.8          34107.0   \n",
       "5   59820     Alberton, MT 59820, USA       47.2          45956.0   \n",
       "\n",
       "  Per Capita Income         Lat           Lng Bank Count  Population  \\\n",
       "0             40210  36.2345022   -79.8856824          4     14998.0   \n",
       "1             33149  42.6839855   -78.3273245          0       630.0   \n",
       "2             13098  33.8682784   -93.5509074          2       686.0   \n",
       "3             13066  30.9724762   -87.3711477          0      6015.0   \n",
       "5             26394  46.9478744  -114.5809081          0      1241.0   \n",
       "\n",
       "   Poverty Rate  \n",
       "0      4.320576  \n",
       "1     10.317460  \n",
       "2     36.151603  \n",
       "3     14.280964  \n",
       "5     12.167607  "
      ]
     },
     "execution_count": 5,
     "metadata": {},
     "output_type": "execute_result"
    }
   ],
   "source": [
    "# Merge the two data sets along zip code\n",
    "census_data_complete = pd.merge(\n",
    "    census_data_original, census_pd, how=\"left\", on=[\"Zipcode\", \"Zipcode\"])\n",
    "\n",
    "# Remove rows missing data\n",
    "census_data_complete = census_data_complete.dropna()\n",
    "\n",
    "# Visualize\n",
    "census_data_complete.head()"
   ]
  },
  {
   "cell_type": "markdown",
   "metadata": {},
   "source": [
    "## Heatmap of Poverty Rate"
   ]
  },
  {
   "cell_type": "code",
   "execution_count": 6,
   "metadata": {},
   "outputs": [],
   "source": [
    "# Configure gmaps with API key\n",
    "gmaps.configure(api_key=gkey)"
   ]
  },
  {
   "cell_type": "code",
   "execution_count": 7,
   "metadata": {},
   "outputs": [],
   "source": [
    "# Store 'Lat' and 'Lng' into  locations \n",
    "locations = census_data_complete[[\"Lat\", \"Lng\"]].astype(float)\n",
    "\n",
    "# Convert Poverty Rate to float and store\n",
    "# HINT: be sure to handle NaN values\n",
    "census_data_complete = census_data_complete.dropna()\n",
    "poverty_rate = census_data_complete[\"Poverty Rate\"].astype(float)"
   ]
  },
  {
   "cell_type": "code",
   "execution_count": 8,
   "metadata": {},
   "outputs": [
    {
     "data": {
      "application/vnd.jupyter.widget-view+json": {
       "model_id": "b2882324dd3b4d11b961b8b4ee6a75f7",
       "version_major": 2,
       "version_minor": 0
      },
      "text/plain": [
       "Figure(layout=FigureLayout(height='420px'))"
      ]
     },
     "metadata": {},
     "output_type": "display_data"
    }
   ],
   "source": [
    "# Create a poverty Heatmap layer\n",
    "fig = gmaps.figure()\n",
    "\n",
    "heat_layer = gmaps.heatmap_layer(locations, weights=poverty_rate, \n",
    "                                 dissipating=False, max_intensity=100,\n",
    "                                 point_radius = 1)\n",
    "\n",
    "fig.add_layer(heat_layer)\n",
    "\n",
    "fig"
   ]
  },
  {
   "cell_type": "code",
   "execution_count": 9,
   "metadata": {},
   "outputs": [],
   "source": [
    "# Convert bank rate to list\n",
    "bank_rate = census_data_complete[\"Bank Count\"].tolist()"
   ]
  },
  {
   "cell_type": "code",
   "execution_count": 10,
   "metadata": {
    "scrolled": true
   },
   "outputs": [],
   "source": [
    "# Create bank symbol layer\n",
    "bank_layer = gmaps.symbol_layer(\n",
    "    locations, fill_color='rgba(0, 150, 0, 0.4)',\n",
    "    stroke_color='rgba(0, 0, 150, 0.4)', scale=2,\n",
    "    info_box_content=[f\"Bank amount: {bank}\" for bank in bank_rate]\n",
    ")\n",
    "\n",
    "\n",
    "fig = gmaps.figure()\n",
    "fig.add_layer(bank_layer)\n",
    "\n",
    "fig"
   ]
  },
  {
   "cell_type": "code",
   "execution_count": 11,
   "metadata": {},
   "outputs": [],
   "source": [
    "# Create a combined map\n",
    "fig = gmaps.figure()\n",
    "\n",
    "fig.add_layer(heat_layer)\n",
    "fig.add_layer(bank_layer)\n",
    "\n",
    "fig"
   ]
  },
  {
   "cell_type": "markdown",
   "metadata": {},
   "source": [
    "## Statistical Analysis"
   ]
  },
  {
   "cell_type": "markdown",
   "metadata": {},
   "source": [
    "#### Summary Statistics"
   ]
  },
  {
   "cell_type": "code",
   "execution_count": 12,
   "metadata": {},
   "outputs": [],
   "source": [
    "# Mean, median, mode for Poverty Rate\n",
    "poverty_mean = round(census_data_complete['Poverty Rate'].astype('float').mean(), 2)\n",
    "poverty_median = round(census_data_complete['Poverty Rate'].astype('float').median(), 2)\n",
    "poverty_mode = round(census_data_complete['Poverty Rate'].astype('float').mode(), 2)\n",
    "\n",
    "print(f\"Poverty Rate Mean: {poverty_mean}\")\n",
    "print(f\"Poverty Rate Median {poverty_median}\")\n",
    "print(f\"Poverty Rate mode {poverty_mode}\")"
   ]
  },
  {
   "cell_type": "code",
   "execution_count": 13,
   "metadata": {},
   "outputs": [],
   "source": [
    "# Mean, median, mode for Bank Count\n",
    "bank_mean = round(census_data_complete['Bank Count'].astype('float').mean(), 2)\n",
    "bank_median = round(census_data_complete['Bank Count'].astype('float').median(), 2)\n",
    "bank_mode = round(census_data_complete['Bank Count'].astype('float').mode(), 2)\n",
    "\n",
    "print(f\"Bank Count Mean: {bank_mean}\")\n",
    "print(f\"Bank Count Median {bank_median}\")\n",
    "print(f\"Bank Count mode {bank_mode}\")"
   ]
  },
  {
   "cell_type": "code",
   "execution_count": 14,
   "metadata": {},
   "outputs": [],
   "source": [
    "# Mean, median, mode for Population\n",
    "population_mean = round(census_data_complete['Population'].astype('float').mean(), 2)\n",
    "population_median = round(census_data_complete['Population'].astype('float').median(), 2)\n",
    "population_mode = round(census_data_complete['Population'].astype('float').mode(), 2)\n",
    "\n",
    "print(f\"Population Mean: {population_mean}\")\n",
    "print(f\"Population Median {population_median}\")\n",
    "print(f\"Population mode {population_mode}\")"
   ]
  },
  {
   "cell_type": "markdown",
   "metadata": {},
   "source": [
    "#### Linear Regression"
   ]
  },
  {
   "cell_type": "code",
   "execution_count": 15,
   "metadata": {},
   "outputs": [],
   "source": [
    "## Convert to floats and store Poverty Rate and Bank Count as x and y values\n",
    "x_values = census_data_complete['Poverty Rate'].astype('float')\n",
    "y_values = census_data_complete['Bank Count'].astype('float')\n",
    "\n",
    "# Run linear regression\n",
    "(slope, intercept, rvalue, pvalue, stderr) = linregress(x_values, y_values)\n",
    "regress_values = x_values * slope + intercept\n",
    "line_eq = \"y = \" + str(round(slope,2)) + \"x + \" + str(round(intercept,2))\n",
    "\n",
    "# Plot scatter plot\n",
    "plt.scatter(x_values,y_values)\n",
    "\n",
    "# Plot regression line\n",
    "plt.plot(x_values,regress_values,\"r-\")\n",
    "plt.annotate(line_eq,(6,10),fontsize=15,color=\"red\")\n",
    "\n",
    "# Label plot\n",
    "plt.xlabel('Poverty Rate')\n",
    "plt.ylabel('Bank Count')\n",
    "\n",
    "# Print r square value\n",
    "print(f\"R squared: {rvalue**2}\")\n",
    "\n",
    "# Show plot\n",
    "plt.show()"
   ]
  },
  {
   "cell_type": "markdown",
   "metadata": {},
   "source": [
    "### Analysis\n",
    "* There is a very weak correlation between poverty rates and bank counts. Keep in mind that linear regression will not consider other factors such as population or size of the city."
   ]
  },
  {
   "cell_type": "code",
   "execution_count": null,
   "metadata": {},
   "outputs": [],
   "source": []
  }
 ],
 "metadata": {
  "kernelspec": {
   "display_name": "Python 3",
   "language": "python",
   "name": "python3"
  },
  "language_info": {
   "codemirror_mode": {
    "name": "ipython",
    "version": 3
   },
   "file_extension": ".py",
   "mimetype": "text/x-python",
   "name": "python",
   "nbconvert_exporter": "python",
   "pygments_lexer": "ipython3",
   "version": "3.7.4"
  },
  "latex_envs": {
   "LaTeX_envs_menu_present": true,
   "autoclose": false,
   "autocomplete": true,
   "bibliofile": "biblio.bib",
   "cite_by": "apalike",
   "current_citInitial": 1,
   "eqLabelWithNumbers": true,
   "eqNumInitial": 1,
   "hotkeys": {
    "equation": "Ctrl-E",
    "itemize": "Ctrl-I"
   },
   "labels_anchors": false,
   "latex_user_defs": false,
   "report_style_numbering": false,
   "user_envs_cfg": false
  }
 },
 "nbformat": 4,
 "nbformat_minor": 2
}
