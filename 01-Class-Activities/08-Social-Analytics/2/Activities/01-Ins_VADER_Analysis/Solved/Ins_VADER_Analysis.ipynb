{
 "cells": [
  {
   "cell_type": "code",
   "execution_count": null,
   "metadata": {},
   "outputs": [],
   "source": [
    "#!pip install vaderSentiment"
   ]
  },
  {
   "cell_type": "code",
   "execution_count": null,
   "metadata": {},
   "outputs": [],
   "source": [
    "# Import and Initialize Sentiment Analyzer\n",
    "from vaderSentiment.vaderSentiment import SentimentIntensityAnalyzer\n",
    "analyzer = SentimentIntensityAnalyzer()"
   ]
  },
  {
   "cell_type": "code",
   "execution_count": null,
   "metadata": {},
   "outputs": [],
   "source": [
    "# Sample Strings\n",
    "happy_string = \"Your humble instructor is smart, beautiful, and funny!\"\n",
    "angry_string = (\"Ugh. I am feeling so distraught! \"\n",
    "                 \"I hate everything. \"\n",
    "                 \"I am mad at everyone.\")\n",
    "happy_emoticon_string = \":-) :) :-D  ;-) :-P\"\n",
    "angry_emoticon_string = \":-( :( D-< :'(\"\n",
    "funny_slang_string = \"lol rofl haha\"\n",
    "angry_slang_string = \"Sux meh grr\"\n",
    "\n",
    "string_1 = 'I like your beard. It is giving me very Abercrombie.'\n",
    "string_2 = 'This class is awesome!!'\n",
    "string_3 = \"I don't like Twitter.\"\n",
    "string_4 = 'My hamburger was burnt, smelled bad, covered in slime, and made me sick!'\n",
    "string_5 = 'I really hope that we can go outside freely soon.'\n",
    "string_6 = 'We finally found the COVID-19 vaccine.'\n",
    "\n",
    "\n",
    "# Target String Setting\n",
    "target_string = string_1"
   ]
  },
  {
   "cell_type": "code",
   "execution_count": null,
   "metadata": {},
   "outputs": [],
   "source": [
    "# Run analysis\n",
    "results = analyzer.polarity_scores(target_string)\n",
    "results"
   ]
  },
  {
   "cell_type": "code",
   "execution_count": null,
   "metadata": {},
   "outputs": [],
   "source": [
    "# Run analysis\n",
    "compound = results[\"compound\"]\n",
    "pos = results[\"pos\"]\n",
    "neu = results[\"neu\"]\n",
    "neg = results[\"neg\"]"
   ]
  },
  {
   "cell_type": "code",
   "execution_count": null,
   "metadata": {},
   "outputs": [],
   "source": [
    "# Print Analysis\n",
    "print(target_string)\n",
    "print(\"Compound Score:\", compound)\n",
    "print(\"Positive Score:\", pos)\n",
    "print(\"Neutral Score:\", neu)\n",
    "print(\"Negative Score: \", neg)"
   ]
  }
 ],
 "metadata": {
  "kernelspec": {
   "display_name": "Python 3",
   "language": "python",
   "name": "python3"
  },
  "language_info": {
   "codemirror_mode": {
    "name": "ipython",
    "version": 3
   },
   "file_extension": ".py",
   "mimetype": "text/x-python",
   "name": "python",
   "nbconvert_exporter": "python",
   "pygments_lexer": "ipython3",
   "version": "3.7.4"
  },
  "varInspector": {
   "cols": {
    "lenName": 16,
    "lenType": 16,
    "lenVar": 40
   },
   "kernels_config": {
    "python": {
     "delete_cmd_postfix": "",
     "delete_cmd_prefix": "del ",
     "library": "var_list.py",
     "varRefreshCmd": "print(var_dic_list())"
    },
    "r": {
     "delete_cmd_postfix": ") ",
     "delete_cmd_prefix": "rm(",
     "library": "var_list.r",
     "varRefreshCmd": "cat(var_dic_list()) "
    }
   },
   "types_to_exclude": [
    "module",
    "function",
    "builtin_function_or_method",
    "instance",
    "_Feature"
   ],
   "window_display": false
  }
 },
 "nbformat": 4,
 "nbformat_minor": 2
}
