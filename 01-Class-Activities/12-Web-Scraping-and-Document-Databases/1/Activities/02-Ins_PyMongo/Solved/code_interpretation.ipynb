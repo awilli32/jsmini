{
 "cells": [
  {
   "cell_type": "code",
   "execution_count": 1,
   "metadata": {},
   "outputs": [],
   "source": [
    "# Module used to connect Python with MongoDb\n",
    "import pymongo"
   ]
  },
  {
   "cell_type": "code",
   "execution_count": 2,
   "metadata": {},
   "outputs": [],
   "source": [
    "# The default port used by MongoDB is 27017\n",
    "# https://docs.mongodb.com/manual/reference/default-mongodb-port/\n",
    "conn = 'mongodb://localhost:27017'\n",
    "client = pymongo.MongoClient(conn)"
   ]
  },
  {
   "cell_type": "markdown",
   "metadata": {},
   "source": [
    "## Code Interpretation\n",
    "\n",
    "Run and interpret this code. Let us know what it does!"
   ]
  },
  {
   "cell_type": "code",
   "execution_count": 17,
   "metadata": {},
   "outputs": [
    {
     "data": {
      "text/plain": [
       "<pymongo.results.InsertOneResult at 0x19435bad708>"
      ]
     },
     "execution_count": 17,
     "metadata": {},
     "output_type": "execute_result"
    }
   ],
   "source": [
    "# travel_db\n",
    "travel_db = client.travel_db\n",
    "\n",
    "destinations_coll = travel_db.destinations\n",
    "\n",
    "destinations_coll.insert_one({\"continent\": \"Africa\", \"country\": \"Morocco\",\n",
    "                        \"major_cities\": [\"Casablanca\", \"Fez\", \"Marrakech\"],\n",
    "                        \"population\": 36030000})\n",
    "\n",
    "destinations_coll.insert_one({\"continent\": \"Europe\", \"country\": \"France\",\n",
    "                        \"major_cities\": [\"Paris\", \"Marseille\", \"Bordeaux\"],\n",
    "                        \"population\": 66990000})\n",
    "\n",
    "destinations_coll.insert_one({\"continent\": \"North America\", \"country\": \"USA\",\n",
    "                        \"major_cities\": [\"Washington DC\", \"New York City\", \"San Francisco\"],\n",
    "                        \"population\": 328000000})"
   ]
  },
  {
   "cell_type": "code",
   "execution_count": 4,
   "metadata": {},
   "outputs": [
    {
     "data": {
      "text/plain": [
       "<pymongo.results.InsertManyResult at 0x194328837c8>"
      ]
     },
     "execution_count": 4,
     "metadata": {},
     "output_type": "execute_result"
    }
   ],
   "source": [
    "# classDB\n",
    "class_db = client.class_db\n",
    "\n",
    "classroom_coll = class_db.classroom\n",
    "\n",
    "classroom_coll.insert_many([\n",
    "    {'name': 'Mariah', 'age': 23, 'favorite_python_library': 'Seaborn', 'hobbies': ['Coding', 'Reading', 'Running']},\n",
    "    {'name': 'Ricky', 'age': 34, 'favorite_python_library': 'Matplotlib', 'hobbies': ['Not Coding', 'Not Reading', 'Not Running', 'Guitar']},\n",
    "    {'name': 'Srikanth', 'age': 28, 'favorite_python_library': 'Pandas', 'hobbies': ['Netflix', 'Guitar', 'Traveling']}\n",
    "])"
   ]
  },
  {
   "cell_type": "code",
   "execution_count": 5,
   "metadata": {},
   "outputs": [
    {
     "data": {
      "text/plain": [
       "<pymongo.results.InsertManyResult at 0x19433f9c208>"
      ]
     },
     "execution_count": 5,
     "metadata": {},
     "output_type": "execute_result"
    }
   ],
   "source": [
    "# travel_db\n",
    "\n",
    "travel_db = client.travel_db\n",
    "\n",
    "destinations_coll = travel_db.destinations\n",
    "\n",
    "destinations_coll.insert_many([\n",
    "        {'country': 'Egypt', 'continent': 'Africa', 'major_cities': ['Cairo', 'Luxor']},\n",
    "        {'country': 'Nigeria', 'continent': 'Africa', 'major_cities': ['Lagos', 'Kano']},\n",
    "        {'country': 'Dartville', 'continent': 'South America'},\n",
    "        {'country': 'Dartville', 'continent': 'Europe'},\n",
    "        {'country': 'Dartville', 'continent': 'Africa'},\n",
    "        {'country': 'Italy', 'continent': 'Europe'}\n",
    "    ])"
   ]
  },
  {
   "cell_type": "code",
   "execution_count": 6,
   "metadata": {},
   "outputs": [
    {
     "data": {
      "text/plain": [
       "<pymongo.results.UpdateResult at 0x19435891388>"
      ]
     },
     "execution_count": 6,
     "metadata": {},
     "output_type": "execute_result"
    }
   ],
   "source": [
    "destinations_coll.update_one(\n",
    "    {'country': 'Egypt'},\n",
    "    {'$set':\n",
    "        {\"continent\": \"Antarctica\"}\n",
    "     }\n",
    ")"
   ]
  },
  {
   "cell_type": "code",
   "execution_count": 7,
   "metadata": {},
   "outputs": [
    {
     "data": {
      "text/plain": [
       "<pymongo.results.UpdateResult at 0x194372ecac8>"
      ]
     },
     "execution_count": 7,
     "metadata": {},
     "output_type": "execute_result"
    }
   ],
   "source": [
    "destinations_coll.update_many(\n",
    "    {'continent': 'Africa'},\n",
    "    {'$set':\n",
    "        {\"continent\": \"Antarctica\"}\n",
    "     }\n",
    ")"
   ]
  },
  {
   "cell_type": "code",
   "execution_count": 8,
   "metadata": {},
   "outputs": [
    {
     "data": {
      "text/plain": [
       "<pymongo.results.UpdateResult at 0x194372e46c8>"
      ]
     },
     "execution_count": 8,
     "metadata": {},
     "output_type": "execute_result"
    }
   ],
   "source": [
    "destinations_coll.update_many(\n",
    "    {'continent': 'Antarctica'},\n",
    "    {'$set':\n",
    "        {\"continent\": \"Africa\"}\n",
    "     }\n",
    ")"
   ]
  },
  {
   "cell_type": "code",
   "execution_count": 9,
   "metadata": {},
   "outputs": [
    {
     "data": {
      "text/plain": [
       "<pymongo.results.UpdateResult at 0x19435c92748>"
      ]
     },
     "execution_count": 9,
     "metadata": {},
     "output_type": "execute_result"
    }
   ],
   "source": [
    "destinations_coll.update_many(\n",
    "    {'country': 'Morocco'},\n",
    "    {'$set':\n",
    "        {\"capital\": \"Rabat\"}\n",
    "     }\n",
    ")"
   ]
  },
  {
   "cell_type": "code",
   "execution_count": 19,
   "metadata": {},
   "outputs": [
    {
     "data": {
      "text/plain": [
       "<pymongo.results.UpdateResult at 0x19435bada08>"
      ]
     },
     "execution_count": 19,
     "metadata": {},
     "output_type": "execute_result"
    }
   ],
   "source": [
    "destinations_coll.update_many(\n",
    "    {'country': 'Morocco'},\n",
    "    {'$push':\n",
    "        {\"major_cities\": \"Agadir\"}\n",
    "     }\n",
    ")"
   ]
  },
  {
   "cell_type": "code",
   "execution_count": 14,
   "metadata": {},
   "outputs": [
    {
     "data": {
      "text/plain": [
       "<pymongo.results.UpdateResult at 0x19435c25648>"
      ]
     },
     "execution_count": 14,
     "metadata": {},
     "output_type": "execute_result"
    }
   ],
   "source": [
    "destinations_coll.update_one(\n",
    "    {'country': 'Canada'},\n",
    "    {'$set':\n",
    "        {'capital': 'Ottawa'}\n",
    "     },\n",
    "    upsert=True\n",
    ")"
   ]
  },
  {
   "cell_type": "code",
   "execution_count": 15,
   "metadata": {},
   "outputs": [
    {
     "data": {
      "text/plain": [
       "<pymongo.results.DeleteResult at 0x1943510acc8>"
      ]
     },
     "execution_count": 15,
     "metadata": {},
     "output_type": "execute_result"
    }
   ],
   "source": [
    "destinations_coll.delete_one(\n",
    "    {'country': 'Morocco'}\n",
    ")"
   ]
  },
  {
   "cell_type": "code",
   "execution_count": 16,
   "metadata": {},
   "outputs": [
    {
     "data": {
      "text/plain": [
       "<pymongo.results.DeleteResult at 0x19435cbc4c8>"
      ]
     },
     "execution_count": 16,
     "metadata": {},
     "output_type": "execute_result"
    }
   ],
   "source": [
    "destinations_coll.delete_many(\n",
    "    {'country': 'Dartville'}\n",
    ")"
   ]
  }
 ],
 "metadata": {
  "kernelspec": {
   "display_name": "Python 3",
   "language": "python",
   "name": "python3"
  },
  "language_info": {
   "codemirror_mode": {
    "name": "ipython",
    "version": 3
   },
   "file_extension": ".py",
   "mimetype": "text/x-python",
   "name": "python",
   "nbconvert_exporter": "python",
   "pygments_lexer": "ipython3",
   "version": "3.7.4"
  }
 },
 "nbformat": 4,
 "nbformat_minor": 2
}
