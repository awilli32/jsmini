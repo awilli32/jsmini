{
 "cells": [
  {
   "cell_type": "markdown",
   "metadata": {
    "slideshow": {
     "slide_type": "slide"
    }
   },
   "source": [
    "# Scraping with Pandas"
   ]
  },
  {
   "cell_type": "code",
   "execution_count": 1,
   "metadata": {
    "slideshow": {
     "slide_type": "slide"
    }
   },
   "outputs": [],
   "source": [
    "import pandas as pd"
   ]
  },
  {
   "cell_type": "markdown",
   "metadata": {
    "slideshow": {
     "slide_type": "subslide"
    }
   },
   "source": [
    "We can use the `read_html` function in Pandas to automatically scrape any tabular data from a page."
   ]
  },
  {
   "cell_type": "code",
   "execution_count": 36,
   "metadata": {
    "slideshow": {
     "slide_type": "fragment"
    }
   },
   "outputs": [],
   "source": [
    "url = 'https://en.wikipedia.org/wiki/List_of_capitals_in_the_United_States'"
   ]
  },
  {
   "cell_type": "code",
   "execution_count": 37,
   "metadata": {
    "slideshow": {
     "slide_type": "fragment"
    }
   },
   "outputs": [
    {
     "data": {
      "text/html": [
       "<div>\n",
       "<style scoped>\n",
       "    .dataframe tbody tr th:only-of-type {\n",
       "        vertical-align: middle;\n",
       "    }\n",
       "\n",
       "    .dataframe tbody tr th {\n",
       "        vertical-align: top;\n",
       "    }\n",
       "\n",
       "    .dataframe thead th {\n",
       "        text-align: right;\n",
       "    }\n",
       "</style>\n",
       "<table border=\"1\" class=\"dataframe\">\n",
       "  <thead>\n",
       "    <tr style=\"text-align: right;\">\n",
       "      <th></th>\n",
       "      <th>Insular area</th>\n",
       "      <th>Abr.</th>\n",
       "      <th>Date</th>\n",
       "      <th>Capital</th>\n",
       "      <th>Population (2010)</th>\n",
       "      <th>Notes</th>\n",
       "    </tr>\n",
       "  </thead>\n",
       "  <tbody>\n",
       "    <tr>\n",
       "      <td>0</td>\n",
       "      <td>American Samoa</td>\n",
       "      <td>AS</td>\n",
       "      <td>1899</td>\n",
       "      <td>Pago Pago</td>\n",
       "      <td>3656</td>\n",
       "      <td>Pago Pago refers to both a village and a group...</td>\n",
       "    </tr>\n",
       "    <tr>\n",
       "      <td>1</td>\n",
       "      <td>Guam</td>\n",
       "      <td>GU</td>\n",
       "      <td>1898</td>\n",
       "      <td>Hagåtña</td>\n",
       "      <td>1051</td>\n",
       "      <td>Dededo is the area's largest village.</td>\n",
       "    </tr>\n",
       "    <tr>\n",
       "      <td>2</td>\n",
       "      <td>Northern Mariana Islands</td>\n",
       "      <td>MP</td>\n",
       "      <td>1947</td>\n",
       "      <td>Saipan</td>\n",
       "      <td>48220</td>\n",
       "      <td>NaN</td>\n",
       "    </tr>\n",
       "    <tr>\n",
       "      <td>3</td>\n",
       "      <td>Puerto Rico</td>\n",
       "      <td>PR</td>\n",
       "      <td>1898</td>\n",
       "      <td>San Juan</td>\n",
       "      <td>395326</td>\n",
       "      <td>The city of San Juan was originally called Pue...</td>\n",
       "    </tr>\n",
       "    <tr>\n",
       "      <td>4</td>\n",
       "      <td>U.S. Virgin Islands</td>\n",
       "      <td>VI</td>\n",
       "      <td>1917</td>\n",
       "      <td>Charlotte Amalie</td>\n",
       "      <td>18481</td>\n",
       "      <td>NaN</td>\n",
       "    </tr>\n",
       "  </tbody>\n",
       "</table>\n",
       "</div>"
      ],
      "text/plain": [
       "               Insular area Abr.  Date           Capital  Population (2010)  \\\n",
       "0            American Samoa   AS  1899         Pago Pago               3656   \n",
       "1                      Guam   GU  1898           Hagåtña               1051   \n",
       "2  Northern Mariana Islands   MP  1947            Saipan              48220   \n",
       "3               Puerto Rico   PR  1898          San Juan             395326   \n",
       "4       U.S. Virgin Islands   VI  1917  Charlotte Amalie              18481   \n",
       "\n",
       "                                               Notes  \n",
       "0  Pago Pago refers to both a village and a group...  \n",
       "1              Dededo is the area's largest village.  \n",
       "2                                                NaN  \n",
       "3  The city of San Juan was originally called Pue...  \n",
       "4                                                NaN  "
      ]
     },
     "execution_count": 37,
     "metadata": {},
     "output_type": "execute_result"
    }
   ],
   "source": [
    "tables = pd.read_html(url)\n",
    "tables[2]"
   ]
  },
  {
   "cell_type": "markdown",
   "metadata": {
    "slideshow": {
     "slide_type": "subslide"
    }
   },
   "source": [
    "#### What we get in return is a list of dataframes for any tabular data that Pandas found."
   ]
  },
  {
   "cell_type": "code",
   "execution_count": 38,
   "metadata": {
    "slideshow": {
     "slide_type": "fragment"
    }
   },
   "outputs": [
    {
     "data": {
      "text/plain": [
       "8"
      ]
     },
     "execution_count": 38,
     "metadata": {},
     "output_type": "execute_result"
    }
   ],
   "source": [
    "type(tables)\n",
    "len(tables)"
   ]
  },
  {
   "cell_type": "markdown",
   "metadata": {
    "slideshow": {
     "slide_type": "subslide"
    }
   },
   "source": [
    "#### We can slice off any of those dataframes that we want using normal indexing."
   ]
  },
  {
   "cell_type": "code",
   "execution_count": 39,
   "metadata": {
    "slideshow": {
     "slide_type": "fragment"
    }
   },
   "outputs": [
    {
     "data": {
      "text/html": [
       "<div>\n",
       "<style scoped>\n",
       "    .dataframe tbody tr th:only-of-type {\n",
       "        vertical-align: middle;\n",
       "    }\n",
       "\n",
       "    .dataframe tbody tr th {\n",
       "        vertical-align: top;\n",
       "    }\n",
       "\n",
       "    .dataframe thead tr th {\n",
       "        text-align: left;\n",
       "    }\n",
       "</style>\n",
       "<table border=\"1\" class=\"dataframe\">\n",
       "  <thead>\n",
       "    <tr>\n",
       "      <th></th>\n",
       "      <th>City</th>\n",
       "      <th>Building</th>\n",
       "      <th>Start Date</th>\n",
       "      <th>End Date</th>\n",
       "      <th>Duration</th>\n",
       "      <th>Ref</th>\n",
       "    </tr>\n",
       "    <tr>\n",
       "      <th></th>\n",
       "      <th>Albany Congress</th>\n",
       "      <th>Albany Congress</th>\n",
       "      <th>Albany Congress</th>\n",
       "      <th>Albany Congress</th>\n",
       "      <th>Albany Congress</th>\n",
       "      <th>Albany Congress</th>\n",
       "    </tr>\n",
       "  </thead>\n",
       "  <tbody>\n",
       "    <tr>\n",
       "      <td>0</td>\n",
       "      <td>Albany, New York</td>\n",
       "      <td>Stadt Huys</td>\n",
       "      <td>June 19, 1754</td>\n",
       "      <td>July 11, 1754</td>\n",
       "      <td>22 days</td>\n",
       "      <td>[8]</td>\n",
       "    </tr>\n",
       "    <tr>\n",
       "      <td>1</td>\n",
       "      <td>Stamp Act Congress</td>\n",
       "      <td>Stamp Act Congress</td>\n",
       "      <td>Stamp Act Congress</td>\n",
       "      <td>Stamp Act Congress</td>\n",
       "      <td>Stamp Act Congress</td>\n",
       "      <td>Stamp Act Congress</td>\n",
       "    </tr>\n",
       "    <tr>\n",
       "      <td>2</td>\n",
       "      <td>New York, New York</td>\n",
       "      <td>City Hall</td>\n",
       "      <td>October 7, 1765</td>\n",
       "      <td>October 25, 1765</td>\n",
       "      <td>23 days</td>\n",
       "      <td>[9]</td>\n",
       "    </tr>\n",
       "    <tr>\n",
       "      <td>3</td>\n",
       "      <td>First Continental Congress</td>\n",
       "      <td>First Continental Congress</td>\n",
       "      <td>First Continental Congress</td>\n",
       "      <td>First Continental Congress</td>\n",
       "      <td>First Continental Congress</td>\n",
       "      <td>First Continental Congress</td>\n",
       "    </tr>\n",
       "    <tr>\n",
       "      <td>4</td>\n",
       "      <td>Philadelphia, Pennsylvania</td>\n",
       "      <td>Carpenters' Hall</td>\n",
       "      <td>September 5, 1774</td>\n",
       "      <td>October 26, 1774</td>\n",
       "      <td>1 month and 21 days</td>\n",
       "      <td>[10]</td>\n",
       "    </tr>\n",
       "  </tbody>\n",
       "</table>\n",
       "</div>"
      ],
      "text/plain": [
       "                         City                    Building  \\\n",
       "              Albany Congress             Albany Congress   \n",
       "0            Albany, New York                  Stadt Huys   \n",
       "1          Stamp Act Congress          Stamp Act Congress   \n",
       "2          New York, New York                   City Hall   \n",
       "3  First Continental Congress  First Continental Congress   \n",
       "4  Philadelphia, Pennsylvania            Carpenters' Hall   \n",
       "\n",
       "                   Start Date                    End Date  \\\n",
       "              Albany Congress             Albany Congress   \n",
       "0               June 19, 1754               July 11, 1754   \n",
       "1          Stamp Act Congress          Stamp Act Congress   \n",
       "2             October 7, 1765            October 25, 1765   \n",
       "3  First Continental Congress  First Continental Congress   \n",
       "4           September 5, 1774            October 26, 1774   \n",
       "\n",
       "                     Duration                         Ref  \n",
       "              Albany Congress             Albany Congress  \n",
       "0                     22 days                         [8]  \n",
       "1          Stamp Act Congress          Stamp Act Congress  \n",
       "2                     23 days                         [9]  \n",
       "3  First Continental Congress  First Continental Congress  \n",
       "4         1 month and 21 days                        [10]  "
      ]
     },
     "execution_count": 39,
     "metadata": {},
     "output_type": "execute_result"
    }
   ],
   "source": [
    "df = tables[0]\n",
    "df.head()"
   ]
  },
  {
   "cell_type": "markdown",
   "metadata": {
    "slideshow": {
     "slide_type": "subslide"
    }
   },
   "source": [
    "#### Drop all single header rows"
   ]
  },
  {
   "cell_type": "code",
   "execution_count": 41,
   "metadata": {
    "slideshow": {
     "slide_type": "fragment"
    }
   },
   "outputs": [
    {
     "data": {
      "text/html": [
       "<div>\n",
       "<style scoped>\n",
       "    .dataframe tbody tr th:only-of-type {\n",
       "        vertical-align: middle;\n",
       "    }\n",
       "\n",
       "    .dataframe tbody tr th {\n",
       "        vertical-align: top;\n",
       "    }\n",
       "\n",
       "    .dataframe thead th {\n",
       "        text-align: right;\n",
       "    }\n",
       "</style>\n",
       "<table border=\"1\" class=\"dataframe\">\n",
       "  <thead>\n",
       "    <tr style=\"text-align: right;\">\n",
       "      <th></th>\n",
       "      <th>City</th>\n",
       "      <th>Building</th>\n",
       "      <th>Start Date</th>\n",
       "      <th>End Date</th>\n",
       "      <th>Duration</th>\n",
       "      <th>Ref</th>\n",
       "    </tr>\n",
       "  </thead>\n",
       "  <tbody>\n",
       "    <tr>\n",
       "      <td>0</td>\n",
       "      <td>Albany, New York</td>\n",
       "      <td>Stadt Huys</td>\n",
       "      <td>June 19, 1754</td>\n",
       "      <td>July 11, 1754</td>\n",
       "      <td>22 days</td>\n",
       "      <td>[8]</td>\n",
       "    </tr>\n",
       "    <tr>\n",
       "      <td>2</td>\n",
       "      <td>New York, New York</td>\n",
       "      <td>City Hall</td>\n",
       "      <td>October 7, 1765</td>\n",
       "      <td>October 25, 1765</td>\n",
       "      <td>23 days</td>\n",
       "      <td>[9]</td>\n",
       "    </tr>\n",
       "    <tr>\n",
       "      <td>4</td>\n",
       "      <td>Philadelphia, Pennsylvania</td>\n",
       "      <td>Carpenters' Hall</td>\n",
       "      <td>September 5, 1774</td>\n",
       "      <td>October 26, 1774</td>\n",
       "      <td>1 month and 21 days</td>\n",
       "      <td>[10]</td>\n",
       "    </tr>\n",
       "    <tr>\n",
       "      <td>6</td>\n",
       "      <td>Philadelphia, Pennsylvania</td>\n",
       "      <td>Independence Hall</td>\n",
       "      <td>May 10, 1775</td>\n",
       "      <td>December 12, 1776</td>\n",
       "      <td>1 year, 7 months and 2 days</td>\n",
       "      <td>[11]</td>\n",
       "    </tr>\n",
       "    <tr>\n",
       "      <td>7</td>\n",
       "      <td>Baltimore, Maryland</td>\n",
       "      <td>Henry Fite House</td>\n",
       "      <td>December 20, 1776</td>\n",
       "      <td>February 27, 1777</td>\n",
       "      <td>2 months and 7 days</td>\n",
       "      <td>[12]</td>\n",
       "    </tr>\n",
       "  </tbody>\n",
       "</table>\n",
       "</div>"
      ],
      "text/plain": [
       "                         City           Building         Start Date  \\\n",
       "0            Albany, New York         Stadt Huys      June 19, 1754   \n",
       "2          New York, New York          City Hall    October 7, 1765   \n",
       "4  Philadelphia, Pennsylvania   Carpenters' Hall  September 5, 1774   \n",
       "6  Philadelphia, Pennsylvania  Independence Hall       May 10, 1775   \n",
       "7         Baltimore, Maryland   Henry Fite House  December 20, 1776   \n",
       "\n",
       "            End Date                     Duration   Ref  \n",
       "0      July 11, 1754                      22 days   [8]  \n",
       "2   October 25, 1765                      23 days   [9]  \n",
       "4   October 26, 1774          1 month and 21 days  [10]  \n",
       "6  December 12, 1776  1 year, 7 months and 2 days  [11]  \n",
       "7  February 27, 1777          2 months and 7 days  [12]  "
      ]
     },
     "execution_count": 41,
     "metadata": {},
     "output_type": "execute_result"
    }
   ],
   "source": [
    "df.columns = df.columns.get_level_values(0)\n",
    "df = df.loc[df['Ref'].str.startswith(\"[\")]\n",
    "df.head()"
   ]
  },
  {
   "cell_type": "code",
   "execution_count": 43,
   "metadata": {},
   "outputs": [
    {
     "data": {
      "text/plain": [
       "0      [8]\n",
       "2      [9]\n",
       "4     [10]\n",
       "6     [11]\n",
       "7     [12]\n",
       "8     [13]\n",
       "9     [13]\n",
       "10    [13]\n",
       "11    [14]\n",
       "13    [14]\n",
       "14    [14]\n",
       "15    [14]\n",
       "16    [14]\n",
       "17    [14]\n",
       "19    [14]\n",
       "20    [14]\n",
       "21    [14]\n",
       "22    [15]\n",
       "23    [16]\n",
       "24    [17]\n",
       "Name: Ref, dtype: object"
      ]
     },
     "execution_count": 43,
     "metadata": {},
     "output_type": "execute_result"
    }
   ],
   "source": [
    "df['Ref']"
   ]
  },
  {
   "cell_type": "markdown",
   "metadata": {
    "slideshow": {
     "slide_type": "subslide"
    }
   },
   "source": [
    "#### Slipt column values into two separate columns"
   ]
  },
  {
   "cell_type": "code",
   "execution_count": 23,
   "metadata": {
    "scrolled": false,
    "slideshow": {
     "slide_type": "fragment"
    }
   },
   "outputs": [
    {
     "data": {
      "text/html": [
       "<div>\n",
       "<style scoped>\n",
       "    .dataframe tbody tr th:only-of-type {\n",
       "        vertical-align: middle;\n",
       "    }\n",
       "\n",
       "    .dataframe tbody tr th {\n",
       "        vertical-align: top;\n",
       "    }\n",
       "\n",
       "    .dataframe thead th {\n",
       "        text-align: right;\n",
       "    }\n",
       "</style>\n",
       "<table border=\"1\" class=\"dataframe\">\n",
       "  <thead>\n",
       "    <tr style=\"text-align: right;\">\n",
       "      <th></th>\n",
       "      <th>City</th>\n",
       "      <th>Building</th>\n",
       "      <th>Start Date</th>\n",
       "      <th>End Date</th>\n",
       "      <th>Duration</th>\n",
       "      <th>Ref</th>\n",
       "      <th>State</th>\n",
       "    </tr>\n",
       "  </thead>\n",
       "  <tbody>\n",
       "    <tr>\n",
       "      <td>0</td>\n",
       "      <td>Albany</td>\n",
       "      <td>Stadt Huys</td>\n",
       "      <td>June 19, 1754</td>\n",
       "      <td>July 11, 1754</td>\n",
       "      <td>22 days</td>\n",
       "      <td>[8]</td>\n",
       "      <td>New York</td>\n",
       "    </tr>\n",
       "    <tr>\n",
       "      <td>2</td>\n",
       "      <td>New York</td>\n",
       "      <td>City Hall</td>\n",
       "      <td>October 7, 1765</td>\n",
       "      <td>October 25, 1765</td>\n",
       "      <td>23 days</td>\n",
       "      <td>[9]</td>\n",
       "      <td>New York</td>\n",
       "    </tr>\n",
       "    <tr>\n",
       "      <td>4</td>\n",
       "      <td>Philadelphia</td>\n",
       "      <td>Carpenters' Hall</td>\n",
       "      <td>September 5, 1774</td>\n",
       "      <td>October 26, 1774</td>\n",
       "      <td>1 month and 21 days</td>\n",
       "      <td>[10]</td>\n",
       "      <td>Pennsylvania</td>\n",
       "    </tr>\n",
       "    <tr>\n",
       "      <td>6</td>\n",
       "      <td>Philadelphia</td>\n",
       "      <td>Independence Hall</td>\n",
       "      <td>May 10, 1775</td>\n",
       "      <td>December 12, 1776</td>\n",
       "      <td>1 year, 7 months and 2 days</td>\n",
       "      <td>[11]</td>\n",
       "      <td>Pennsylvania</td>\n",
       "    </tr>\n",
       "    <tr>\n",
       "      <td>7</td>\n",
       "      <td>Baltimore</td>\n",
       "      <td>Henry Fite House</td>\n",
       "      <td>December 20, 1776</td>\n",
       "      <td>February 27, 1777</td>\n",
       "      <td>2 months and 7 days</td>\n",
       "      <td>[12]</td>\n",
       "      <td>Maryland</td>\n",
       "    </tr>\n",
       "  </tbody>\n",
       "</table>\n",
       "</div>"
      ],
      "text/plain": [
       "           City           Building         Start Date           End Date  \\\n",
       "0        Albany         Stadt Huys      June 19, 1754      July 11, 1754   \n",
       "2      New York          City Hall    October 7, 1765   October 25, 1765   \n",
       "4  Philadelphia   Carpenters' Hall  September 5, 1774   October 26, 1774   \n",
       "6  Philadelphia  Independence Hall       May 10, 1775  December 12, 1776   \n",
       "7     Baltimore   Henry Fite House  December 20, 1776  February 27, 1777   \n",
       "\n",
       "                      Duration   Ref         State  \n",
       "0                      22 days   [8]      New York  \n",
       "2                      23 days   [9]      New York  \n",
       "4          1 month and 21 days  [10]  Pennsylvania  \n",
       "6  1 year, 7 months and 2 days  [11]  Pennsylvania  \n",
       "7          2 months and 7 days  [12]      Maryland  "
      ]
     },
     "execution_count": 23,
     "metadata": {},
     "output_type": "execute_result"
    }
   ],
   "source": [
    "columnsplit = df['City'].str.split(\", \", expand=True)\n",
    "\n",
    "df = df.assign(City=columnsplit[0],State=columnsplit[1])\n",
    "df.head()"
   ]
  },
  {
   "cell_type": "markdown",
   "metadata": {
    "slideshow": {
     "slide_type": "subslide"
    }
   },
   "source": [
    "#### Drop a column"
   ]
  },
  {
   "cell_type": "code",
   "execution_count": 24,
   "metadata": {},
   "outputs": [
    {
     "data": {
      "text/html": [
       "<div>\n",
       "<style scoped>\n",
       "    .dataframe tbody tr th:only-of-type {\n",
       "        vertical-align: middle;\n",
       "    }\n",
       "\n",
       "    .dataframe tbody tr th {\n",
       "        vertical-align: top;\n",
       "    }\n",
       "\n",
       "    .dataframe thead th {\n",
       "        text-align: right;\n",
       "    }\n",
       "</style>\n",
       "<table border=\"1\" class=\"dataframe\">\n",
       "  <thead>\n",
       "    <tr style=\"text-align: right;\">\n",
       "      <th></th>\n",
       "      <th>City</th>\n",
       "      <th>Building</th>\n",
       "      <th>Start Date</th>\n",
       "      <th>End Date</th>\n",
       "      <th>Duration</th>\n",
       "      <th>State</th>\n",
       "    </tr>\n",
       "  </thead>\n",
       "  <tbody>\n",
       "    <tr>\n",
       "      <td>0</td>\n",
       "      <td>Albany</td>\n",
       "      <td>Stadt Huys</td>\n",
       "      <td>June 19, 1754</td>\n",
       "      <td>July 11, 1754</td>\n",
       "      <td>22 days</td>\n",
       "      <td>New York</td>\n",
       "    </tr>\n",
       "    <tr>\n",
       "      <td>2</td>\n",
       "      <td>New York</td>\n",
       "      <td>City Hall</td>\n",
       "      <td>October 7, 1765</td>\n",
       "      <td>October 25, 1765</td>\n",
       "      <td>23 days</td>\n",
       "      <td>New York</td>\n",
       "    </tr>\n",
       "    <tr>\n",
       "      <td>4</td>\n",
       "      <td>Philadelphia</td>\n",
       "      <td>Carpenters' Hall</td>\n",
       "      <td>September 5, 1774</td>\n",
       "      <td>October 26, 1774</td>\n",
       "      <td>1 month and 21 days</td>\n",
       "      <td>Pennsylvania</td>\n",
       "    </tr>\n",
       "    <tr>\n",
       "      <td>6</td>\n",
       "      <td>Philadelphia</td>\n",
       "      <td>Independence Hall</td>\n",
       "      <td>May 10, 1775</td>\n",
       "      <td>December 12, 1776</td>\n",
       "      <td>1 year, 7 months and 2 days</td>\n",
       "      <td>Pennsylvania</td>\n",
       "    </tr>\n",
       "    <tr>\n",
       "      <td>7</td>\n",
       "      <td>Baltimore</td>\n",
       "      <td>Henry Fite House</td>\n",
       "      <td>December 20, 1776</td>\n",
       "      <td>February 27, 1777</td>\n",
       "      <td>2 months and 7 days</td>\n",
       "      <td>Maryland</td>\n",
       "    </tr>\n",
       "  </tbody>\n",
       "</table>\n",
       "</div>"
      ],
      "text/plain": [
       "           City           Building         Start Date           End Date  \\\n",
       "0        Albany         Stadt Huys      June 19, 1754      July 11, 1754   \n",
       "2      New York          City Hall    October 7, 1765   October 25, 1765   \n",
       "4  Philadelphia   Carpenters' Hall  September 5, 1774   October 26, 1774   \n",
       "6  Philadelphia  Independence Hall       May 10, 1775  December 12, 1776   \n",
       "7     Baltimore   Henry Fite House  December 20, 1776  February 27, 1777   \n",
       "\n",
       "                      Duration         State  \n",
       "0                      22 days      New York  \n",
       "2                      23 days      New York  \n",
       "4          1 month and 21 days  Pennsylvania  \n",
       "6  1 year, 7 months and 2 days  Pennsylvania  \n",
       "7          2 months and 7 days      Maryland  "
      ]
     },
     "execution_count": 24,
     "metadata": {},
     "output_type": "execute_result"
    }
   ],
   "source": [
    "df = df.drop(['Ref'], axis=1)\n",
    "df.head()"
   ]
  },
  {
   "cell_type": "markdown",
   "metadata": {},
   "source": [
    "#### Reset an index"
   ]
  },
  {
   "cell_type": "code",
   "execution_count": 25,
   "metadata": {},
   "outputs": [
    {
     "data": {
      "text/html": [
       "<div>\n",
       "<style scoped>\n",
       "    .dataframe tbody tr th:only-of-type {\n",
       "        vertical-align: middle;\n",
       "    }\n",
       "\n",
       "    .dataframe tbody tr th {\n",
       "        vertical-align: top;\n",
       "    }\n",
       "\n",
       "    .dataframe thead th {\n",
       "        text-align: right;\n",
       "    }\n",
       "</style>\n",
       "<table border=\"1\" class=\"dataframe\">\n",
       "  <thead>\n",
       "    <tr style=\"text-align: right;\">\n",
       "      <th></th>\n",
       "      <th>City</th>\n",
       "      <th>Building</th>\n",
       "      <th>Start Date</th>\n",
       "      <th>End Date</th>\n",
       "      <th>Duration</th>\n",
       "      <th>State</th>\n",
       "    </tr>\n",
       "  </thead>\n",
       "  <tbody>\n",
       "    <tr>\n",
       "      <td>0</td>\n",
       "      <td>Albany</td>\n",
       "      <td>Stadt Huys</td>\n",
       "      <td>June 19, 1754</td>\n",
       "      <td>July 11, 1754</td>\n",
       "      <td>22 days</td>\n",
       "      <td>New York</td>\n",
       "    </tr>\n",
       "    <tr>\n",
       "      <td>1</td>\n",
       "      <td>New York</td>\n",
       "      <td>City Hall</td>\n",
       "      <td>October 7, 1765</td>\n",
       "      <td>October 25, 1765</td>\n",
       "      <td>23 days</td>\n",
       "      <td>New York</td>\n",
       "    </tr>\n",
       "    <tr>\n",
       "      <td>2</td>\n",
       "      <td>Philadelphia</td>\n",
       "      <td>Carpenters' Hall</td>\n",
       "      <td>September 5, 1774</td>\n",
       "      <td>October 26, 1774</td>\n",
       "      <td>1 month and 21 days</td>\n",
       "      <td>Pennsylvania</td>\n",
       "    </tr>\n",
       "    <tr>\n",
       "      <td>3</td>\n",
       "      <td>Philadelphia</td>\n",
       "      <td>Independence Hall</td>\n",
       "      <td>May 10, 1775</td>\n",
       "      <td>December 12, 1776</td>\n",
       "      <td>1 year, 7 months and 2 days</td>\n",
       "      <td>Pennsylvania</td>\n",
       "    </tr>\n",
       "    <tr>\n",
       "      <td>4</td>\n",
       "      <td>Baltimore</td>\n",
       "      <td>Henry Fite House</td>\n",
       "      <td>December 20, 1776</td>\n",
       "      <td>February 27, 1777</td>\n",
       "      <td>2 months and 7 days</td>\n",
       "      <td>Maryland</td>\n",
       "    </tr>\n",
       "  </tbody>\n",
       "</table>\n",
       "</div>"
      ],
      "text/plain": [
       "           City           Building         Start Date           End Date  \\\n",
       "0        Albany         Stadt Huys      June 19, 1754      July 11, 1754   \n",
       "1      New York          City Hall    October 7, 1765   October 25, 1765   \n",
       "2  Philadelphia   Carpenters' Hall  September 5, 1774   October 26, 1774   \n",
       "3  Philadelphia  Independence Hall       May 10, 1775  December 12, 1776   \n",
       "4     Baltimore   Henry Fite House  December 20, 1776  February 27, 1777   \n",
       "\n",
       "                      Duration         State  \n",
       "0                      22 days      New York  \n",
       "1                      23 days      New York  \n",
       "2          1 month and 21 days  Pennsylvania  \n",
       "3  1 year, 7 months and 2 days  Pennsylvania  \n",
       "4          2 months and 7 days      Maryland  "
      ]
     },
     "execution_count": 25,
     "metadata": {},
     "output_type": "execute_result"
    }
   ],
   "source": [
    "df = df.reset_index(drop=True)\n",
    "df.head()"
   ]
  },
  {
   "cell_type": "code",
   "execution_count": 26,
   "metadata": {},
   "outputs": [
    {
     "data": {
      "text/html": [
       "<div>\n",
       "<style scoped>\n",
       "    .dataframe tbody tr th:only-of-type {\n",
       "        vertical-align: middle;\n",
       "    }\n",
       "\n",
       "    .dataframe tbody tr th {\n",
       "        vertical-align: top;\n",
       "    }\n",
       "\n",
       "    .dataframe thead th {\n",
       "        text-align: right;\n",
       "    }\n",
       "</style>\n",
       "<table border=\"1\" class=\"dataframe\">\n",
       "  <thead>\n",
       "    <tr style=\"text-align: right;\">\n",
       "      <th></th>\n",
       "      <th>City</th>\n",
       "      <th>Building</th>\n",
       "      <th>Start Date</th>\n",
       "      <th>End Date</th>\n",
       "      <th>Duration</th>\n",
       "      <th>State</th>\n",
       "    </tr>\n",
       "  </thead>\n",
       "  <tbody>\n",
       "    <tr>\n",
       "      <td>0</td>\n",
       "      <td>Albany</td>\n",
       "      <td>Stadt Huys</td>\n",
       "      <td>June 19, 1754</td>\n",
       "      <td>July 11, 1754</td>\n",
       "      <td>22 days</td>\n",
       "      <td>New York</td>\n",
       "    </tr>\n",
       "    <tr>\n",
       "      <td>1</td>\n",
       "      <td>New York</td>\n",
       "      <td>City Hall</td>\n",
       "      <td>October 7, 1765</td>\n",
       "      <td>October 25, 1765</td>\n",
       "      <td>23 days</td>\n",
       "      <td>New York</td>\n",
       "    </tr>\n",
       "    <tr>\n",
       "      <td>13</td>\n",
       "      <td>New York</td>\n",
       "      <td>City Hall</td>\n",
       "      <td>January 11, 1785</td>\n",
       "      <td>October 6, 1788</td>\n",
       "      <td>3 years, 11 months and 5 days</td>\n",
       "      <td>New York</td>\n",
       "    </tr>\n",
       "    <tr>\n",
       "      <td>14</td>\n",
       "      <td>New York</td>\n",
       "      <td>Federal Hall</td>\n",
       "      <td>March 4, 1789</td>\n",
       "      <td>December 5, 1790</td>\n",
       "      <td>1 year, 9 months and 1 day</td>\n",
       "      <td>New York</td>\n",
       "    </tr>\n",
       "  </tbody>\n",
       "</table>\n",
       "</div>"
      ],
      "text/plain": [
       "        City      Building        Start Date          End Date  \\\n",
       "0     Albany    Stadt Huys     June 19, 1754     July 11, 1754   \n",
       "1   New York     City Hall   October 7, 1765  October 25, 1765   \n",
       "13  New York     City Hall  January 11, 1785   October 6, 1788   \n",
       "14  New York  Federal Hall     March 4, 1789  December 5, 1790   \n",
       "\n",
       "                         Duration     State  \n",
       "0                         22 days  New York  \n",
       "1                         23 days  New York  \n",
       "13  3 years, 11 months and 5 days  New York  \n",
       "14     1 year, 9 months and 1 day  New York  "
      ]
     },
     "execution_count": 26,
     "metadata": {},
     "output_type": "execute_result"
    }
   ],
   "source": [
    "df.loc[df.State==\"New York\"]"
   ]
  },
  {
   "cell_type": "markdown",
   "metadata": {
    "slideshow": {
     "slide_type": "slide"
    }
   },
   "source": [
    "## DataFrames as HTML"
   ]
  },
  {
   "cell_type": "markdown",
   "metadata": {
    "slideshow": {
     "slide_type": "subslide"
    }
   },
   "source": [
    "#### Pandas also had a `to_html` method that we can use to generate HTML tables from DataFrames."
   ]
  },
  {
   "cell_type": "code",
   "execution_count": 28,
   "metadata": {
    "scrolled": true,
    "slideshow": {
     "slide_type": "fragment"
    }
   },
   "outputs": [
    {
     "name": "stdout",
     "output_type": "stream",
     "text": [
      "<table border=\"1\" class=\"dataframe\">\n",
      "  <thead>\n",
      "    <tr style=\"text-align: right;\">\n",
      "      <th></th>\n",
      "      <th>City</th>\n",
      "      <th>Building</th>\n",
      "      <th>Start Date</th>\n",
      "      <th>End Date</th>\n",
      "      <th>Duration</th>\n",
      "      <th>State</th>\n",
      "    </tr>\n",
      "  </thead>\n",
      "  <tbody>\n",
      "    <tr>\n",
      "      <th>0</th>\n",
      "      <td>Albany</td>\n",
      "      <td>Stadt Huys</td>\n",
      "      <td>June 19, 1754</td>\n",
      "      <td>July 11, 1754</td>\n",
      "      <td>22 days</td>\n",
      "      <td>New York</td>\n",
      "    </tr>\n",
      "    <tr>\n",
      "      <th>1</th>\n",
      "      <td>New York</td>\n",
      "      <td>City Hall</td>\n",
      "      <td>October 7, 1765</td>\n",
      "      <td>October 25, 1765</td>\n",
      "      <td>23 days</td>\n",
      "      <td>New York</td>\n",
      "    </tr>\n",
      "    <tr>\n",
      "      <th>2</th>\n",
      "      <td>Philadelphia</td>\n",
      "      <td>Carpenters' Hall</td>\n",
      "      <td>September 5, 1774</td>\n",
      "      <td>October 26, 1774</td>\n",
      "      <td>1 month and 21 days</td>\n",
      "      <td>Pennsylvania</td>\n",
      "    </tr>\n",
      "    <tr>\n",
      "      <th>3</th>\n",
      "      <td>Philadelphia</td>\n",
      "      <td>Independence Hall</td>\n",
      "      <td>May 10, 1775</td>\n",
      "      <td>December 12, 1776</td>\n",
      "      <td>1 year, 7 months and 2 days</td>\n",
      "      <td>Pennsylvania</td>\n",
      "    </tr>\n",
      "    <tr>\n",
      "      <th>4</th>\n",
      "      <td>Baltimore</td>\n",
      "      <td>Henry Fite House</td>\n",
      "      <td>December 20, 1776</td>\n",
      "      <td>February 27, 1777</td>\n",
      "      <td>2 months and 7 days</td>\n",
      "      <td>Maryland</td>\n",
      "    </tr>\n",
      "    <tr>\n",
      "      <th>5</th>\n",
      "      <td>Philadelphia</td>\n",
      "      <td>Independence Hall</td>\n",
      "      <td>March 5, 1777</td>\n",
      "      <td>September 18, 1777</td>\n",
      "      <td>6 months and 13 days</td>\n",
      "      <td>Pennsylvania</td>\n",
      "    </tr>\n",
      "    <tr>\n",
      "      <th>6</th>\n",
      "      <td>Lancaster</td>\n",
      "      <td>Court House</td>\n",
      "      <td>September 27, 1777</td>\n",
      "      <td>September 27, 1777</td>\n",
      "      <td>1 day</td>\n",
      "      <td>Pennsylvania</td>\n",
      "    </tr>\n",
      "    <tr>\n",
      "      <th>7</th>\n",
      "      <td>York</td>\n",
      "      <td>Court House</td>\n",
      "      <td>September 30, 1777</td>\n",
      "      <td>June 27, 1778</td>\n",
      "      <td>8 months and 28 days</td>\n",
      "      <td>Pennsylvania</td>\n",
      "    </tr>\n",
      "    <tr>\n",
      "      <th>8</th>\n",
      "      <td>Philadelphia</td>\n",
      "      <td>College Hall[citation needed]</td>\n",
      "      <td>July 2, 1778</td>\n",
      "      <td>March 1, 1781</td>\n",
      "      <td>2 years, 7 months and 27 days</td>\n",
      "      <td>Pennsylvania</td>\n",
      "    </tr>\n",
      "    <tr>\n",
      "      <th>9</th>\n",
      "      <td>Philadelphia</td>\n",
      "      <td>Independence Hall</td>\n",
      "      <td>March 2, 1781</td>\n",
      "      <td>June 21, 1783</td>\n",
      "      <td>2 years, 3 months and 19 days</td>\n",
      "      <td>Pennsylvania</td>\n",
      "    </tr>\n",
      "    <tr>\n",
      "      <th>10</th>\n",
      "      <td>Princeton</td>\n",
      "      <td>Nassau Hall</td>\n",
      "      <td>June 30, 1783</td>\n",
      "      <td>November 4, 1783</td>\n",
      "      <td>4 months and 5 days</td>\n",
      "      <td>New Jersey</td>\n",
      "    </tr>\n",
      "    <tr>\n",
      "      <th>11</th>\n",
      "      <td>Annapolis</td>\n",
      "      <td>Maryland State House</td>\n",
      "      <td>November 26, 1783</td>\n",
      "      <td>August 19, 1784</td>\n",
      "      <td>8 months and 24 days</td>\n",
      "      <td>Maryland</td>\n",
      "    </tr>\n",
      "    <tr>\n",
      "      <th>12</th>\n",
      "      <td>Trenton</td>\n",
      "      <td>French Arms Tavern</td>\n",
      "      <td>November 1, 1784</td>\n",
      "      <td>December 24, 1784</td>\n",
      "      <td>1 month and 23 days</td>\n",
      "      <td>New Jersey</td>\n",
      "    </tr>\n",
      "    <tr>\n",
      "      <th>13</th>\n",
      "      <td>New York</td>\n",
      "      <td>City Hall</td>\n",
      "      <td>January 11, 1785</td>\n",
      "      <td>October 6, 1788</td>\n",
      "      <td>3 years, 11 months and 5 days</td>\n",
      "      <td>New York</td>\n",
      "    </tr>\n",
      "    <tr>\n",
      "      <th>14</th>\n",
      "      <td>New York</td>\n",
      "      <td>Federal Hall</td>\n",
      "      <td>March 4, 1789</td>\n",
      "      <td>December 5, 1790</td>\n",
      "      <td>1 year, 9 months and 1 day</td>\n",
      "      <td>New York</td>\n",
      "    </tr>\n",
      "    <tr>\n",
      "      <th>15</th>\n",
      "      <td>Philadelphia</td>\n",
      "      <td>Congress Hall</td>\n",
      "      <td>December 6, 1790</td>\n",
      "      <td>May 14, 1800</td>\n",
      "      <td>9 years, 5 months and 8 days</td>\n",
      "      <td>Pennsylvania</td>\n",
      "    </tr>\n",
      "    <tr>\n",
      "      <th>16</th>\n",
      "      <td>District of Columbia</td>\n",
      "      <td>United States Capitol</td>\n",
      "      <td>November 17, 1800</td>\n",
      "      <td>August 24, 1814</td>\n",
      "      <td>13 years, 9 months and 7 days</td>\n",
      "      <td>None</td>\n",
      "    </tr>\n",
      "    <tr>\n",
      "      <th>17</th>\n",
      "      <td>Washington</td>\n",
      "      <td>Blodgett's Hotel</td>\n",
      "      <td>September 19, 1814</td>\n",
      "      <td>December 7, 1815</td>\n",
      "      <td>1 year, 2 months and 18 days</td>\n",
      "      <td>D.C.</td>\n",
      "    </tr>\n",
      "    <tr>\n",
      "      <th>18</th>\n",
      "      <td>Washington</td>\n",
      "      <td>Old Brick Capitol</td>\n",
      "      <td>December 4, 1815</td>\n",
      "      <td>March 3, 1819</td>\n",
      "      <td>3 years, 2 months and 27 days</td>\n",
      "      <td>D.C.</td>\n",
      "    </tr>\n",
      "    <tr>\n",
      "      <th>19</th>\n",
      "      <td>Washington</td>\n",
      "      <td>United States Capitol</td>\n",
      "      <td>March 4, 1819</td>\n",
      "      <td>present</td>\n",
      "      <td>201 years, 9 months and 13 days</td>\n",
      "      <td>D.C.</td>\n",
      "    </tr>\n",
      "  </tbody>\n",
      "</table>\n"
     ]
    }
   ],
   "source": [
    "html_table = df.to_html()\n",
    "print(html_table)"
   ]
  },
  {
   "cell_type": "markdown",
   "metadata": {
    "slideshow": {
     "slide_type": "subslide"
    }
   },
   "source": [
    "#### You may have to strip unwanted newlines to clean up the table."
   ]
  },
  {
   "cell_type": "code",
   "execution_count": 29,
   "metadata": {
    "scrolled": true,
    "slideshow": {
     "slide_type": "fragment"
    }
   },
   "outputs": [
    {
     "data": {
      "text/plain": [
       "'<table border=\"1\" class=\"dataframe\">  <thead>    <tr style=\"text-align: right;\">      <th></th>      <th>City</th>      <th>Building</th>      <th>Start Date</th>      <th>End Date</th>      <th>Duration</th>      <th>State</th>    </tr>  </thead>  <tbody>    <tr>      <th>0</th>      <td>Albany</td>      <td>Stadt Huys</td>      <td>June 19, 1754</td>      <td>July 11, 1754</td>      <td>22\\xa0days</td>      <td>New York</td>    </tr>    <tr>      <th>1</th>      <td>New York</td>      <td>City Hall</td>      <td>October 7, 1765</td>      <td>October 25, 1765</td>      <td>23\\xa0days</td>      <td>New York</td>    </tr>    <tr>      <th>2</th>      <td>Philadelphia</td>      <td>Carpenters\\' Hall</td>      <td>September 5, 1774</td>      <td>October 26, 1774</td>      <td>1\\xa0month and 21\\xa0days</td>      <td>Pennsylvania</td>    </tr>    <tr>      <th>3</th>      <td>Philadelphia</td>      <td>Independence Hall</td>      <td>May 10, 1775</td>      <td>December 12, 1776</td>      <td>1\\xa0year, 7\\xa0months and 2\\xa0days</td>      <td>Pennsylvania</td>    </tr>    <tr>      <th>4</th>      <td>Baltimore</td>      <td>Henry Fite House</td>      <td>December 20, 1776</td>      <td>February 27, 1777</td>      <td>2\\xa0months and 7\\xa0days</td>      <td>Maryland</td>    </tr>    <tr>      <th>5</th>      <td>Philadelphia</td>      <td>Independence Hall</td>      <td>March 5, 1777</td>      <td>September 18, 1777</td>      <td>6\\xa0months and 13\\xa0days</td>      <td>Pennsylvania</td>    </tr>    <tr>      <th>6</th>      <td>Lancaster</td>      <td>Court House</td>      <td>September 27, 1777</td>      <td>September 27, 1777</td>      <td>1\\xa0day</td>      <td>Pennsylvania</td>    </tr>    <tr>      <th>7</th>      <td>York</td>      <td>Court House</td>      <td>September 30, 1777</td>      <td>June 27, 1778</td>      <td>8\\xa0months and 28\\xa0days</td>      <td>Pennsylvania</td>    </tr>    <tr>      <th>8</th>      <td>Philadelphia</td>      <td>College Hall[citation needed]</td>      <td>July 2, 1778</td>      <td>March 1, 1781</td>      <td>2\\xa0years, 7\\xa0months and 27\\xa0days</td>      <td>Pennsylvania</td>    </tr>    <tr>      <th>9</th>      <td>Philadelphia</td>      <td>Independence Hall</td>      <td>March 2, 1781</td>      <td>June 21, 1783</td>      <td>2\\xa0years, 3\\xa0months and 19\\xa0days</td>      <td>Pennsylvania</td>    </tr>    <tr>      <th>10</th>      <td>Princeton</td>      <td>Nassau Hall</td>      <td>June 30, 1783</td>      <td>November 4, 1783</td>      <td>4\\xa0months and 5\\xa0days</td>      <td>New Jersey</td>    </tr>    <tr>      <th>11</th>      <td>Annapolis</td>      <td>Maryland State House</td>      <td>November 26, 1783</td>      <td>August 19, 1784</td>      <td>8\\xa0months and 24\\xa0days</td>      <td>Maryland</td>    </tr>    <tr>      <th>12</th>      <td>Trenton</td>      <td>French Arms Tavern</td>      <td>November 1, 1784</td>      <td>December 24, 1784</td>      <td>1\\xa0month and 23\\xa0days</td>      <td>New Jersey</td>    </tr>    <tr>      <th>13</th>      <td>New York</td>      <td>City Hall</td>      <td>January 11, 1785</td>      <td>October 6, 1788</td>      <td>3\\xa0years, 11\\xa0months and 5\\xa0days</td>      <td>New York</td>    </tr>    <tr>      <th>14</th>      <td>New York</td>      <td>Federal Hall</td>      <td>March 4, 1789</td>      <td>December 5, 1790</td>      <td>1\\xa0year, 9\\xa0months and 1\\xa0day</td>      <td>New York</td>    </tr>    <tr>      <th>15</th>      <td>Philadelphia</td>      <td>Congress Hall</td>      <td>December 6, 1790</td>      <td>May 14, 1800</td>      <td>9\\xa0years, 5\\xa0months and 8\\xa0days</td>      <td>Pennsylvania</td>    </tr>    <tr>      <th>16</th>      <td>District of Columbia</td>      <td>United States Capitol</td>      <td>November 17, 1800</td>      <td>August 24, 1814</td>      <td>13\\xa0years, 9\\xa0months and 7\\xa0days</td>      <td>None</td>    </tr>    <tr>      <th>17</th>      <td>Washington</td>      <td>Blodgett\\'s Hotel</td>      <td>September 19, 1814</td>      <td>December 7, 1815</td>      <td>1\\xa0year, 2\\xa0months and 18\\xa0days</td>      <td>D.C.</td>    </tr>    <tr>      <th>18</th>      <td>Washington</td>      <td>Old Brick Capitol</td>      <td>December 4, 1815</td>      <td>March 3, 1819</td>      <td>3\\xa0years, 2\\xa0months and 27\\xa0days</td>      <td>D.C.</td>    </tr>    <tr>      <th>19</th>      <td>Washington</td>      <td>United States Capitol</td>      <td>March 4, 1819</td>      <td>present</td>      <td>201\\xa0years, 9\\xa0months and 13\\xa0days</td>      <td>D.C.</td>    </tr>  </tbody></table>'"
      ]
     },
     "execution_count": 29,
     "metadata": {},
     "output_type": "execute_result"
    }
   ],
   "source": [
    "html_table.replace('\\n', '')"
   ]
  },
  {
   "cell_type": "markdown",
   "metadata": {
    "slideshow": {
     "slide_type": "subslide"
    }
   },
   "source": [
    "You can also save the table directly to a file."
   ]
  },
  {
   "cell_type": "code",
   "execution_count": 30,
   "metadata": {
    "slideshow": {
     "slide_type": "fragment"
    }
   },
   "outputs": [],
   "source": [
    "df.to_html('table.html')"
   ]
  },
  {
   "cell_type": "code",
   "execution_count": null,
   "metadata": {
    "slideshow": {
     "slide_type": "fragment"
    }
   },
   "outputs": [],
   "source": [
    "# OSX Users can run this to open the file in a browser, \n",
    "# or you can manually find the file and open it in the browser\n",
    "!open table.html"
   ]
  },
  {
   "cell_type": "code",
   "execution_count": 31,
   "metadata": {},
   "outputs": [],
   "source": [
    "!start table.html"
   ]
  },
  {
   "cell_type": "code",
   "execution_count": null,
   "metadata": {},
   "outputs": [],
   "source": []
  }
 ],
 "metadata": {
  "kernelspec": {
   "display_name": "Python 3",
   "language": "python",
   "name": "python3"
  },
  "language_info": {
   "codemirror_mode": {
    "name": "ipython",
    "version": 3
   },
   "file_extension": ".py",
   "mimetype": "text/x-python",
   "name": "python",
   "nbconvert_exporter": "python",
   "pygments_lexer": "ipython3",
   "version": "3.7.4"
  },
  "varInspector": {
   "cols": {
    "lenName": 16,
    "lenType": 16,
    "lenVar": 40
   },
   "kernels_config": {
    "python": {
     "delete_cmd_postfix": "",
     "delete_cmd_prefix": "del ",
     "library": "var_list.py",
     "varRefreshCmd": "print(var_dic_list())"
    },
    "r": {
     "delete_cmd_postfix": ") ",
     "delete_cmd_prefix": "rm(",
     "library": "var_list.r",
     "varRefreshCmd": "cat(var_dic_list()) "
    }
   },
   "types_to_exclude": [
    "module",
    "function",
    "builtin_function_or_method",
    "instance",
    "_Feature"
   ],
   "window_display": false
  }
 },
 "nbformat": 4,
 "nbformat_minor": 2
}
