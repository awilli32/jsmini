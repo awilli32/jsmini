{
 "cells": [
  {
   "cell_type": "code",
   "execution_count": null,
   "metadata": {},
   "outputs": [],
   "source": [
    "#!pip install sqlalchemy\n",
    "#!pip install pymysql"
   ]
  },
  {
   "cell_type": "code",
   "execution_count": null,
   "metadata": {},
   "outputs": [],
   "source": [
    "# SQL Alchemy\n",
    "from sqlalchemy import create_engine\n",
    "\n",
    "# PyMySQL \n",
    "import pymysql\n",
    "pymysql.install_as_MySQLdb()\n",
    "\n",
    "# Config variables\n",
    "from config import remote_db_endpoint, remote_db_port\n",
    "from config import remote_db_name, remote_db_user, remote_db_pwd\n",
    "from config import local_db_user, local_db_pwd, local_db_endpoint, local_db_port, local_db_name\n",
    "\n",
    "# Import Pandas\n",
    "import pandas as pd"
   ]
  },
  {
   "cell_type": "code",
   "execution_count": null,
   "metadata": {},
   "outputs": [],
   "source": [
    "# Create Engine and Pass in MySQL Connection\n",
    "\n",
    "# local Postgres DB Connection  \n",
    "local_engine = create_engine(f\"postgresql://{local_db_user}:{local_db_pwd}@{local_db_endpoint}:{local_db_port}\")\n",
    "#print(f\"postgresql://{local_db_user}:{local_db_pwd}@{local_db_endpoint}:{local_db_port}\")\n",
    "\n",
    "# Cloud MySQL Database Connection on AWS\n",
    "cloud_engine = create_engine(f\"mysql://{remote_db_user}:{remote_db_pwd}@{remote_db_endpoint}:{remote_db_port}/{remote_db_name}\")"
   ]
  },
  {
   "cell_type": "code",
   "execution_count": null,
   "metadata": {},
   "outputs": [],
   "source": [
    "# Create a local database engine connection\n",
    "local_conn = local_engine.connect()\n",
    "\n",
    "# Create a remote database engine connection\n",
    "cloud_conn = cloud_engine.connect()"
   ]
  },
  {
   "cell_type": "code",
   "execution_count": null,
   "metadata": {},
   "outputs": [],
   "source": [
    "# Create local gwsis database\n",
    "try:\n",
    "    local_conn.execution_options(isolation_level=\"AUTOCOMMIT\").execute(f\"CREATE DATABASE {local_db_name}\")\n",
    "except Exception as e:\n",
    "    print(e)\n",
    "    \n",
    "# Connect to local gwsis database\n",
    "try:\n",
    "    local_engine = create_engine(f\"postgresql://{local_db_user}:{local_db_pwd}@{local_db_endpoint}:{local_db_port}/{local_db_name}\")\n",
    "    local_conn = local_engine.connect()\n",
    "except Exception as e:\n",
    "    print(e)    "
   ]
  },
  {
   "cell_type": "markdown",
   "metadata": {},
   "source": [
    "## ETL Example 1\n",
    "\n",
    "This code segment will migrate student enrollment data from your MySQL database hosted on AWS to your local Postgres database hosted on your machine."
   ]
  },
  {
   "cell_type": "code",
   "execution_count": null,
   "metadata": {},
   "outputs": [],
   "source": [
    "# Query the remote MySQL database\n",
    "student_data = pd.read_sql(\"SELECT * FROM all_student_enrollment\", cloud_conn)\n",
    "student_data.head()"
   ]
  },
  {
   "cell_type": "code",
   "execution_count": null,
   "metadata": {},
   "outputs": [],
   "source": [
    "student_data_load = student_data \n",
    "#student_data_load.drop(columns=['ID_Student'], inplace=True)"
   ]
  },
  {
   "cell_type": "code",
   "execution_count": null,
   "metadata": {},
   "outputs": [],
   "source": [
    "student_data_load.to_sql(name='student_enrollment', if_exists='replace', con=local_conn, index=False)"
   ]
  },
  {
   "cell_type": "code",
   "execution_count": null,
   "metadata": {},
   "outputs": [],
   "source": [
    "local_student_data = pd.read_sql(\"SELECT * FROM student_enrollment\", local_conn)\n",
    "print(len(local_student_data))\n",
    "local_student_data.head()"
   ]
  },
  {
   "cell_type": "markdown",
   "metadata": {},
   "source": [
    "## ETL Example 2\n",
    "\n",
    "This code segment will migrate data from a local csv to your MySQL database hosted on AWS"
   ]
  },
  {
   "cell_type": "code",
   "execution_count": null,
   "metadata": {},
   "outputs": [],
   "source": [
    "census_data = pd.read_csv('../Resources/Census_Data.csv')\n",
    "census_data.head()"
   ]
  },
  {
   "cell_type": "code",
   "execution_count": null,
   "metadata": {},
   "outputs": [],
   "source": [
    "census_data.to_sql(name='census_data', if_exists='append', con=cloud_conn, index=False)"
   ]
  },
  {
   "cell_type": "code",
   "execution_count": null,
   "metadata": {},
   "outputs": [],
   "source": [
    "remote_census_data = pd.read_sql(\"SELECT * FROM census_data WHERE city='Chicago'\", cloud_conn)\n",
    "print(len(remote_census_data))\n",
    "remote_census_data.head(50)"
   ]
  }
 ],
 "metadata": {
  "anaconda-cloud": {},
  "kernelspec": {
   "display_name": "Python 3",
   "language": "python",
   "name": "python3"
  },
  "language_info": {
   "codemirror_mode": {
    "name": "ipython",
    "version": 3
   },
   "file_extension": ".py",
   "mimetype": "text/x-python",
   "name": "python",
   "nbconvert_exporter": "python",
   "pygments_lexer": "ipython3",
   "version": "3.8.5"
  },
  "varInspector": {
   "cols": {
    "lenName": 16,
    "lenType": 16,
    "lenVar": 40
   },
   "kernels_config": {
    "python": {
     "delete_cmd_postfix": "",
     "delete_cmd_prefix": "del ",
     "library": "var_list.py",
     "varRefreshCmd": "print(var_dic_list())"
    },
    "r": {
     "delete_cmd_postfix": ") ",
     "delete_cmd_prefix": "rm(",
     "library": "var_list.r",
     "varRefreshCmd": "cat(var_dic_list()) "
    }
   },
   "types_to_exclude": [
    "module",
    "function",
    "builtin_function_or_method",
    "instance",
    "_Feature"
   ],
   "window_display": false
  }
 },
 "nbformat": 4,
 "nbformat_minor": 1
}
