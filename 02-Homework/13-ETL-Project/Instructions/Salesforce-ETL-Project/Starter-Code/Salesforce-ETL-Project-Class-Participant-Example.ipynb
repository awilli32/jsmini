{
 "cells": [
  {
   "cell_type": "code",
   "execution_count": null,
   "metadata": {},
   "outputs": [],
   "source": [
    "#!pip install simple_salesforce\n",
    "#!pip install pymysql\n",
    "#!pip install sqlalchemy"
   ]
  },
  {
   "cell_type": "code",
   "execution_count": null,
   "metadata": {},
   "outputs": [],
   "source": [
    "import json\n",
    "from sqlalchemy import create_engine\n",
    "from datetime import date\n",
    "import pandas as pd\n",
    "import pymysql\n",
    "pymysql.install_as_MySQLdb()"
   ]
  },
  {
   "cell_type": "code",
   "execution_count": null,
   "metadata": {},
   "outputs": [],
   "source": [
    "# Make sure to use your own `config.py` file. Consider ensuring that these variable names are in sync\n",
    "from config import sf_username, sf_password, sf_security_token\n",
    "from config import remote_db_endpoint, remote_db_port\n",
    "from config import remote_db_name, remote_db_user, remote_db_pwd"
   ]
  },
  {
   "cell_type": "code",
   "execution_count": null,
   "metadata": {},
   "outputs": [],
   "source": [
    "from simple_salesforce import Salesforce\n",
    "sf = Salesforce(username=sf_username, password=sf_password, security_token=sf_security_token)"
   ]
  },
  {
   "cell_type": "code",
   "execution_count": null,
   "metadata": {},
   "outputs": [],
   "source": [
    "engine = create_engine(f\"mysql://{remote_db_user}:{remote_db_pwd}@{remote_db_endpoint}:{remote_db_port}/{remote_db_name}\")\n",
    "conn = engine.connect()"
   ]
  },
  {
   "cell_type": "markdown",
   "metadata": {},
   "source": [
    "## Prepare ETL for the Course data"
   ]
  },
  {
   "cell_type": "code",
   "execution_count": null,
   "metadata": {},
   "outputs": [],
   "source": [
    "course_data_df = pd.read_sql(\"SELECT * FROM course\", conn)\n",
    "course_data_df.head(30)"
   ]
  },
  {
   "cell_type": "code",
   "execution_count": null,
   "metadata": {},
   "outputs": [],
   "source": [
    "course_data_df.rename(columns={\n",
    "    'CourseCode':'Course_Code__c',\n",
    "    'CourseName':'Course_Name__c',\n",
    "    'CreditHours':'Credit_Hours__c',\n",
    "    'BootCampCourse':'Boot_Camp_Course__c',    \n",
    "}, inplace=True)\n",
    "course_data_df.head()"
   ]
  },
  {
   "cell_type": "code",
   "execution_count": null,
   "metadata": {},
   "outputs": [],
   "source": [
    "course_data_df = course_data_df[['Course_Code__c', 'Course_Name__c', 'Credit_Hours__c', 'Boot_Camp_Course__c']]\n",
    "course_data_df.head()"
   ]
  },
  {
   "cell_type": "code",
   "execution_count": null,
   "metadata": {},
   "outputs": [],
   "source": [
    "course_data_records = course_data_df.to_dict('records')\n",
    "course_data_records"
   ]
  },
  {
   "cell_type": "code",
   "execution_count": null,
   "metadata": {},
   "outputs": [],
   "source": [
    "for rec in course_data_records:\n",
    "\n",
    "    record = {\n",
    "        'Course_Code__c': rec['Course_Code__c'],\n",
    "        'Course_Name__c': rec['Course_Name__c'],\n",
    "        'Credit_Hours__c': rec['Credit_Hours__c'],\n",
    "        'Boot_Camp_Course__c': rec['Boot_Camp_Course__c'],\n",
    "    }\n",
    "    \n",
    "    try:\n",
    "        sf.Course__c.create(record)\n",
    "    except Exception as e:\n",
    "        print(e)"
   ]
  },
  {
   "cell_type": "code",
   "execution_count": null,
   "metadata": {},
   "outputs": [],
   "source": [
    "# Bulk \n",
    "# sf.bulk.Course__c.insert(course_data_records)"
   ]
  },
  {
   "cell_type": "markdown",
   "metadata": {},
   "source": [
    "## Create Course Lookup Table\n",
    "You will use this later to crosswalk the course code with the primary key from the `Course` table\n",
    "\n",
    "It is important to note that we will be querying **Salesforce** to retrieve the record IDs "
   ]
  },
  {
   "cell_type": "code",
   "execution_count": null,
   "metadata": {},
   "outputs": [],
   "source": [
    "course_lookup_list = []\n",
    "\n",
    "# The `Name` column in the primary key in Salesforce objects\n",
    "# The Salesforce query language is called SOQL \n",
    "data = sf.query_all_iter(\"SELECT Name, Course_Code__c FROM Course__c\")\n",
    "for row in data:\n",
    "    rec = {\n",
    "        'ID_Course__c': row['Name'], # this is a critical line of code\n",
    "        'Course_Code__c': row['Course_Code__c']\n",
    "    }\n",
    "    course_lookup_list.append(rec)\n",
    "    \n",
    "course_lookup_list"
   ]
  },
  {
   "cell_type": "code",
   "execution_count": null,
   "metadata": {},
   "outputs": [],
   "source": [
    "course_lookup_df = pd.DataFrame(course_lookup_list)\n",
    "course_lookup_df"
   ]
  },
  {
   "cell_type": "code",
   "execution_count": null,
   "metadata": {},
   "outputs": [],
   "source": [
    "# Query the `Class` table from MySQL\n",
    "query = '''\n",
    "    SELECT \n",
    "        co.CourseCode,\n",
    "        cl.*\n",
    "    FROM \n",
    "        class cl\n",
    "        INNER JOIN course co\n",
    "        ON cl.ID_Course = co.ID_Course\n",
    "\n",
    "'''\n",
    "\n",
    "class_data_df = pd.read_sql(query, conn)\n",
    "class_data_df.head()"
   ]
  },
  {
   "cell_type": "code",
   "execution_count": null,
   "metadata": {},
   "outputs": [],
   "source": [
    "class_data_df.rename(columns={\n",
    "    'CourseCode':'Course_Code__c',\n",
    "    'Section':'Section__c',\n",
    "    'StartDate':'Start_Date__c',\n",
    "    'EndDate':'End_Date__c',\n",
    "    'CourseCode':'Course_Code__c'\n",
    "}, inplace=True)\n",
    "\n",
    "\n",
    "class_data_df = class_data_df[['Course_Code__c', 'Section__c', 'Start_Date__c', 'End_Date__c']]\n",
    "class_data_df"
   ]
  },
  {
   "cell_type": "markdown",
   "metadata": {},
   "source": [
    "## Join the Class DataFrame with the Course lookup table\n",
    "This join is necessary to successfully lookup the foreign key for the Course table "
   ]
  },
  {
   "cell_type": "code",
   "execution_count": null,
   "metadata": {},
   "outputs": [],
   "source": [
    "class_data_df = pd.merge(class_data_df, course_lookup_df, how='left')\n",
    "#class_data_df.drop(columns = ['ID_Class','ID_Course','CourseName','CreditHours','BootCampCourse','Course_Code__c'], inplace=True)\n",
    "\n",
    "class_data_df.head()"
   ]
  },
  {
   "cell_type": "code",
   "execution_count": null,
   "metadata": {},
   "outputs": [],
   "source": [
    "#class_data_df\n",
    "class_data_df['Start_Date__c'] = class_data_df['Start_Date__c'].astype(str)\n",
    "class_data_df['End_Date__c'] = class_data_df['End_Date__c'].astype(str)\n",
    "\n",
    "class_data_df.head()"
   ]
  },
  {
   "cell_type": "code",
   "execution_count": null,
   "metadata": {},
   "outputs": [],
   "source": [
    "class_data_records = class_data_df.to_dict(orient='records')\n",
    "class_data_records"
   ]
  },
  {
   "cell_type": "markdown",
   "metadata": {},
   "source": [
    "## Insert `Class` Records into Salesforce"
   ]
  },
  {
   "cell_type": "code",
   "execution_count": null,
   "metadata": {},
   "outputs": [],
   "source": [
    "for rec in class_data_records:\n",
    " \n",
    "    record = {\n",
    "        'ID_Course__c': rec['ID_Course__c'],\n",
    "        'Section__c': rec['Section__c'],\n",
    "        'Start_Date__c': rec['Start_Date__c'],\n",
    "        'End_Date__c': rec['End_Date__c'],\n",
    "    }\n",
    "    \n",
    "    try:\n",
    "        sf.Class__C.create(record)\n",
    "    except Exception as e:\n",
    "        print(e)"
   ]
  },
  {
   "cell_type": "markdown",
   "metadata": {},
   "source": [
    "# Query `Student` Records from MySQL"
   ]
  },
  {
   "cell_type": "code",
   "execution_count": null,
   "metadata": {},
   "outputs": [],
   "source": [
    "query = '''\n",
    "    SELECT \n",
    "        StudentID AS Student_ID__c,\n",
    "        LastName AS Last_Name__c,\n",
    "        FirstName AS First_Name__c,\n",
    "        MiddleName AS Middle_Name__c,\n",
    "        BirthDate AS Birth_Date__c,\n",
    "        Gender AS Gender__c\n",
    "    FROM\n",
    "        student\n",
    "'''\n",
    "\n",
    "student_df = pd.read_sql(query, conn)\n",
    "\n",
    "print(student_df.head())\n",
    "\n",
    "student_dict = student_df.to_dict(orient='records')\n",
    "\n",
    "student_dict"
   ]
  },
  {
   "cell_type": "code",
   "execution_count": null,
   "metadata": {},
   "outputs": [],
   "source": [
    "try:\n",
    "    for rec in student_dict:\n",
    "        sf.Student__c.create(rec)\n",
    "except Exception as e:\n",
    "    print(e)"
   ]
  },
  {
   "cell_type": "markdown",
   "metadata": {},
   "source": [
    "# Class Participant Example "
   ]
  },
  {
   "cell_type": "code",
   "execution_count": null,
   "metadata": {},
   "outputs": [],
   "source": [
    "sf_course_records = []\n",
    "\n",
    "sf_course_data = sf.query('SELECT Name, Course_Code__c FROM Course__c')\n",
    "\n",
    "for row in sf_course_data['records']:\n",
    "    \n",
    "    rec = {\n",
    "        'ID_Course__c': row['Name'],\n",
    "        'Course_Code__c': row['Course_Code__c']\n",
    "    }\n",
    "    \n",
    "    sf_course_records.append(rec)\n",
    "    \n",
    "sf_course_df = pd.DataFrame(sf_course_records)\n",
    "sf_course_df.head()"
   ]
  },
  {
   "cell_type": "code",
   "execution_count": null,
   "metadata": {},
   "outputs": [],
   "source": [
    "sf_class_records = []\n",
    "\n",
    "sf_class_data = sf.query('SELECT ID_Course__c, Name, Section__c FROM Class__c')\n",
    "\n",
    "for row in sf_class_data['records']:\n",
    "    \n",
    "    rec = {\n",
    "        'ID_Course__c': row['ID_Course__c'],\n",
    "        'ID_Class__c': row['Name'],\n",
    "        'Section__c': row['Section__c']\n",
    "    }\n",
    "    \n",
    "    sf_class_records.append(rec)\n",
    "    \n",
    "# temporary workaround to strip last three characters from ID_Course__c\n",
    "for rec in sf_class_records:\n",
    "    rec['ID_Course__c'] = rec['ID_Course__c'][:-3]\n",
    "    \n",
    "sf_class_df = pd.DataFrame(sf_class_records)\n",
    "sf_class_df.head()"
   ]
  },
  {
   "cell_type": "code",
   "execution_count": null,
   "metadata": {},
   "outputs": [],
   "source": [
    "sf_class_xwalk = pd.merge(sf_class_df, sf_course_df)\n",
    "sf_class_xwalk"
   ]
  },
  {
   "cell_type": "code",
   "execution_count": null,
   "metadata": {},
   "outputs": [],
   "source": [
    "sf_student_records = []\n",
    "\n",
    "sf_student_data = sf.query('SELECT Name, Student_ID__c FROM Student__c')\n",
    "\n",
    "for row in sf_student_data['records']:\n",
    "    \n",
    "    rec = {\n",
    "        'ID_Student__c': row['Name'],\n",
    "        'Student_ID__c': row['Student_ID__c']\n",
    "    }\n",
    "    \n",
    "    sf_student_records.append(rec)\n",
    "    \n",
    "sf_student_xwalk = pd.DataFrame(sf_student_records)\n",
    "sf_student_xwalk.head()"
   ]
  },
  {
   "cell_type": "code",
   "execution_count": null,
   "metadata": {},
   "outputs": [],
   "source": [
    "query = '''\n",
    "\n",
    "    SELECT\n",
    "        s.StudentID AS Student_ID__c,\n",
    "        co.CourseCode AS Course_Code__c,\n",
    "        cl.Section AS Section__c,\n",
    "        cp.StartDate AS Start_Date__c,\n",
    "        cp.EndDate AS End_Date__c\n",
    "    FROM \n",
    "        classparticipant cp\n",
    "        INNER JOIN class cl\n",
    "        ON cp.ID_Class = cl.ID_Class\n",
    "        INNER JOIN course co\n",
    "        ON cl.ID_Course = co.ID_Course\n",
    "        INNER JOIN student s\n",
    "        ON cp.ID_Student = s.ID_Student\n",
    "\n",
    "'''\n",
    "\n",
    "classparticiant_df = pd.read_sql(query, conn)\n",
    "classparticiant_df.head()"
   ]
  },
  {
   "cell_type": "code",
   "execution_count": null,
   "metadata": {},
   "outputs": [],
   "source": [
    "#sf_class_xwalk\n",
    "#sf_student_xwalk\n",
    "\n",
    "class_participant_load = pd.merge(classparticiant_df, sf_class_xwalk, on=['Course_Code__c', 'Section__c'])\n",
    "\n",
    "class_participant_load = pd.merge(class_participant_load, sf_student_xwalk)\n",
    "\n",
    "class_participant_load = class_participant_load[['ID_Student__c','ID_Class__c','Start_Date__c','End_Date__c']]\n",
    "\n",
    "class_participant_load['Start_Date__c'] = class_participant_load['Start_Date__c'].astype(str)\n",
    "\n",
    "class_participant_load\n",
    "\n",
    "class_participant_records = class_participant_load.to_dict(orient='records')\n",
    "class_participant_records"
   ]
  },
  {
   "cell_type": "code",
   "execution_count": null,
   "metadata": {},
   "outputs": [],
   "source": [
    "for row in class_participant_records:\n",
    "    try:\n",
    "        sf.Class_Participant__c.create(row)\n",
    "    except Exception as e:\n",
    "        print(e)"
   ]
  },
  {
   "cell_type": "markdown",
   "metadata": {},
   "source": [
    "## Example of Deleting Records\n",
    "\n",
    "Select the IDs of the records first and then process the results.\n",
    "\n",
    "Ultimately, you want a list of IDs in the end.\n"
   ]
  },
  {
   "cell_type": "code",
   "execution_count": null,
   "metadata": {},
   "outputs": [],
   "source": [
    "class_records = sf.query(\"SELECT Name FROM Student__c\")\n",
    "recs_to_delete = [{'Id': r['Name']} for r in class_records['records']]\n",
    "recs_to_delete"
   ]
  },
  {
   "cell_type": "code",
   "execution_count": null,
   "metadata": {},
   "outputs": [],
   "source": [
    "#sf.bulk.Course__c.delete(recs_to_delete)"
   ]
  },
  {
   "cell_type": "code",
   "execution_count": null,
   "metadata": {},
   "outputs": [],
   "source": [
    "for rec in recs_to_delete:\n",
    "    try:\n",
    "        sf.Student__c.delete(rec['Id'])\n",
    "    except Exception as e:\n",
    "        print(e)"
   ]
  },
  {
   "cell_type": "code",
   "execution_count": null,
   "metadata": {},
   "outputs": [],
   "source": [
    "sa_records = sf.query(\"SELECT Name FROM Staff_Assignment__c\")\n",
    "recs_to_delete = [{'Id': r['Name']} for r in sa_records['records']]\n",
    "sf.bulk.Staff_Assignment__c.delete(recs_to_delete)"
   ]
  },
  {
   "cell_type": "code",
   "execution_count": null,
   "metadata": {},
   "outputs": [],
   "source": [
    "cp_records = sf.query(\"SELECT Name FROM Class_Participant__c\")\n",
    "recs_to_delete = [{'Id': r['Name']} for r in cp_records['records']]\n",
    "sf.bulk.Class_Participant__c.delete(recs_to_delete)"
   ]
  },
  {
   "cell_type": "code",
   "execution_count": null,
   "metadata": {},
   "outputs": [],
   "source": [
    "class_records = sf.query(\"SELECT Name FROM Class__c\")\n",
    "recs_to_delete = [{'Id': r['Name']} for r in class_records['records']]\n",
    "sf.bulk.Class__c.delete(recs_to_delete)"
   ]
  },
  {
   "cell_type": "code",
   "execution_count": null,
   "metadata": {},
   "outputs": [],
   "source": [
    "staff_records = sf.query(\"SELECT Name FROM Staff__c\")\n",
    "recs_to_delete = [{'Id': r['Name']} for r in staff_records['records']]\n",
    "sf.bulk.Staff__c.delete(recs_to_delete)"
   ]
  },
  {
   "cell_type": "code",
   "execution_count": null,
   "metadata": {},
   "outputs": [],
   "source": [
    "student_records = sf.query(\"SELECT Name FROM Student__c\")\n",
    "recs_to_delete = [{'Id': r['Name']} for r in class_records['records']]\n",
    "sf.bulk.Student__c.delete(recs_to_delete)"
   ]
  },
  {
   "cell_type": "code",
   "execution_count": null,
   "metadata": {},
   "outputs": [],
   "source": [
    "course_records = sf.query(\"SELECT Name FROM Course__c\")\n",
    "recs_to_delete = [{'Id': r['Name']} for r in course_records['records']]\n",
    "sf.bulk.Course__c.delete(recs_to_delete)"
   ]
  },
  {
   "cell_type": "code",
   "execution_count": null,
   "metadata": {},
   "outputs": [],
   "source": []
  }
 ],
 "metadata": {
  "kernelspec": {
   "display_name": "Python 3",
   "language": "python",
   "name": "python3"
  },
  "language_info": {
   "codemirror_mode": {
    "name": "ipython",
    "version": 3
   },
   "file_extension": ".py",
   "mimetype": "text/x-python",
   "name": "python",
   "nbconvert_exporter": "python",
   "pygments_lexer": "ipython3",
   "version": "3.8.5"
  }
 },
 "nbformat": 4,
 "nbformat_minor": 2
}
