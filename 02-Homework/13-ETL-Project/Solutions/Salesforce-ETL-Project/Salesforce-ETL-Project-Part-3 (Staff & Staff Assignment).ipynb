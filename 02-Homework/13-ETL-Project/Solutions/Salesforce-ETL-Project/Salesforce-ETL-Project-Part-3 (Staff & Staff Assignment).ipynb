{
 "cells": [
  {
   "cell_type": "markdown",
   "metadata": {},
   "source": [
    "# Salesforce ETL Project - Part 3 (Staff & Staff Assignment)"
   ]
  },
  {
   "cell_type": "code",
   "execution_count": 1,
   "metadata": {},
   "outputs": [],
   "source": [
    "#!pip install simple_salesforce\n",
    "#!pip install pymysql\n",
    "#!pip install sqlalchemy"
   ]
  },
  {
   "cell_type": "code",
   "execution_count": 2,
   "metadata": {},
   "outputs": [],
   "source": [
    "import json\n",
    "from sqlalchemy import create_engine\n",
    "import datetime as dt\n",
    "from datetime import date\n",
    "import pandas as pd\n",
    "import pymysql\n",
    "pymysql.install_as_MySQLdb()"
   ]
  },
  {
   "cell_type": "code",
   "execution_count": 3,
   "metadata": {},
   "outputs": [],
   "source": [
    "# Make sure to use your own `config.py` file. Consider ensuring that these variable names are in sync\n",
    "from config import sf_username, sf_password, sf_security_token\n",
    "from config import remote_db_endpoint, remote_db_port\n",
    "from config import remote_db_name, remote_db_user, remote_db_pwd"
   ]
  },
  {
   "cell_type": "code",
   "execution_count": 4,
   "metadata": {},
   "outputs": [],
   "source": [
    "from simple_salesforce import Salesforce\n",
    "sf = Salesforce(username=sf_username, password=sf_password, security_token=sf_security_token)"
   ]
  },
  {
   "cell_type": "code",
   "execution_count": 5,
   "metadata": {},
   "outputs": [],
   "source": [
    "engine = create_engine(f\"mysql://{remote_db_user}:{remote_db_pwd}@{remote_db_endpoint}:{remote_db_port}/{remote_db_name}\")\n",
    "conn = engine.connect()"
   ]
  },
  {
   "cell_type": "markdown",
   "metadata": {},
   "source": [
    "## Prepare ETL for the Staff data"
   ]
  },
  {
   "cell_type": "markdown",
   "metadata": {},
   "source": [
    "#### Staff table on MySQL\n",
    "![Salesforce ETL Project - MySQL Table Staff](Images/MySQL_Table_Staff.jpg)"
   ]
  },
  {
   "cell_type": "code",
   "execution_count": 6,
   "metadata": {},
   "outputs": [
    {
     "data": {
      "text/html": [
       "<div>\n",
       "<style scoped>\n",
       "    .dataframe tbody tr th:only-of-type {\n",
       "        vertical-align: middle;\n",
       "    }\n",
       "\n",
       "    .dataframe tbody tr th {\n",
       "        vertical-align: top;\n",
       "    }\n",
       "\n",
       "    .dataframe thead th {\n",
       "        text-align: right;\n",
       "    }\n",
       "</style>\n",
       "<table border=\"1\" class=\"dataframe\">\n",
       "  <thead>\n",
       "    <tr style=\"text-align: right;\">\n",
       "      <th></th>\n",
       "      <th>ID_Staff</th>\n",
       "      <th>EmployeeID</th>\n",
       "      <th>LastName</th>\n",
       "      <th>FirstName</th>\n",
       "      <th>MiddleName</th>\n",
       "      <th>BirthDate</th>\n",
       "    </tr>\n",
       "  </thead>\n",
       "  <tbody>\n",
       "    <tr>\n",
       "      <th>0</th>\n",
       "      <td>1</td>\n",
       "      <td>000184220</td>\n",
       "      <td>Luongo</td>\n",
       "      <td>Darick</td>\n",
       "      <td>Nico</td>\n",
       "      <td>1995-07-05</td>\n",
       "    </tr>\n",
       "    <tr>\n",
       "      <th>1</th>\n",
       "      <td>2</td>\n",
       "      <td>000130109</td>\n",
       "      <td>Sanford</td>\n",
       "      <td>Gemini</td>\n",
       "      <td>Blair</td>\n",
       "      <td>1992-04-22</td>\n",
       "    </tr>\n",
       "    <tr>\n",
       "      <th>2</th>\n",
       "      <td>3</td>\n",
       "      <td>000160655</td>\n",
       "      <td>Williams</td>\n",
       "      <td>Dartanion</td>\n",
       "      <td>De Angelo</td>\n",
       "      <td>1993-05-21</td>\n",
       "    </tr>\n",
       "    <tr>\n",
       "      <th>3</th>\n",
       "      <td>4</td>\n",
       "      <td>000159108</td>\n",
       "      <td>Rodney</td>\n",
       "      <td>Heather</td>\n",
       "      <td>Nicole</td>\n",
       "      <td>1994-06-07</td>\n",
       "    </tr>\n",
       "  </tbody>\n",
       "</table>\n",
       "</div>"
      ],
      "text/plain": [
       "   ID_Staff EmployeeID  LastName  FirstName MiddleName   BirthDate\n",
       "0         1  000184220    Luongo     Darick       Nico  1995-07-05\n",
       "1         2  000130109   Sanford     Gemini      Blair  1992-04-22\n",
       "2         3  000160655  Williams  Dartanion  De Angelo  1993-05-21\n",
       "3         4  000159108    Rodney    Heather     Nicole  1994-06-07"
      ]
     },
     "execution_count": 6,
     "metadata": {},
     "output_type": "execute_result"
    }
   ],
   "source": [
    "staff_data_df = pd.read_sql(\"SELECT * FROM staff\", conn)\n",
    "staff_data_df.head()"
   ]
  },
  {
   "cell_type": "code",
   "execution_count": 7,
   "metadata": {},
   "outputs": [
    {
     "data": {
      "text/html": [
       "<div>\n",
       "<style scoped>\n",
       "    .dataframe tbody tr th:only-of-type {\n",
       "        vertical-align: middle;\n",
       "    }\n",
       "\n",
       "    .dataframe tbody tr th {\n",
       "        vertical-align: top;\n",
       "    }\n",
       "\n",
       "    .dataframe thead th {\n",
       "        text-align: right;\n",
       "    }\n",
       "</style>\n",
       "<table border=\"1\" class=\"dataframe\">\n",
       "  <thead>\n",
       "    <tr style=\"text-align: right;\">\n",
       "      <th></th>\n",
       "      <th>ID_Staff</th>\n",
       "      <th>EmployeeID</th>\n",
       "      <th>LastName</th>\n",
       "      <th>FirstName</th>\n",
       "      <th>MiddleName</th>\n",
       "      <th>BirthDate</th>\n",
       "    </tr>\n",
       "  </thead>\n",
       "  <tbody>\n",
       "    <tr>\n",
       "      <th>0</th>\n",
       "      <td>1</td>\n",
       "      <td>000184220</td>\n",
       "      <td>Luongo</td>\n",
       "      <td>Darick</td>\n",
       "      <td>Nico</td>\n",
       "      <td>1995-07-05</td>\n",
       "    </tr>\n",
       "    <tr>\n",
       "      <th>1</th>\n",
       "      <td>2</td>\n",
       "      <td>000130109</td>\n",
       "      <td>Sanford</td>\n",
       "      <td>Gemini</td>\n",
       "      <td>Blair</td>\n",
       "      <td>1992-04-22</td>\n",
       "    </tr>\n",
       "    <tr>\n",
       "      <th>2</th>\n",
       "      <td>3</td>\n",
       "      <td>000160655</td>\n",
       "      <td>Williams</td>\n",
       "      <td>Dartanion</td>\n",
       "      <td>De Angelo</td>\n",
       "      <td>1993-05-21</td>\n",
       "    </tr>\n",
       "    <tr>\n",
       "      <th>3</th>\n",
       "      <td>4</td>\n",
       "      <td>000159108</td>\n",
       "      <td>Rodney</td>\n",
       "      <td>Heather</td>\n",
       "      <td>Nicole</td>\n",
       "      <td>1994-06-07</td>\n",
       "    </tr>\n",
       "  </tbody>\n",
       "</table>\n",
       "</div>"
      ],
      "text/plain": [
       "   ID_Staff EmployeeID  LastName  FirstName MiddleName   BirthDate\n",
       "0         1  000184220    Luongo     Darick       Nico  1995-07-05\n",
       "1         2  000130109   Sanford     Gemini      Blair  1992-04-22\n",
       "2         3  000160655  Williams  Dartanion  De Angelo  1993-05-21\n",
       "3         4  000159108    Rodney    Heather     Nicole  1994-06-07"
      ]
     },
     "execution_count": 7,
     "metadata": {},
     "output_type": "execute_result"
    }
   ],
   "source": [
    "# staff_data_df\n",
    "staff_data_df['BirthDate'] = pd.to_datetime(staff_data_df['BirthDate']).dt.date\n",
    "staff_data_df.head()"
   ]
  },
  {
   "cell_type": "code",
   "execution_count": 8,
   "metadata": {},
   "outputs": [
    {
     "data": {
      "text/html": [
       "<div>\n",
       "<style scoped>\n",
       "    .dataframe tbody tr th:only-of-type {\n",
       "        vertical-align: middle;\n",
       "    }\n",
       "\n",
       "    .dataframe tbody tr th {\n",
       "        vertical-align: top;\n",
       "    }\n",
       "\n",
       "    .dataframe thead th {\n",
       "        text-align: right;\n",
       "    }\n",
       "</style>\n",
       "<table border=\"1\" class=\"dataframe\">\n",
       "  <thead>\n",
       "    <tr style=\"text-align: right;\">\n",
       "      <th></th>\n",
       "      <th>ID_Staff</th>\n",
       "      <th>Employee_ID__c</th>\n",
       "      <th>Last_Name__c</th>\n",
       "      <th>First_Name__c</th>\n",
       "      <th>Middle_Name__c</th>\n",
       "      <th>Birth_Date__c</th>\n",
       "    </tr>\n",
       "  </thead>\n",
       "  <tbody>\n",
       "    <tr>\n",
       "      <th>0</th>\n",
       "      <td>1</td>\n",
       "      <td>000184220</td>\n",
       "      <td>Luongo</td>\n",
       "      <td>Darick</td>\n",
       "      <td>Nico</td>\n",
       "      <td>1995-07-05</td>\n",
       "    </tr>\n",
       "    <tr>\n",
       "      <th>1</th>\n",
       "      <td>2</td>\n",
       "      <td>000130109</td>\n",
       "      <td>Sanford</td>\n",
       "      <td>Gemini</td>\n",
       "      <td>Blair</td>\n",
       "      <td>1992-04-22</td>\n",
       "    </tr>\n",
       "    <tr>\n",
       "      <th>2</th>\n",
       "      <td>3</td>\n",
       "      <td>000160655</td>\n",
       "      <td>Williams</td>\n",
       "      <td>Dartanion</td>\n",
       "      <td>De Angelo</td>\n",
       "      <td>1993-05-21</td>\n",
       "    </tr>\n",
       "    <tr>\n",
       "      <th>3</th>\n",
       "      <td>4</td>\n",
       "      <td>000159108</td>\n",
       "      <td>Rodney</td>\n",
       "      <td>Heather</td>\n",
       "      <td>Nicole</td>\n",
       "      <td>1994-06-07</td>\n",
       "    </tr>\n",
       "  </tbody>\n",
       "</table>\n",
       "</div>"
      ],
      "text/plain": [
       "   ID_Staff Employee_ID__c Last_Name__c First_Name__c Middle_Name__c  \\\n",
       "0         1      000184220       Luongo        Darick           Nico   \n",
       "1         2      000130109      Sanford        Gemini          Blair   \n",
       "2         3      000160655     Williams     Dartanion      De Angelo   \n",
       "3         4      000159108       Rodney       Heather         Nicole   \n",
       "\n",
       "  Birth_Date__c  \n",
       "0    1995-07-05  \n",
       "1    1992-04-22  \n",
       "2    1993-05-21  \n",
       "3    1994-06-07  "
      ]
     },
     "execution_count": 8,
     "metadata": {},
     "output_type": "execute_result"
    }
   ],
   "source": [
    "staff_data_df.rename(columns={\n",
    "    'EmployeeID':'Employee_ID__c',\n",
    "    'FirstName':'First_Name__c',\n",
    "    'LastName':'Last_Name__c',\n",
    "    'MiddleName':'Middle_Name__c',\n",
    "    'BirthDate':'Birth_Date__c'    \n",
    "}, inplace=True)\n",
    "staff_data_df.head()"
   ]
  },
  {
   "cell_type": "code",
   "execution_count": 9,
   "metadata": {},
   "outputs": [
    {
     "data": {
      "text/html": [
       "<div>\n",
       "<style scoped>\n",
       "    .dataframe tbody tr th:only-of-type {\n",
       "        vertical-align: middle;\n",
       "    }\n",
       "\n",
       "    .dataframe tbody tr th {\n",
       "        vertical-align: top;\n",
       "    }\n",
       "\n",
       "    .dataframe thead th {\n",
       "        text-align: right;\n",
       "    }\n",
       "</style>\n",
       "<table border=\"1\" class=\"dataframe\">\n",
       "  <thead>\n",
       "    <tr style=\"text-align: right;\">\n",
       "      <th></th>\n",
       "      <th>Employee_ID__c</th>\n",
       "      <th>Last_Name__c</th>\n",
       "      <th>First_Name__c</th>\n",
       "      <th>Middle_Name__c</th>\n",
       "      <th>Birth_Date__c</th>\n",
       "    </tr>\n",
       "  </thead>\n",
       "  <tbody>\n",
       "    <tr>\n",
       "      <th>0</th>\n",
       "      <td>000184220</td>\n",
       "      <td>Luongo</td>\n",
       "      <td>Darick</td>\n",
       "      <td>Nico</td>\n",
       "      <td>1995-07-05</td>\n",
       "    </tr>\n",
       "    <tr>\n",
       "      <th>1</th>\n",
       "      <td>000130109</td>\n",
       "      <td>Sanford</td>\n",
       "      <td>Gemini</td>\n",
       "      <td>Blair</td>\n",
       "      <td>1992-04-22</td>\n",
       "    </tr>\n",
       "    <tr>\n",
       "      <th>2</th>\n",
       "      <td>000160655</td>\n",
       "      <td>Williams</td>\n",
       "      <td>Dartanion</td>\n",
       "      <td>De Angelo</td>\n",
       "      <td>1993-05-21</td>\n",
       "    </tr>\n",
       "    <tr>\n",
       "      <th>3</th>\n",
       "      <td>000159108</td>\n",
       "      <td>Rodney</td>\n",
       "      <td>Heather</td>\n",
       "      <td>Nicole</td>\n",
       "      <td>1994-06-07</td>\n",
       "    </tr>\n",
       "  </tbody>\n",
       "</table>\n",
       "</div>"
      ],
      "text/plain": [
       "  Employee_ID__c Last_Name__c First_Name__c Middle_Name__c Birth_Date__c\n",
       "0      000184220       Luongo        Darick           Nico    1995-07-05\n",
       "1      000130109      Sanford        Gemini          Blair    1992-04-22\n",
       "2      000160655     Williams     Dartanion      De Angelo    1993-05-21\n",
       "3      000159108       Rodney       Heather         Nicole    1994-06-07"
      ]
     },
     "execution_count": 9,
     "metadata": {},
     "output_type": "execute_result"
    }
   ],
   "source": [
    "staff_data_df = staff_data_df[['Employee_ID__c', 'Last_Name__c', 'First_Name__c', 'Middle_Name__c', 'Birth_Date__c']]\n",
    "staff_data_df.head()"
   ]
  },
  {
   "cell_type": "code",
   "execution_count": 10,
   "metadata": {},
   "outputs": [
    {
     "data": {
      "text/plain": [
       "[{'Employee_ID__c': '000184220',\n",
       "  'Last_Name__c': 'Luongo',\n",
       "  'First_Name__c': 'Darick',\n",
       "  'Middle_Name__c': 'Nico',\n",
       "  'Birth_Date__c': datetime.date(1995, 7, 5)},\n",
       " {'Employee_ID__c': '000130109',\n",
       "  'Last_Name__c': 'Sanford',\n",
       "  'First_Name__c': 'Gemini',\n",
       "  'Middle_Name__c': 'Blair',\n",
       "  'Birth_Date__c': datetime.date(1992, 4, 22)},\n",
       " {'Employee_ID__c': '000160655',\n",
       "  'Last_Name__c': 'Williams',\n",
       "  'First_Name__c': 'Dartanion',\n",
       "  'Middle_Name__c': 'De Angelo',\n",
       "  'Birth_Date__c': datetime.date(1993, 5, 21)},\n",
       " {'Employee_ID__c': '000159108',\n",
       "  'Last_Name__c': 'Rodney',\n",
       "  'First_Name__c': 'Heather',\n",
       "  'Middle_Name__c': 'Nicole',\n",
       "  'Birth_Date__c': datetime.date(1994, 6, 7)}]"
      ]
     },
     "execution_count": 10,
     "metadata": {},
     "output_type": "execute_result"
    }
   ],
   "source": [
    "staff_data_records = staff_data_df.to_dict('records')\n",
    "staff_data_records"
   ]
  },
  {
   "cell_type": "markdown",
   "metadata": {},
   "source": [
    "## Insert `Staff` Records into Salesforce"
   ]
  },
  {
   "cell_type": "code",
   "execution_count": 11,
   "metadata": {},
   "outputs": [],
   "source": [
    "for rec in staff_data_records:\n",
    "   \n",
    "    record = {\n",
    "        'Employee_ID__c': rec['Employee_ID__c'],\n",
    "        'Last_Name__c': rec['Last_Name__c'],\n",
    "        'First_Name__c': rec['First_Name__c'],\n",
    "        'Middle_Name__c': rec['Middle_Name__c'],\n",
    "        'Birth_Date__c': str(rec['Birth_Date__c'])\n",
    "    }\n",
    "    \n",
    "    try:\n",
    "        sf.Staff__c.create(record)\n",
    "    except Exception as e:\n",
    "        print(e)"
   ]
  },
  {
   "cell_type": "code",
   "execution_count": 12,
   "metadata": {},
   "outputs": [],
   "source": [
    "# Bulk \n",
    "#sf.bulk.Staff__c.insert(staff_data_records)"
   ]
  },
  {
   "cell_type": "markdown",
   "metadata": {},
   "source": [
    "#### Staff object / table on Salesforce\n",
    "![Salesforce ETL Project - Salesforce Object Staff](Images/SF_Object_Staff.jpg)"
   ]
  },
  {
   "cell_type": "markdown",
   "metadata": {},
   "source": [
    "## Create Staff Lookup Table\n",
    "You will use this later to crosswalk the course code with the primary key from the `Course` table\n",
    "\n",
    "It is important to note that we will be querying **Salesforce** to retrieve the record IDs "
   ]
  },
  {
   "cell_type": "code",
   "execution_count": 13,
   "metadata": {},
   "outputs": [
    {
     "data": {
      "text/plain": [
       "[{'ID_Employee__c': 'a034x000002jl5i', 'Employee_ID__c': '000130109'},\n",
       " {'ID_Employee__c': 'a034x000002jl9U', 'Employee_ID__c': '000159108'},\n",
       " {'ID_Employee__c': 'a034x000002jl9K', 'Employee_ID__c': '000184220'},\n",
       " {'ID_Employee__c': 'a034x000002jl9P', 'Employee_ID__c': '000160655'}]"
      ]
     },
     "execution_count": 13,
     "metadata": {},
     "output_type": "execute_result"
    }
   ],
   "source": [
    "staff_lookup_list = []\n",
    "\n",
    "# The `Name` column in the primary key in Salesforce objects\n",
    "# The Salesforce query language is called SOQL \n",
    "data = sf.query_all_iter(\"SELECT Employee_ID__c, Name FROM Staff__c\")\n",
    "for row in data:\n",
    "    rec = {\n",
    "        'ID_Employee__c': row['Name'], # this is a critical line of code\n",
    "        'Employee_ID__c': row['Employee_ID__c']\n",
    "    }\n",
    "    staff_lookup_list.append(rec)\n",
    "    \n",
    "staff_lookup_list"
   ]
  },
  {
   "cell_type": "code",
   "execution_count": 14,
   "metadata": {},
   "outputs": [
    {
     "data": {
      "text/html": [
       "<div>\n",
       "<style scoped>\n",
       "    .dataframe tbody tr th:only-of-type {\n",
       "        vertical-align: middle;\n",
       "    }\n",
       "\n",
       "    .dataframe tbody tr th {\n",
       "        vertical-align: top;\n",
       "    }\n",
       "\n",
       "    .dataframe thead th {\n",
       "        text-align: right;\n",
       "    }\n",
       "</style>\n",
       "<table border=\"1\" class=\"dataframe\">\n",
       "  <thead>\n",
       "    <tr style=\"text-align: right;\">\n",
       "      <th></th>\n",
       "      <th>ID_Employee__c</th>\n",
       "      <th>Employee_ID__c</th>\n",
       "    </tr>\n",
       "  </thead>\n",
       "  <tbody>\n",
       "    <tr>\n",
       "      <th>0</th>\n",
       "      <td>a034x000002jl5i</td>\n",
       "      <td>000130109</td>\n",
       "    </tr>\n",
       "    <tr>\n",
       "      <th>1</th>\n",
       "      <td>a034x000002jl9U</td>\n",
       "      <td>000159108</td>\n",
       "    </tr>\n",
       "    <tr>\n",
       "      <th>2</th>\n",
       "      <td>a034x000002jl9K</td>\n",
       "      <td>000184220</td>\n",
       "    </tr>\n",
       "    <tr>\n",
       "      <th>3</th>\n",
       "      <td>a034x000002jl9P</td>\n",
       "      <td>000160655</td>\n",
       "    </tr>\n",
       "  </tbody>\n",
       "</table>\n",
       "</div>"
      ],
      "text/plain": [
       "    ID_Employee__c Employee_ID__c\n",
       "0  a034x000002jl5i      000130109\n",
       "1  a034x000002jl9U      000159108\n",
       "2  a034x000002jl9K      000184220\n",
       "3  a034x000002jl9P      000160655"
      ]
     },
     "execution_count": 14,
     "metadata": {},
     "output_type": "execute_result"
    }
   ],
   "source": [
    "staff_lookup_df = pd.DataFrame(staff_lookup_list)\n",
    "staff_lookup_df"
   ]
  },
  {
   "cell_type": "markdown",
   "metadata": {},
   "source": [
    "## Create Class & Course Joint Lookup Table\n",
    "\n",
    "It is important to note that we will be querying **Salesforce** to retrieve the record IDs "
   ]
  },
  {
   "cell_type": "code",
   "execution_count": 15,
   "metadata": {},
   "outputs": [
    {
     "data": {
      "text/plain": [
       "[{'ID_Course__c': 'a004x000003VTav', 'Course_Code__c': 'BC-UIUX'},\n",
       " {'ID_Course__c': 'a004x000003VTbF', 'Course_Code__c': 'CIS-430'},\n",
       " {'ID_Course__c': 'a004x000003VTb5', 'Course_Code__c': 'CIS-405'},\n",
       " {'ID_Course__c': 'a004x000003VTbA', 'Course_Code__c': 'CIS-438'},\n",
       " {'ID_Course__c': 'a004x000003VTal', 'Course_Code__c': 'BC-DATAVIZ'},\n",
       " {'ID_Course__c': 'a004x000003VTb0', 'Course_Code__c': 'CIS-349'},\n",
       " {'ID_Course__c': 'a004x000003VTbK', 'Course_Code__c': 'CIS-435'},\n",
       " {'ID_Course__c': 'a004x000003VTaq', 'Course_Code__c': 'BC-WEBDEV'}]"
      ]
     },
     "execution_count": 15,
     "metadata": {},
     "output_type": "execute_result"
    }
   ],
   "source": [
    "course_lookup_list = []\n",
    "\n",
    "# The `Name` column in the primary key in Salesforce objects\n",
    "# The Salesforce query language is called SOQL \n",
    "data = sf.query_all_iter(\"SELECT Course_Code__c, Name FROM Course__c\")\n",
    "for row in data:\n",
    "    rec = {\n",
    "        'ID_Course__c': row['Name'], # this is a critical line of code\n",
    "        'Course_Code__c': row['Course_Code__c'] # this is not necessary even though it's also a unique identifier\n",
    "    }\n",
    "    course_lookup_list.append(rec)\n",
    "    \n",
    "course_lookup_list"
   ]
  },
  {
   "cell_type": "code",
   "execution_count": 16,
   "metadata": {},
   "outputs": [
    {
     "data": {
      "text/html": [
       "<div>\n",
       "<style scoped>\n",
       "    .dataframe tbody tr th:only-of-type {\n",
       "        vertical-align: middle;\n",
       "    }\n",
       "\n",
       "    .dataframe tbody tr th {\n",
       "        vertical-align: top;\n",
       "    }\n",
       "\n",
       "    .dataframe thead th {\n",
       "        text-align: right;\n",
       "    }\n",
       "</style>\n",
       "<table border=\"1\" class=\"dataframe\">\n",
       "  <thead>\n",
       "    <tr style=\"text-align: right;\">\n",
       "      <th></th>\n",
       "      <th>ID_Course__c</th>\n",
       "      <th>Course_Code__c</th>\n",
       "    </tr>\n",
       "  </thead>\n",
       "  <tbody>\n",
       "    <tr>\n",
       "      <th>0</th>\n",
       "      <td>a004x000003VTav</td>\n",
       "      <td>BC-UIUX</td>\n",
       "    </tr>\n",
       "    <tr>\n",
       "      <th>1</th>\n",
       "      <td>a004x000003VTbF</td>\n",
       "      <td>CIS-430</td>\n",
       "    </tr>\n",
       "    <tr>\n",
       "      <th>2</th>\n",
       "      <td>a004x000003VTb5</td>\n",
       "      <td>CIS-405</td>\n",
       "    </tr>\n",
       "    <tr>\n",
       "      <th>3</th>\n",
       "      <td>a004x000003VTbA</td>\n",
       "      <td>CIS-438</td>\n",
       "    </tr>\n",
       "    <tr>\n",
       "      <th>4</th>\n",
       "      <td>a004x000003VTal</td>\n",
       "      <td>BC-DATAVIZ</td>\n",
       "    </tr>\n",
       "    <tr>\n",
       "      <th>5</th>\n",
       "      <td>a004x000003VTb0</td>\n",
       "      <td>CIS-349</td>\n",
       "    </tr>\n",
       "    <tr>\n",
       "      <th>6</th>\n",
       "      <td>a004x000003VTbK</td>\n",
       "      <td>CIS-435</td>\n",
       "    </tr>\n",
       "    <tr>\n",
       "      <th>7</th>\n",
       "      <td>a004x000003VTaq</td>\n",
       "      <td>BC-WEBDEV</td>\n",
       "    </tr>\n",
       "  </tbody>\n",
       "</table>\n",
       "</div>"
      ],
      "text/plain": [
       "      ID_Course__c Course_Code__c\n",
       "0  a004x000003VTav        BC-UIUX\n",
       "1  a004x000003VTbF        CIS-430\n",
       "2  a004x000003VTb5        CIS-405\n",
       "3  a004x000003VTbA        CIS-438\n",
       "4  a004x000003VTal     BC-DATAVIZ\n",
       "5  a004x000003VTb0        CIS-349\n",
       "6  a004x000003VTbK        CIS-435\n",
       "7  a004x000003VTaq      BC-WEBDEV"
      ]
     },
     "execution_count": 16,
     "metadata": {},
     "output_type": "execute_result"
    }
   ],
   "source": [
    "course_lookup_df = pd.DataFrame(course_lookup_list)\n",
    "course_lookup_df"
   ]
  },
  {
   "cell_type": "code",
   "execution_count": 17,
   "metadata": {},
   "outputs": [
    {
     "data": {
      "text/plain": [
       "[{'ID_Class__c': 'a014x000008WraB',\n",
       "  'ID_Course__c': 'a004x000003VTal',\n",
       "  'Section__c': 'GWDC201805DATA3'},\n",
       " {'ID_Class__c': 'a014x000008Wra6',\n",
       "  'ID_Course__c': 'a004x000003VTal',\n",
       "  'Section__c': 'GWU-ARL-DATA-PT-09-0'},\n",
       " {'ID_Class__c': 'a014x000008WraL',\n",
       "  'ID_Course__c': 'a004x000003VTav',\n",
       "  'Section__c': 'GWARL201905UIUX3'},\n",
       " {'ID_Class__c': 'a014x000008WraG',\n",
       "  'ID_Course__c': 'a004x000003VTaq',\n",
       "  'Section__c': 'GWARL201905WEB3'}]"
      ]
     },
     "execution_count": 17,
     "metadata": {},
     "output_type": "execute_result"
    }
   ],
   "source": [
    "class_lookup_list = []\n",
    "\n",
    "# The `Name` column in the primary key in Salesforce objects\n",
    "# The Salesforce query language is called SOQL \n",
    "data = sf.query_all_iter(\"SELECT Name, ID_Course__c, Section__c FROM Class__c\")\n",
    "\n",
    "for row in data:  # NEED TO UNDERSTAND WHY DART USED RECORDS HERE; PREVIOUSLY, WE HAD NOT\n",
    "    rec = {\n",
    "        'ID_Class__c': row['Name'], # this is a critical line of code\n",
    "        'ID_Course__c': row['ID_Course__c'],\n",
    "        'Section__c': row['Section__c']\n",
    "    }\n",
    "    class_lookup_list.append(rec)\n",
    "    \n",
    "# Temporary workaround to strip last 3 characters from ID_Course__c\n",
    "for rec in class_lookup_list:\n",
    "    rec['ID_Course__c'] = rec['ID_Course__c'][:-3]\n",
    "    \n",
    "class_lookup_list"
   ]
  },
  {
   "cell_type": "code",
   "execution_count": 18,
   "metadata": {},
   "outputs": [
    {
     "data": {
      "text/html": [
       "<div>\n",
       "<style scoped>\n",
       "    .dataframe tbody tr th:only-of-type {\n",
       "        vertical-align: middle;\n",
       "    }\n",
       "\n",
       "    .dataframe tbody tr th {\n",
       "        vertical-align: top;\n",
       "    }\n",
       "\n",
       "    .dataframe thead th {\n",
       "        text-align: right;\n",
       "    }\n",
       "</style>\n",
       "<table border=\"1\" class=\"dataframe\">\n",
       "  <thead>\n",
       "    <tr style=\"text-align: right;\">\n",
       "      <th></th>\n",
       "      <th>ID_Class__c</th>\n",
       "      <th>ID_Course__c</th>\n",
       "      <th>Section__c</th>\n",
       "    </tr>\n",
       "  </thead>\n",
       "  <tbody>\n",
       "    <tr>\n",
       "      <th>0</th>\n",
       "      <td>a014x000008WraB</td>\n",
       "      <td>a004x000003VTal</td>\n",
       "      <td>GWDC201805DATA3</td>\n",
       "    </tr>\n",
       "    <tr>\n",
       "      <th>1</th>\n",
       "      <td>a014x000008Wra6</td>\n",
       "      <td>a004x000003VTal</td>\n",
       "      <td>GWU-ARL-DATA-PT-09-0</td>\n",
       "    </tr>\n",
       "    <tr>\n",
       "      <th>2</th>\n",
       "      <td>a014x000008WraL</td>\n",
       "      <td>a004x000003VTav</td>\n",
       "      <td>GWARL201905UIUX3</td>\n",
       "    </tr>\n",
       "    <tr>\n",
       "      <th>3</th>\n",
       "      <td>a014x000008WraG</td>\n",
       "      <td>a004x000003VTaq</td>\n",
       "      <td>GWARL201905WEB3</td>\n",
       "    </tr>\n",
       "  </tbody>\n",
       "</table>\n",
       "</div>"
      ],
      "text/plain": [
       "       ID_Class__c     ID_Course__c            Section__c\n",
       "0  a014x000008WraB  a004x000003VTal       GWDC201805DATA3\n",
       "1  a014x000008Wra6  a004x000003VTal  GWU-ARL-DATA-PT-09-0\n",
       "2  a014x000008WraL  a004x000003VTav      GWARL201905UIUX3\n",
       "3  a014x000008WraG  a004x000003VTaq       GWARL201905WEB3"
      ]
     },
     "execution_count": 18,
     "metadata": {},
     "output_type": "execute_result"
    }
   ],
   "source": [
    "class_lookup_df = pd.DataFrame(class_lookup_list)\n",
    "class_lookup_df"
   ]
  },
  {
   "cell_type": "code",
   "execution_count": 19,
   "metadata": {},
   "outputs": [
    {
     "data": {
      "text/html": [
       "<div>\n",
       "<style scoped>\n",
       "    .dataframe tbody tr th:only-of-type {\n",
       "        vertical-align: middle;\n",
       "    }\n",
       "\n",
       "    .dataframe tbody tr th {\n",
       "        vertical-align: top;\n",
       "    }\n",
       "\n",
       "    .dataframe thead th {\n",
       "        text-align: right;\n",
       "    }\n",
       "</style>\n",
       "<table border=\"1\" class=\"dataframe\">\n",
       "  <thead>\n",
       "    <tr style=\"text-align: right;\">\n",
       "      <th></th>\n",
       "      <th>ID_Course__c</th>\n",
       "      <th>Course_Code__c</th>\n",
       "      <th>ID_Class__c</th>\n",
       "      <th>Section__c</th>\n",
       "    </tr>\n",
       "  </thead>\n",
       "  <tbody>\n",
       "    <tr>\n",
       "      <th>0</th>\n",
       "      <td>a004x000003VTav</td>\n",
       "      <td>BC-UIUX</td>\n",
       "      <td>a014x000008WraL</td>\n",
       "      <td>GWARL201905UIUX3</td>\n",
       "    </tr>\n",
       "    <tr>\n",
       "      <th>1</th>\n",
       "      <td>a004x000003VTal</td>\n",
       "      <td>BC-DATAVIZ</td>\n",
       "      <td>a014x000008WraB</td>\n",
       "      <td>GWDC201805DATA3</td>\n",
       "    </tr>\n",
       "    <tr>\n",
       "      <th>2</th>\n",
       "      <td>a004x000003VTal</td>\n",
       "      <td>BC-DATAVIZ</td>\n",
       "      <td>a014x000008Wra6</td>\n",
       "      <td>GWU-ARL-DATA-PT-09-0</td>\n",
       "    </tr>\n",
       "    <tr>\n",
       "      <th>3</th>\n",
       "      <td>a004x000003VTaq</td>\n",
       "      <td>BC-WEBDEV</td>\n",
       "      <td>a014x000008WraG</td>\n",
       "      <td>GWARL201905WEB3</td>\n",
       "    </tr>\n",
       "  </tbody>\n",
       "</table>\n",
       "</div>"
      ],
      "text/plain": [
       "      ID_Course__c Course_Code__c      ID_Class__c            Section__c\n",
       "0  a004x000003VTav        BC-UIUX  a014x000008WraL      GWARL201905UIUX3\n",
       "1  a004x000003VTal     BC-DATAVIZ  a014x000008WraB       GWDC201805DATA3\n",
       "2  a004x000003VTal     BC-DATAVIZ  a014x000008Wra6  GWU-ARL-DATA-PT-09-0\n",
       "3  a004x000003VTaq      BC-WEBDEV  a014x000008WraG       GWARL201905WEB3"
      ]
     },
     "execution_count": 19,
     "metadata": {},
     "output_type": "execute_result"
    }
   ],
   "source": [
    "class_course_joint_lookup_df = pd.merge(course_lookup_df, class_lookup_df, on=['ID_Course__c'])\n",
    "class_course_joint_lookup_df"
   ]
  },
  {
   "cell_type": "markdown",
   "metadata": {},
   "source": [
    "## Create Staff Assignment DataFrame"
   ]
  },
  {
   "cell_type": "markdown",
   "metadata": {},
   "source": [
    "#### Staff Assignment table on MySQL\n",
    "![Salesforce ETL Project - MySQL Table Staff Assignment](Images/MySQL_Table_Staff_Assignment.jpg)"
   ]
  },
  {
   "cell_type": "code",
   "execution_count": 20,
   "metadata": {},
   "outputs": [
    {
     "data": {
      "text/html": [
       "<div>\n",
       "<style scoped>\n",
       "    .dataframe tbody tr th:only-of-type {\n",
       "        vertical-align: middle;\n",
       "    }\n",
       "\n",
       "    .dataframe tbody tr th {\n",
       "        vertical-align: top;\n",
       "    }\n",
       "\n",
       "    .dataframe thead th {\n",
       "        text-align: right;\n",
       "    }\n",
       "</style>\n",
       "<table border=\"1\" class=\"dataframe\">\n",
       "  <thead>\n",
       "    <tr style=\"text-align: right;\">\n",
       "      <th></th>\n",
       "      <th>EmployeeID</th>\n",
       "      <th>ID_Course</th>\n",
       "      <th>CourseCode</th>\n",
       "      <th>Section</th>\n",
       "      <th>ID_StaffAssignment</th>\n",
       "      <th>ID_Staff</th>\n",
       "      <th>ID_Class</th>\n",
       "      <th>Role</th>\n",
       "      <th>StartDate</th>\n",
       "      <th>EndDate</th>\n",
       "    </tr>\n",
       "  </thead>\n",
       "  <tbody>\n",
       "    <tr>\n",
       "      <th>0</th>\n",
       "      <td>000184220</td>\n",
       "      <td>1</td>\n",
       "      <td>BC-DATAVIZ</td>\n",
       "      <td>GWU-ARL-DATA-PT-09-0</td>\n",
       "      <td>1</td>\n",
       "      <td>1</td>\n",
       "      <td>1</td>\n",
       "      <td>Teacher Assistant</td>\n",
       "      <td>2020-09-16</td>\n",
       "      <td>None</td>\n",
       "    </tr>\n",
       "    <tr>\n",
       "      <th>1</th>\n",
       "      <td>000159108</td>\n",
       "      <td>1</td>\n",
       "      <td>BC-DATAVIZ</td>\n",
       "      <td>GWU-ARL-DATA-PT-09-0</td>\n",
       "      <td>2</td>\n",
       "      <td>4</td>\n",
       "      <td>1</td>\n",
       "      <td>Teacher Assistant</td>\n",
       "      <td>2020-09-16</td>\n",
       "      <td>None</td>\n",
       "    </tr>\n",
       "    <tr>\n",
       "      <th>2</th>\n",
       "      <td>000160655</td>\n",
       "      <td>1</td>\n",
       "      <td>BC-DATAVIZ</td>\n",
       "      <td>GWU-ARL-DATA-PT-09-0</td>\n",
       "      <td>3</td>\n",
       "      <td>3</td>\n",
       "      <td>1</td>\n",
       "      <td>Instructor</td>\n",
       "      <td>2020-09-16</td>\n",
       "      <td>None</td>\n",
       "    </tr>\n",
       "  </tbody>\n",
       "</table>\n",
       "</div>"
      ],
      "text/plain": [
       "  EmployeeID  ID_Course  CourseCode               Section  ID_StaffAssignment  \\\n",
       "0  000184220          1  BC-DATAVIZ  GWU-ARL-DATA-PT-09-0                   1   \n",
       "1  000159108          1  BC-DATAVIZ  GWU-ARL-DATA-PT-09-0                   2   \n",
       "2  000160655          1  BC-DATAVIZ  GWU-ARL-DATA-PT-09-0                   3   \n",
       "\n",
       "   ID_Staff  ID_Class               Role   StartDate EndDate  \n",
       "0         1         1  Teacher Assistant  2020-09-16    None  \n",
       "1         4         1  Teacher Assistant  2020-09-16    None  \n",
       "2         3         1         Instructor  2020-09-16    None  "
      ]
     },
     "execution_count": 20,
     "metadata": {},
     "output_type": "execute_result"
    }
   ],
   "source": [
    "# Query the `Class Participant` table from MySQL\n",
    "query = '''\n",
    "    SELECT \n",
    "        st.EmployeeID,        \n",
    "        cl.ID_Course,\n",
    "        co.CourseCode,\n",
    "        cl.Section,\n",
    "        sa.*\n",
    "    FROM \n",
    "        staffassignment sa\n",
    "        INNER JOIN staff st\n",
    "        ON sa.ID_Staff = st.ID_Staff\n",
    "        INNER JOIN class cl\n",
    "        ON sa.ID_Class = cl.ID_Class\n",
    "        INNER JOIN course co\n",
    "        ON cl.ID_Course = co.ID_Course\n",
    "\n",
    "'''\n",
    "\n",
    "staff_assignment_data_df = pd.read_sql(query, conn)\n",
    "staff_assignment_data_df.head()"
   ]
  },
  {
   "cell_type": "code",
   "execution_count": 21,
   "metadata": {},
   "outputs": [
    {
     "data": {
      "text/html": [
       "<div>\n",
       "<style scoped>\n",
       "    .dataframe tbody tr th:only-of-type {\n",
       "        vertical-align: middle;\n",
       "    }\n",
       "\n",
       "    .dataframe tbody tr th {\n",
       "        vertical-align: top;\n",
       "    }\n",
       "\n",
       "    .dataframe thead th {\n",
       "        text-align: right;\n",
       "    }\n",
       "</style>\n",
       "<table border=\"1\" class=\"dataframe\">\n",
       "  <thead>\n",
       "    <tr style=\"text-align: right;\">\n",
       "      <th></th>\n",
       "      <th>EmployeeID</th>\n",
       "      <th>CourseCode</th>\n",
       "      <th>Section</th>\n",
       "      <th>Role</th>\n",
       "      <th>StartDate</th>\n",
       "      <th>EndDate</th>\n",
       "    </tr>\n",
       "  </thead>\n",
       "  <tbody>\n",
       "    <tr>\n",
       "      <th>0</th>\n",
       "      <td>000184220</td>\n",
       "      <td>BC-DATAVIZ</td>\n",
       "      <td>GWU-ARL-DATA-PT-09-0</td>\n",
       "      <td>Teacher Assistant</td>\n",
       "      <td>2020-09-16</td>\n",
       "      <td>None</td>\n",
       "    </tr>\n",
       "    <tr>\n",
       "      <th>1</th>\n",
       "      <td>000159108</td>\n",
       "      <td>BC-DATAVIZ</td>\n",
       "      <td>GWU-ARL-DATA-PT-09-0</td>\n",
       "      <td>Teacher Assistant</td>\n",
       "      <td>2020-09-16</td>\n",
       "      <td>None</td>\n",
       "    </tr>\n",
       "    <tr>\n",
       "      <th>2</th>\n",
       "      <td>000160655</td>\n",
       "      <td>BC-DATAVIZ</td>\n",
       "      <td>GWU-ARL-DATA-PT-09-0</td>\n",
       "      <td>Instructor</td>\n",
       "      <td>2020-09-16</td>\n",
       "      <td>None</td>\n",
       "    </tr>\n",
       "  </tbody>\n",
       "</table>\n",
       "</div>"
      ],
      "text/plain": [
       "  EmployeeID  CourseCode               Section               Role   StartDate  \\\n",
       "0  000184220  BC-DATAVIZ  GWU-ARL-DATA-PT-09-0  Teacher Assistant  2020-09-16   \n",
       "1  000159108  BC-DATAVIZ  GWU-ARL-DATA-PT-09-0  Teacher Assistant  2020-09-16   \n",
       "2  000160655  BC-DATAVIZ  GWU-ARL-DATA-PT-09-0         Instructor  2020-09-16   \n",
       "\n",
       "  EndDate  \n",
       "0    None  \n",
       "1    None  \n",
       "2    None  "
      ]
     },
     "execution_count": 21,
     "metadata": {},
     "output_type": "execute_result"
    }
   ],
   "source": [
    "staff_assignment_data_df.drop(['ID_Course', 'ID_StaffAssignment', 'ID_Staff', 'ID_Class'], axis=1, inplace=True)\n",
    "\n",
    "staff_assignment_data_df.head()"
   ]
  },
  {
   "cell_type": "code",
   "execution_count": 22,
   "metadata": {},
   "outputs": [
    {
     "data": {
      "text/html": [
       "<div>\n",
       "<style scoped>\n",
       "    .dataframe tbody tr th:only-of-type {\n",
       "        vertical-align: middle;\n",
       "    }\n",
       "\n",
       "    .dataframe tbody tr th {\n",
       "        vertical-align: top;\n",
       "    }\n",
       "\n",
       "    .dataframe thead th {\n",
       "        text-align: right;\n",
       "    }\n",
       "</style>\n",
       "<table border=\"1\" class=\"dataframe\">\n",
       "  <thead>\n",
       "    <tr style=\"text-align: right;\">\n",
       "      <th></th>\n",
       "      <th>Employee_ID__c</th>\n",
       "      <th>Course_Code__c</th>\n",
       "      <th>Section__c</th>\n",
       "      <th>Role__c</th>\n",
       "      <th>Start_Date__c</th>\n",
       "      <th>End_Date__c</th>\n",
       "    </tr>\n",
       "  </thead>\n",
       "  <tbody>\n",
       "    <tr>\n",
       "      <th>0</th>\n",
       "      <td>000184220</td>\n",
       "      <td>BC-DATAVIZ</td>\n",
       "      <td>GWU-ARL-DATA-PT-09-0</td>\n",
       "      <td>Teacher Assistant</td>\n",
       "      <td>2020-09-16</td>\n",
       "      <td>None</td>\n",
       "    </tr>\n",
       "    <tr>\n",
       "      <th>1</th>\n",
       "      <td>000159108</td>\n",
       "      <td>BC-DATAVIZ</td>\n",
       "      <td>GWU-ARL-DATA-PT-09-0</td>\n",
       "      <td>Teacher Assistant</td>\n",
       "      <td>2020-09-16</td>\n",
       "      <td>None</td>\n",
       "    </tr>\n",
       "    <tr>\n",
       "      <th>2</th>\n",
       "      <td>000160655</td>\n",
       "      <td>BC-DATAVIZ</td>\n",
       "      <td>GWU-ARL-DATA-PT-09-0</td>\n",
       "      <td>Instructor</td>\n",
       "      <td>2020-09-16</td>\n",
       "      <td>None</td>\n",
       "    </tr>\n",
       "  </tbody>\n",
       "</table>\n",
       "</div>"
      ],
      "text/plain": [
       "  Employee_ID__c Course_Code__c            Section__c            Role__c  \\\n",
       "0      000184220     BC-DATAVIZ  GWU-ARL-DATA-PT-09-0  Teacher Assistant   \n",
       "1      000159108     BC-DATAVIZ  GWU-ARL-DATA-PT-09-0  Teacher Assistant   \n",
       "2      000160655     BC-DATAVIZ  GWU-ARL-DATA-PT-09-0         Instructor   \n",
       "\n",
       "  Start_Date__c End_Date__c  \n",
       "0    2020-09-16        None  \n",
       "1    2020-09-16        None  \n",
       "2    2020-09-16        None  "
      ]
     },
     "execution_count": 22,
     "metadata": {},
     "output_type": "execute_result"
    }
   ],
   "source": [
    "staff_assignment_data_df.rename(columns={\n",
    "    'EmployeeID':'Employee_ID__c',    \n",
    "    'Section': 'Section__c',\n",
    "    'CourseCode': 'Course_Code__c',\n",
    "    'Role': 'Role__c',\n",
    "    'StartDate':'Start_Date__c',\n",
    "    'EndDate':'End_Date__c'\n",
    "}, inplace=True)\n",
    "\n",
    "staff_assignment_data_df.head()"
   ]
  },
  {
   "cell_type": "markdown",
   "metadata": {},
   "source": [
    "## Join the Staff Assignment DataFrame with the Course & Class Joint Lookup Table\n",
    "This join is necessary to successfully lookup the foreign key for the Class table "
   ]
  },
  {
   "cell_type": "code",
   "execution_count": 23,
   "metadata": {},
   "outputs": [
    {
     "data": {
      "text/html": [
       "<div>\n",
       "<style scoped>\n",
       "    .dataframe tbody tr th:only-of-type {\n",
       "        vertical-align: middle;\n",
       "    }\n",
       "\n",
       "    .dataframe tbody tr th {\n",
       "        vertical-align: top;\n",
       "    }\n",
       "\n",
       "    .dataframe thead th {\n",
       "        text-align: right;\n",
       "    }\n",
       "</style>\n",
       "<table border=\"1\" class=\"dataframe\">\n",
       "  <thead>\n",
       "    <tr style=\"text-align: right;\">\n",
       "      <th></th>\n",
       "      <th>Employee_ID__c</th>\n",
       "      <th>Course_Code__c</th>\n",
       "      <th>Section__c</th>\n",
       "      <th>Role__c</th>\n",
       "      <th>Start_Date__c</th>\n",
       "      <th>End_Date__c</th>\n",
       "      <th>ID_Course__c</th>\n",
       "      <th>ID_Class__c</th>\n",
       "    </tr>\n",
       "  </thead>\n",
       "  <tbody>\n",
       "    <tr>\n",
       "      <th>0</th>\n",
       "      <td>000184220</td>\n",
       "      <td>BC-DATAVIZ</td>\n",
       "      <td>GWU-ARL-DATA-PT-09-0</td>\n",
       "      <td>Teacher Assistant</td>\n",
       "      <td>2020-09-16</td>\n",
       "      <td>None</td>\n",
       "      <td>a004x000003VTal</td>\n",
       "      <td>a014x000008Wra6</td>\n",
       "    </tr>\n",
       "    <tr>\n",
       "      <th>1</th>\n",
       "      <td>000159108</td>\n",
       "      <td>BC-DATAVIZ</td>\n",
       "      <td>GWU-ARL-DATA-PT-09-0</td>\n",
       "      <td>Teacher Assistant</td>\n",
       "      <td>2020-09-16</td>\n",
       "      <td>None</td>\n",
       "      <td>a004x000003VTal</td>\n",
       "      <td>a014x000008Wra6</td>\n",
       "    </tr>\n",
       "    <tr>\n",
       "      <th>2</th>\n",
       "      <td>000160655</td>\n",
       "      <td>BC-DATAVIZ</td>\n",
       "      <td>GWU-ARL-DATA-PT-09-0</td>\n",
       "      <td>Instructor</td>\n",
       "      <td>2020-09-16</td>\n",
       "      <td>None</td>\n",
       "      <td>a004x000003VTal</td>\n",
       "      <td>a014x000008Wra6</td>\n",
       "    </tr>\n",
       "  </tbody>\n",
       "</table>\n",
       "</div>"
      ],
      "text/plain": [
       "  Employee_ID__c Course_Code__c            Section__c            Role__c  \\\n",
       "0      000184220     BC-DATAVIZ  GWU-ARL-DATA-PT-09-0  Teacher Assistant   \n",
       "1      000159108     BC-DATAVIZ  GWU-ARL-DATA-PT-09-0  Teacher Assistant   \n",
       "2      000160655     BC-DATAVIZ  GWU-ARL-DATA-PT-09-0         Instructor   \n",
       "\n",
       "  Start_Date__c End_Date__c     ID_Course__c      ID_Class__c  \n",
       "0    2020-09-16        None  a004x000003VTal  a014x000008Wra6  \n",
       "1    2020-09-16        None  a004x000003VTal  a014x000008Wra6  \n",
       "2    2020-09-16        None  a004x000003VTal  a014x000008Wra6  "
      ]
     },
     "execution_count": 23,
     "metadata": {},
     "output_type": "execute_result"
    }
   ],
   "source": [
    "staff_assignment_data_df1 = pd.merge(staff_assignment_data_df, class_course_joint_lookup_df, on=['Section__c', 'Course_Code__c'])\n",
    "\n",
    "staff_assignment_data_df1.head()"
   ]
  },
  {
   "cell_type": "markdown",
   "metadata": {},
   "source": [
    "## Join the Staff Assignment DataFrame with the Staff lookup table\n",
    "This join is necessary to successfully lookup the foreign key for the Course table "
   ]
  },
  {
   "cell_type": "code",
   "execution_count": 24,
   "metadata": {},
   "outputs": [
    {
     "data": {
      "text/html": [
       "<div>\n",
       "<style scoped>\n",
       "    .dataframe tbody tr th:only-of-type {\n",
       "        vertical-align: middle;\n",
       "    }\n",
       "\n",
       "    .dataframe tbody tr th {\n",
       "        vertical-align: top;\n",
       "    }\n",
       "\n",
       "    .dataframe thead th {\n",
       "        text-align: right;\n",
       "    }\n",
       "</style>\n",
       "<table border=\"1\" class=\"dataframe\">\n",
       "  <thead>\n",
       "    <tr style=\"text-align: right;\">\n",
       "      <th></th>\n",
       "      <th>Employee_ID__c</th>\n",
       "      <th>Course_Code__c</th>\n",
       "      <th>Section__c</th>\n",
       "      <th>Role__c</th>\n",
       "      <th>Start_Date__c</th>\n",
       "      <th>End_Date__c</th>\n",
       "      <th>ID_Course__c</th>\n",
       "      <th>ID_Class__c</th>\n",
       "      <th>ID_Employee__c</th>\n",
       "    </tr>\n",
       "  </thead>\n",
       "  <tbody>\n",
       "    <tr>\n",
       "      <th>0</th>\n",
       "      <td>000184220</td>\n",
       "      <td>BC-DATAVIZ</td>\n",
       "      <td>GWU-ARL-DATA-PT-09-0</td>\n",
       "      <td>Teacher Assistant</td>\n",
       "      <td>2020-09-16</td>\n",
       "      <td>None</td>\n",
       "      <td>a004x000003VTal</td>\n",
       "      <td>a014x000008Wra6</td>\n",
       "      <td>a034x000002jl9K</td>\n",
       "    </tr>\n",
       "    <tr>\n",
       "      <th>1</th>\n",
       "      <td>000159108</td>\n",
       "      <td>BC-DATAVIZ</td>\n",
       "      <td>GWU-ARL-DATA-PT-09-0</td>\n",
       "      <td>Teacher Assistant</td>\n",
       "      <td>2020-09-16</td>\n",
       "      <td>None</td>\n",
       "      <td>a004x000003VTal</td>\n",
       "      <td>a014x000008Wra6</td>\n",
       "      <td>a034x000002jl9U</td>\n",
       "    </tr>\n",
       "    <tr>\n",
       "      <th>2</th>\n",
       "      <td>000160655</td>\n",
       "      <td>BC-DATAVIZ</td>\n",
       "      <td>GWU-ARL-DATA-PT-09-0</td>\n",
       "      <td>Instructor</td>\n",
       "      <td>2020-09-16</td>\n",
       "      <td>None</td>\n",
       "      <td>a004x000003VTal</td>\n",
       "      <td>a014x000008Wra6</td>\n",
       "      <td>a034x000002jl9P</td>\n",
       "    </tr>\n",
       "  </tbody>\n",
       "</table>\n",
       "</div>"
      ],
      "text/plain": [
       "  Employee_ID__c Course_Code__c            Section__c            Role__c  \\\n",
       "0      000184220     BC-DATAVIZ  GWU-ARL-DATA-PT-09-0  Teacher Assistant   \n",
       "1      000159108     BC-DATAVIZ  GWU-ARL-DATA-PT-09-0  Teacher Assistant   \n",
       "2      000160655     BC-DATAVIZ  GWU-ARL-DATA-PT-09-0         Instructor   \n",
       "\n",
       "  Start_Date__c End_Date__c     ID_Course__c      ID_Class__c   ID_Employee__c  \n",
       "0    2020-09-16        None  a004x000003VTal  a014x000008Wra6  a034x000002jl9K  \n",
       "1    2020-09-16        None  a004x000003VTal  a014x000008Wra6  a034x000002jl9U  \n",
       "2    2020-09-16        None  a004x000003VTal  a014x000008Wra6  a034x000002jl9P  "
      ]
     },
     "execution_count": 24,
     "metadata": {},
     "output_type": "execute_result"
    }
   ],
   "source": [
    "staff_assignment_data_df2 = pd.merge(staff_assignment_data_df1, staff_lookup_df, on=['Employee_ID__c'])\n",
    "\n",
    "staff_assignment_data_df2.head()"
   ]
  },
  {
   "cell_type": "code",
   "execution_count": 25,
   "metadata": {},
   "outputs": [
    {
     "data": {
      "text/html": [
       "<div>\n",
       "<style scoped>\n",
       "    .dataframe tbody tr th:only-of-type {\n",
       "        vertical-align: middle;\n",
       "    }\n",
       "\n",
       "    .dataframe tbody tr th {\n",
       "        vertical-align: top;\n",
       "    }\n",
       "\n",
       "    .dataframe thead th {\n",
       "        text-align: right;\n",
       "    }\n",
       "</style>\n",
       "<table border=\"1\" class=\"dataframe\">\n",
       "  <thead>\n",
       "    <tr style=\"text-align: right;\">\n",
       "      <th></th>\n",
       "      <th>Role__c</th>\n",
       "      <th>Start_Date__c</th>\n",
       "      <th>End_Date__c</th>\n",
       "      <th>ID_Class__c</th>\n",
       "      <th>ID_Employee__c</th>\n",
       "    </tr>\n",
       "  </thead>\n",
       "  <tbody>\n",
       "    <tr>\n",
       "      <th>0</th>\n",
       "      <td>Teacher Assistant</td>\n",
       "      <td>2020-09-16</td>\n",
       "      <td>None</td>\n",
       "      <td>a014x000008Wra6</td>\n",
       "      <td>a034x000002jl9K</td>\n",
       "    </tr>\n",
       "    <tr>\n",
       "      <th>1</th>\n",
       "      <td>Teacher Assistant</td>\n",
       "      <td>2020-09-16</td>\n",
       "      <td>None</td>\n",
       "      <td>a014x000008Wra6</td>\n",
       "      <td>a034x000002jl9U</td>\n",
       "    </tr>\n",
       "    <tr>\n",
       "      <th>2</th>\n",
       "      <td>Instructor</td>\n",
       "      <td>2020-09-16</td>\n",
       "      <td>None</td>\n",
       "      <td>a014x000008Wra6</td>\n",
       "      <td>a034x000002jl9P</td>\n",
       "    </tr>\n",
       "  </tbody>\n",
       "</table>\n",
       "</div>"
      ],
      "text/plain": [
       "             Role__c Start_Date__c End_Date__c      ID_Class__c  \\\n",
       "0  Teacher Assistant    2020-09-16        None  a014x000008Wra6   \n",
       "1  Teacher Assistant    2020-09-16        None  a014x000008Wra6   \n",
       "2         Instructor    2020-09-16        None  a014x000008Wra6   \n",
       "\n",
       "    ID_Employee__c  \n",
       "0  a034x000002jl9K  \n",
       "1  a034x000002jl9U  \n",
       "2  a034x000002jl9P  "
      ]
     },
     "execution_count": 25,
     "metadata": {},
     "output_type": "execute_result"
    }
   ],
   "source": [
    "staff_assignment_data_df = staff_assignment_data_df2\n",
    "staff_assignment_data_df.drop(['Employee_ID__c', 'Course_Code__c', 'Section__c', 'ID_Course__c'], axis=1, inplace=True)\n",
    "\n",
    "staff_assignment_data_df.head()"
   ]
  },
  {
   "cell_type": "code",
   "execution_count": 26,
   "metadata": {},
   "outputs": [
    {
     "data": {
      "text/plain": [
       "[{'Role__c': 'Teacher Assistant',\n",
       "  'Start_Date__c': datetime.date(2020, 9, 16),\n",
       "  'End_Date__c': None,\n",
       "  'ID_Class__c': 'a014x000008Wra6',\n",
       "  'ID_Employee__c': 'a034x000002jl9K'},\n",
       " {'Role__c': 'Teacher Assistant',\n",
       "  'Start_Date__c': datetime.date(2020, 9, 16),\n",
       "  'End_Date__c': None,\n",
       "  'ID_Class__c': 'a014x000008Wra6',\n",
       "  'ID_Employee__c': 'a034x000002jl9U'},\n",
       " {'Role__c': 'Instructor',\n",
       "  'Start_Date__c': datetime.date(2020, 9, 16),\n",
       "  'End_Date__c': None,\n",
       "  'ID_Class__c': 'a014x000008Wra6',\n",
       "  'ID_Employee__c': 'a034x000002jl9P'}]"
      ]
     },
     "execution_count": 26,
     "metadata": {},
     "output_type": "execute_result"
    }
   ],
   "source": [
    "staff_assignment_data_records = staff_assignment_data_df.to_dict(orient='records')\n",
    "staff_assignment_data_records"
   ]
  },
  {
   "cell_type": "markdown",
   "metadata": {},
   "source": [
    "## Insert `Staff Assignment` Records into Salesforce"
   ]
  },
  {
   "cell_type": "code",
   "execution_count": 28,
   "metadata": {},
   "outputs": [],
   "source": [
    "for rec in staff_assignment_data_records:\n",
    " \n",
    "    record = {\n",
    "        'ID_Class__c': rec['ID_Class__c'],\n",
    "        'ID_Employee__c': rec['ID_Employee__c'],\n",
    "        'Role__c': rec['Role__c'],\n",
    "        'Start_Date__c': str(rec['Start_Date__c']),\n",
    "        'End_Date__c': rec['End_Date__c'],\n",
    "    }\n",
    "    \n",
    "    try:\n",
    "        sf.Staff_Assignment__C.create(record)\n",
    "    except Exception as e:\n",
    "        print(e)"
   ]
  },
  {
   "cell_type": "code",
   "execution_count": null,
   "metadata": {},
   "outputs": [],
   "source": [
    "# Bulk \n",
    "#sf.bulk.Staff_Assignment__c.insert(staff_assignment_data_records)"
   ]
  },
  {
   "cell_type": "markdown",
   "metadata": {},
   "source": [
    "#### Staff Assignment object / table on Salesforce\n",
    "![Salesforce ETL Project - Salesforce Object Staff Assignment](Images/SF_Object_Staff_Assignment.jpg)"
   ]
  },
  {
   "cell_type": "markdown",
   "metadata": {},
   "source": [
    "## Example of Deleting Records\n",
    "\n",
    "Select the IDs of the records first and then process the results.\n",
    "\n",
    "Ultimately, you want a list of IDs in the end.\n"
   ]
  },
  {
   "cell_type": "markdown",
   "metadata": {},
   "source": [
    "#### Delete Staff object/table records in Salesforce databootcamp/gwsis"
   ]
  },
  {
   "cell_type": "code",
   "execution_count": null,
   "metadata": {},
   "outputs": [],
   "source": [
    "staff_records = sf.query(\"SELECT Id FROM Staff__c\")\n",
    "recs_to_delete = [{'Id': r['Id']} for r in staff_records['records']]\n",
    "recs_to_delete"
   ]
  },
  {
   "cell_type": "code",
   "execution_count": null,
   "metadata": {},
   "outputs": [],
   "source": [
    "#sf.bulk.Course__c.delete(recs_to_delete)"
   ]
  },
  {
   "cell_type": "code",
   "execution_count": null,
   "metadata": {},
   "outputs": [],
   "source": [
    "for rec in recs_to_delete:\n",
    "    try:\n",
    "        sf.Staff__c.delete(rec['Id'])\n",
    "    except Exception as e:\n",
    "        print(e)"
   ]
  },
  {
   "cell_type": "markdown",
   "metadata": {},
   "source": [
    "#### Delete Staff Assignment object/table records in Salesforce databootcamp/gwsis"
   ]
  },
  {
   "cell_type": "code",
   "execution_count": null,
   "metadata": {},
   "outputs": [],
   "source": [
    "staff_assignment_records = sf.query(\"SELECT Id FROM Staff_Assignment__c\")\n",
    "recs_to_delete = [{'Id': r['Id']} for r in staff_assignment_records['records']]\n",
    "recs_to_delete"
   ]
  },
  {
   "cell_type": "code",
   "execution_count": null,
   "metadata": {},
   "outputs": [],
   "source": [
    "#sf.bulk.Course__c.delete(recs_to_delete)"
   ]
  },
  {
   "cell_type": "code",
   "execution_count": null,
   "metadata": {},
   "outputs": [],
   "source": [
    "for rec in recs_to_delete:\n",
    "    try:\n",
    "        sf.Staff_Assignment__c.delete(rec['Id'])\n",
    "    except Exception as e:\n",
    "        print(e)"
   ]
  },
  {
   "cell_type": "code",
   "execution_count": null,
   "metadata": {},
   "outputs": [],
   "source": []
  }
 ],
 "metadata": {
  "kernelspec": {
   "display_name": "Python 3",
   "language": "python",
   "name": "python3"
  },
  "language_info": {
   "codemirror_mode": {
    "name": "ipython",
    "version": 3
   },
   "file_extension": ".py",
   "mimetype": "text/x-python",
   "name": "python",
   "nbconvert_exporter": "python",
   "pygments_lexer": "ipython3",
   "version": "3.8.5"
  }
 },
 "nbformat": 4,
 "nbformat_minor": 2
}
