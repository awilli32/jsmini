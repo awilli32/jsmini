{
 "cells": [
  {
   "cell_type": "code",
   "execution_count": 8,
   "metadata": {},
   "outputs": [
    {
     "data": {
      "text/html": [
       "<div>\n",
       "<style scoped>\n",
       "    .dataframe tbody tr th:only-of-type {\n",
       "        vertical-align: middle;\n",
       "    }\n",
       "\n",
       "    .dataframe tbody tr th {\n",
       "        vertical-align: top;\n",
       "    }\n",
       "\n",
       "    .dataframe thead th {\n",
       "        text-align: right;\n",
       "    }\n",
       "</style>\n",
       "<table border=\"1\" class=\"dataframe\">\n",
       "  <thead>\n",
       "    <tr style=\"text-align: right;\">\n",
       "      <th></th>\n",
       "      <th>0</th>\n",
       "      <th>1</th>\n",
       "      <th>2</th>\n",
       "      <th>3</th>\n",
       "      <th>4</th>\n",
       "      <th>5</th>\n",
       "    </tr>\n",
       "  </thead>\n",
       "  <tbody>\n",
       "    <tr>\n",
       "      <th>1</th>\n",
       "      <td>Alejandra</td>\n",
       "      <td>NaN</td>\n",
       "      <td>NaN</td>\n",
       "      <td>NaN</td>\n",
       "      <td>NaN</td>\n",
       "      <td>NaN</td>\n",
       "    </tr>\n",
       "    <tr>\n",
       "      <th>2</th>\n",
       "      <td>Anthony</td>\n",
       "      <td>Brooke</td>\n",
       "      <td>Renier</td>\n",
       "      <td>Tsegaye</td>\n",
       "      <td>Sandra</td>\n",
       "      <td>NaN</td>\n",
       "    </tr>\n",
       "    <tr>\n",
       "      <th>3</th>\n",
       "      <td>Adrian</td>\n",
       "      <td>Christina</td>\n",
       "      <td>Fraol</td>\n",
       "      <td>Henry</td>\n",
       "      <td>Marilou</td>\n",
       "      <td>Sam</td>\n",
       "    </tr>\n",
       "  </tbody>\n",
       "</table>\n",
       "</div>"
      ],
      "text/plain": [
       "           0          1       2        3        4    5\n",
       "1  Alejandra        NaN     NaN      NaN      NaN  NaN\n",
       "2    Anthony     Brooke  Renier  Tsegaye   Sandra  NaN\n",
       "3     Adrian  Christina   Fraol    Henry  Marilou  Sam"
      ]
     },
     "execution_count": 8,
     "metadata": {},
     "output_type": "execute_result"
    }
   ],
   "source": [
    "import random\n",
    "import pandas as pd\n",
    "\n",
    "students = ['Adrian','Alejandra','Anthony','Brooke',\n",
    "            'Christina','Fraol','Henry','Marilou',\n",
    "            'Renier','Sam','Sandra','Tsegaye']\n",
    "\n",
    "assigned = [False for s in students]\n",
    "\n",
    "group_size = 6\n",
    "\n",
    "group_count = int(len(students)/group_size) + 1 \n",
    "# need to fix to handle uneven groups\n",
    "# the +1 is a workaround\n",
    "\n",
    "group = {(i + 1):[] for i in range(group_count)}\n",
    "\n",
    "while False in assigned:\n",
    "    index = 0\n",
    "\n",
    "    for s in students:\n",
    "\n",
    "        i = random.randint(1,group_count)\n",
    "\n",
    "        if assigned[index] == False:\n",
    "            \n",
    "            if(len(group[i]) < group_size):\n",
    "                group[i].append(s)\n",
    "                assigned[index] = True\n",
    "\n",
    "        index = index + 1\n",
    "    \n",
    "group_df = pd.DataFrame(dict([(key,pd.Series(value)) for key,value in group.items()]))\n",
    "group_df = pd.DataFrame.transpose(group_df)\n",
    "\n",
    "group_df"
   ]
  },
  {
   "cell_type": "code",
   "execution_count": 7,
   "metadata": {},
   "outputs": [
    {
     "data": {
      "text/plain": [
       "12"
      ]
     },
     "execution_count": 7,
     "metadata": {},
     "output_type": "execute_result"
    }
   ],
   "source": [
    "len(students)"
   ]
  },
  {
   "cell_type": "code",
   "execution_count": null,
   "metadata": {},
   "outputs": [],
   "source": []
  }
 ],
 "metadata": {
  "kernelspec": {
   "display_name": "Python 3",
   "language": "python",
   "name": "python3"
  },
  "language_info": {
   "codemirror_mode": {
    "name": "ipython",
    "version": 3
   },
   "file_extension": ".py",
   "mimetype": "text/x-python",
   "name": "python",
   "nbconvert_exporter": "python",
   "pygments_lexer": "ipython3",
   "version": "3.8.5"
  }
 },
 "nbformat": 4,
 "nbformat_minor": 2
}
